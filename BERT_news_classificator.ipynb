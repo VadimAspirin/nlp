{
  "nbformat": 4,
  "nbformat_minor": 0,
  "metadata": {
    "colab": {
      "name": "BERT_news_classificator.ipynb",
      "provenance": [],
      "collapsed_sections": [],
      "toc_visible": true
    },
    "kernelspec": {
      "name": "python3",
      "display_name": "Python 3"
    },
    "accelerator": "GPU"
  },
  "cells": [
    {
      "cell_type": "markdown",
      "metadata": {
        "id": "GVolNnUNGBkV"
      },
      "source": [
        "## Start"
      ]
    },
    {
      "cell_type": "code",
      "metadata": {
        "colab": {
          "base_uri": "https://localhost:8080/"
        },
        "id": "5etHEX4ZTAaH",
        "outputId": "77290444-2a8d-42b4-cd9b-1e947072a81d"
      },
      "source": [
        "!nvidia-smi"
      ],
      "execution_count": 1,
      "outputs": [
        {
          "output_type": "stream",
          "text": [
            "Fri Dec  4 18:18:32 2020       \n",
            "+-----------------------------------------------------------------------------+\n",
            "| NVIDIA-SMI 455.45.01    Driver Version: 418.67       CUDA Version: 10.1     |\n",
            "|-------------------------------+----------------------+----------------------+\n",
            "| GPU  Name        Persistence-M| Bus-Id        Disp.A | Volatile Uncorr. ECC |\n",
            "| Fan  Temp  Perf  Pwr:Usage/Cap|         Memory-Usage | GPU-Util  Compute M. |\n",
            "|                               |                      |               MIG M. |\n",
            "|===============================+======================+======================|\n",
            "|   0  Tesla T4            Off  | 00000000:00:04.0 Off |                    0 |\n",
            "| N/A   55C    P8    10W /  70W |      0MiB / 15079MiB |      0%      Default |\n",
            "|                               |                      |                 ERR! |\n",
            "+-------------------------------+----------------------+----------------------+\n",
            "                                                                               \n",
            "+-----------------------------------------------------------------------------+\n",
            "| Processes:                                                                  |\n",
            "|  GPU   GI   CI        PID   Type   Process name                  GPU Memory |\n",
            "|        ID   ID                                                   Usage      |\n",
            "|=============================================================================|\n",
            "|  No running processes found                                                 |\n",
            "+-----------------------------------------------------------------------------+\n"
          ],
          "name": "stdout"
        }
      ]
    },
    {
      "cell_type": "code",
      "metadata": {
        "id": "Lt_vVJcrTJyk"
      },
      "source": [
        "!git clone https://github.com/Samsung-IT-Academy/stepik-dl-nlp.git && pip install -r stepik-dl-nlp/requirements.txt\n",
        "import sys; sys.path.append('./stepik-dl-nlp')"
      ],
      "execution_count": null,
      "outputs": []
    },
    {
      "cell_type": "code",
      "metadata": {
        "id": "RMHsPAc_TTda",
        "colab": {
          "base_uri": "https://localhost:8080/"
        },
        "outputId": "5eb5dbda-c8ee-45f9-d585-fc43ef70bc58"
      },
      "source": [
        "!pip install pytorch-transformers"
      ],
      "execution_count": 3,
      "outputs": [
        {
          "output_type": "stream",
          "text": [
            "Successfully installed boto3-1.16.29 botocore-1.19.29 jmespath-0.10.0 pytorch-transformers-1.2.0 s3transfer-0.3.3 sacremoses-0.0.43 sentencepiece-0.1.94\n"
          ],
          "name": "stdout"
        }
      ]
    },
    {
      "cell_type": "code",
      "metadata": {
        "colab": {
          "base_uri": "https://localhost:8080/"
        },
        "id": "osqXshWyTUAG",
        "outputId": "4da8d315-9997-4aa2-a4c9-26a13de8f84b"
      },
      "source": [
        "import torch\n",
        "from torch.utils.data import TensorDataset, DataLoader, RandomSampler, SequentialSampler\n",
        "from keras.preprocessing.sequence import pad_sequences\n",
        "from sklearn.model_selection import train_test_split\n",
        "from pytorch_transformers import BertTokenizer, BertConfig\n",
        "from pytorch_transformers import AdamW, BertForSequenceClassification\n",
        "from tqdm import tqdm, trange\n",
        "import pandas as pd\n",
        "import io\n",
        "import numpy as np\n",
        "from sklearn.metrics import accuracy_score\n",
        "import matplotlib.pyplot as plt\n",
        "\n",
        "device = torch.device(\"cuda\" if torch.cuda.is_available() else \"cpu\")\n",
        "if device == 'cpu':\n",
        "    print('cpu')\n",
        "else:\n",
        "    n_gpu = torch.cuda.device_count()\n",
        "    print(torch.cuda.get_device_name(0))"
      ],
      "execution_count": 1,
      "outputs": [
        {
          "output_type": "stream",
          "text": [
            "Tesla T4\n"
          ],
          "name": "stdout"
        }
      ]
    },
    {
      "cell_type": "code",
      "metadata": {
        "id": "hPmfqQ7tZQoz"
      },
      "source": [
        "def convert_ids_to_string(tokenizer, ids):\n",
        "    return tokenizer.convert_tokens_to_string(tokenizer.convert_ids_to_tokens(ids.tolist(), True))\n",
        "\n",
        "def print_predict_result(labels, preds, tokenizer, data, labels_dict, samples_num=10):\n",
        "    _labels = np.array(labels)\n",
        "    _preds = np.array(preds)\n",
        "    idx = np.arange(len(preds))\n",
        "    pos_mask = _labels == _preds\n",
        "    neg_mask = _labels != _preds\n",
        "    pos_idx = idx[pos_mask]\n",
        "    neg_idx = idx[neg_mask]\n",
        "    pos_preds = _preds[pos_mask]\n",
        "    neg_preds = _preds[neg_mask]\n",
        "    neg_labels = _labels[neg_mask]\n",
        "    pos_shuffle_idx = np.arange(len(pos_idx))\n",
        "    neg_shuffle_idx = np.arange(len(neg_idx))\n",
        "    np.random.shuffle(pos_shuffle_idx)\n",
        "    np.random.shuffle(neg_shuffle_idx)\n",
        "    \n",
        "    for i in range(samples_num):\n",
        "        print(f\"[positive preds #{i}]\")\n",
        "        pred_idx = pos_preds[pos_shuffle_idx][i]\n",
        "        print(f\"  class: {labels_dict[pred_idx]}\")\n",
        "        text_idx = data[pos_idx[pos_shuffle_idx][i]][0]\n",
        "        print(f\"  text: {convert_ids_to_string(tokenizer, text_idx)}\")\n",
        "    \n",
        "    print()\n",
        "\n",
        "    for i in range(samples_num):\n",
        "        print(f\"[negative preds #{i}]\")\n",
        "        neg_pred_idx = neg_preds[neg_shuffle_idx][i]\n",
        "        neg_label_idx = neg_labels[neg_shuffle_idx][i]\n",
        "        print(f\"  class pred:  {labels_dict[neg_pred_idx]}\")\n",
        "        print(f\"  class label: {labels_dict[neg_label_idx]}\")\n",
        "        text_idx = data[neg_idx[neg_shuffle_idx][i]][0]\n",
        "        print(f\"  text: {convert_ids_to_string(tokenizer, text_idx)}\")"
      ],
      "execution_count": 37,
      "outputs": []
    },
    {
      "cell_type": "markdown",
      "metadata": {
        "id": "BWsCJe9kUvJf"
      },
      "source": [
        "## Download Lenta.ru dataset"
      ]
    },
    {
      "cell_type": "code",
      "metadata": {
        "id": "T3iS5u0iTUC5"
      },
      "source": [
        "!wget -O lenta-ru-news.csv.bz2 https://github.com/yutkin/Lenta.Ru-News-Dataset/releases/download/v1.1/lenta-ru-news.csv.bz2\n",
        "!bzip2 -d lenta-ru-news.csv.bz2"
      ],
      "execution_count": null,
      "outputs": []
    },
    {
      "cell_type": "code",
      "metadata": {
        "colab": {
          "base_uri": "https://localhost:8080/"
        },
        "id": "S8XX_qbKU94i",
        "outputId": "9b0ff343-fa75-4abe-c4fe-aa3c4faa04f7"
      },
      "source": [
        "import pandas as pd\n",
        "\n",
        "dataset = pd.read_csv('lenta-ru-news.csv', encoding='utf8')"
      ],
      "execution_count": 2,
      "outputs": [
        {
          "output_type": "stream",
          "text": [
            "/usr/local/lib/python3.6/dist-packages/IPython/core/interactiveshell.py:2718: DtypeWarning: Columns (3) have mixed types.Specify dtype option on import or set low_memory=False.\n",
            "  interactivity=interactivity, compiler=compiler, result=result)\n"
          ],
          "name": "stderr"
        }
      ]
    },
    {
      "cell_type": "code",
      "metadata": {
        "colab": {
          "base_uri": "https://localhost:8080/",
          "height": 289
        },
        "id": "3QWWp41RVEpP",
        "outputId": "dc9e455f-d33f-4cf3-c0d3-0cc84f0a0b71"
      },
      "source": [
        "dataset.head()"
      ],
      "execution_count": 3,
      "outputs": [
        {
          "output_type": "execute_result",
          "data": {
            "text/html": [
              "<div>\n",
              "<style scoped>\n",
              "    .dataframe tbody tr th:only-of-type {\n",
              "        vertical-align: middle;\n",
              "    }\n",
              "\n",
              "    .dataframe tbody tr th {\n",
              "        vertical-align: top;\n",
              "    }\n",
              "\n",
              "    .dataframe thead th {\n",
              "        text-align: right;\n",
              "    }\n",
              "</style>\n",
              "<table border=\"1\" class=\"dataframe\">\n",
              "  <thead>\n",
              "    <tr style=\"text-align: right;\">\n",
              "      <th></th>\n",
              "      <th>url</th>\n",
              "      <th>title</th>\n",
              "      <th>text</th>\n",
              "      <th>topic</th>\n",
              "      <th>tags</th>\n",
              "      <th>date</th>\n",
              "    </tr>\n",
              "  </thead>\n",
              "  <tbody>\n",
              "    <tr>\n",
              "      <th>0</th>\n",
              "      <td>https://lenta.ru/news/1914/09/16/hungarnn/</td>\n",
              "      <td>1914. Русские войска вступили в пределы Венгрии</td>\n",
              "      <td>Бои у Сопоцкина и Друскеник закончились отступ...</td>\n",
              "      <td>Библиотека</td>\n",
              "      <td>Первая мировая</td>\n",
              "      <td>1914/09/16</td>\n",
              "    </tr>\n",
              "    <tr>\n",
              "      <th>1</th>\n",
              "      <td>https://lenta.ru/news/1914/09/16/lermontov/</td>\n",
              "      <td>1914. Празднование столетия М.Ю. Лермонтова от...</td>\n",
              "      <td>Министерство народного просвещения, в виду про...</td>\n",
              "      <td>Библиотека</td>\n",
              "      <td>Первая мировая</td>\n",
              "      <td>1914/09/16</td>\n",
              "    </tr>\n",
              "    <tr>\n",
              "      <th>2</th>\n",
              "      <td>https://lenta.ru/news/1914/09/17/nesteroff/</td>\n",
              "      <td>1914. Das ist Nesteroff!</td>\n",
              "      <td>Штабс-капитан П. Н. Нестеров на днях, увидев в...</td>\n",
              "      <td>Библиотека</td>\n",
              "      <td>Первая мировая</td>\n",
              "      <td>1914/09/17</td>\n",
              "    </tr>\n",
              "    <tr>\n",
              "      <th>3</th>\n",
              "      <td>https://lenta.ru/news/1914/09/17/bulldogn/</td>\n",
              "      <td>1914. Бульдог-гонец под Льежем</td>\n",
              "      <td>Фотограф-корреспондент Daily Mirror рассказыва...</td>\n",
              "      <td>Библиотека</td>\n",
              "      <td>Первая мировая</td>\n",
              "      <td>1914/09/17</td>\n",
              "    </tr>\n",
              "    <tr>\n",
              "      <th>4</th>\n",
              "      <td>https://lenta.ru/news/1914/09/18/zver/</td>\n",
              "      <td>1914. Под Люблином пойман швабский зверь</td>\n",
              "      <td>Лица, приехавшие в Варшаву из Люблина, передаю...</td>\n",
              "      <td>Библиотека</td>\n",
              "      <td>Первая мировая</td>\n",
              "      <td>1914/09/18</td>\n",
              "    </tr>\n",
              "  </tbody>\n",
              "</table>\n",
              "</div>"
            ],
            "text/plain": [
              "                                           url  ...        date\n",
              "0   https://lenta.ru/news/1914/09/16/hungarnn/  ...  1914/09/16\n",
              "1  https://lenta.ru/news/1914/09/16/lermontov/  ...  1914/09/16\n",
              "2  https://lenta.ru/news/1914/09/17/nesteroff/  ...  1914/09/17\n",
              "3   https://lenta.ru/news/1914/09/17/bulldogn/  ...  1914/09/17\n",
              "4       https://lenta.ru/news/1914/09/18/zver/  ...  1914/09/18\n",
              "\n",
              "[5 rows x 6 columns]"
            ]
          },
          "metadata": {
            "tags": []
          },
          "execution_count": 3
        }
      ]
    },
    {
      "cell_type": "code",
      "metadata": {
        "id": "KCXzVL2qVE2I"
      },
      "source": [
        "samples_per_topic = 10000\n",
        "topic_labels = ['Экономика', 'Спорт', 'Культура', 'Наука и техника']"
      ],
      "execution_count": 4,
      "outputs": []
    },
    {
      "cell_type": "code",
      "metadata": {
        "id": "zklTvrfiX6o2"
      },
      "source": [
        "import unicodedata\n",
        "\n",
        "titles = []\n",
        "pre_sentences = []\n",
        "labels = []\n",
        "for i, topic_label in enumerate(topic_labels):\n",
        "    buf = dataset.loc[dataset['topic'] == topic_label]\n",
        "    titles += [unicodedata.normalize('NFKD', title) + '.' for title in buf['title'].head(samples_per_topic).tolist()]\n",
        "    pre_sentences += buf['text'].head(samples_per_topic).tolist()\n",
        "    # labels += [np.eye(len(topic_labels))[i].astype(int).tolist()] * samples_per_topic\n",
        "    labels += [[i]] * samples_per_topic"
      ],
      "execution_count": 5,
      "outputs": []
    },
    {
      "cell_type": "markdown",
      "metadata": {
        "id": "G1mUu7HsB0tW"
      },
      "source": [
        "## Full paper"
      ]
    },
    {
      "cell_type": "code",
      "metadata": {
        "id": "pvJ8blutX_75"
      },
      "source": [
        "sentences = [titles[i] + ' ' + pre_sentences[i] for i in range(len(labels))]"
      ],
      "execution_count": 6,
      "outputs": []
    },
    {
      "cell_type": "code",
      "metadata": {
        "id": "acNe0XhUsHMC"
      },
      "source": [
        "train_sentences, test_sentences, train_gt, test_gt = train_test_split(sentences, labels, test_size=0.3)"
      ],
      "execution_count": 7,
      "outputs": []
    },
    {
      "cell_type": "code",
      "metadata": {
        "colab": {
          "base_uri": "https://localhost:8080/"
        },
        "id": "-iLaMS5VskSK",
        "outputId": "eba6e583-db67-4184-c096-b647801cfe6c"
      },
      "source": [
        "print(len(train_gt), len(test_gt))"
      ],
      "execution_count": 8,
      "outputs": [
        {
          "output_type": "stream",
          "text": [
            "28000 12000\n"
          ],
          "name": "stdout"
        }
      ]
    },
    {
      "cell_type": "code",
      "metadata": {
        "id": "FG7PYhOfY_Jh"
      },
      "source": [
        "from pytorch_transformers import BertTokenizer, BertConfig\n",
        "\n",
        "tokenizer = BertTokenizer.from_pretrained('bert-base-uncased', do_lower_case=True)\n",
        "tokenized_texts = [tokenizer.tokenize(sent) for sent in train_sentences]\n",
        "\n",
        "tokenized_texts = [['[CLS]'] + i[:510] + ['[SEP]'] if len(i) > 510 else ['[CLS]'] + i + ['[SEP]'] for i in tokenized_texts]"
      ],
      "execution_count": 9,
      "outputs": []
    },
    {
      "cell_type": "code",
      "metadata": {
        "id": "Fi4aSERlcGGx"
      },
      "source": [
        "input_ids = [tokenizer.convert_tokens_to_ids(x) for x in tokenized_texts]\n",
        "input_ids = pad_sequences(\n",
        "    input_ids,\n",
        "    maxlen=512,\n",
        "    dtype=\"long\",\n",
        "    truncating=\"post\",\n",
        "    padding=\"post\"\n",
        ")\n",
        "attention_masks = [[float(i>0) for i in seq] for seq in input_ids]"
      ],
      "execution_count": 10,
      "outputs": []
    },
    {
      "cell_type": "code",
      "metadata": {
        "id": "j6A1nryZcqJA"
      },
      "source": [
        "train_inputs, validation_inputs, train_labels, validation_labels = train_test_split(\n",
        "    input_ids, \n",
        "    train_gt, \n",
        "    random_state=42,\n",
        "    test_size=0.1\n",
        ")\n",
        "\n",
        "train_masks, validation_masks, _, _ = train_test_split(\n",
        "    attention_masks,\n",
        "    input_ids,\n",
        "    random_state=42,\n",
        "    test_size=0.1\n",
        ")\n",
        "\n",
        "train_inputs = torch.tensor(train_inputs)\n",
        "train_labels = torch.tensor(train_labels)\n",
        "train_masks = torch.tensor(train_masks)\n",
        "\n",
        "validation_inputs = torch.tensor(validation_inputs)\n",
        "validation_labels = torch.tensor(validation_labels)\n",
        "validation_masks = torch.tensor(validation_masks)\n",
        "\n",
        "train_data = TensorDataset(train_inputs, train_masks, train_labels)\n",
        "train_dataloader = DataLoader(\n",
        "    train_data,\n",
        "    sampler=RandomSampler(train_data),\n",
        "    batch_size=12\n",
        ")\n",
        "\n",
        "validation_data = TensorDataset(validation_inputs, validation_masks, validation_labels)\n",
        "validation_dataloader = DataLoader(\n",
        "    validation_data,\n",
        "    sampler=SequentialSampler(validation_data),\n",
        "    batch_size=12\n",
        ")"
      ],
      "execution_count": 11,
      "outputs": []
    },
    {
      "cell_type": "code",
      "metadata": {
        "id": "bEl1ZPZBi1AY"
      },
      "source": [
        "from pytorch_transformers import AdamW, BertForSequenceClassification\n",
        "\n",
        "model = BertForSequenceClassification.from_pretrained(\"bert-base-uncased\", num_labels=len(topic_labels))\n",
        "model.cuda()\n",
        "\n",
        "param_optimizer = list(model.named_parameters())\n",
        "no_decay = ['bias', 'gamma', 'beta']\n",
        "optimizer_grouped_parameters = [\n",
        "    {'params': [p for n, p in param_optimizer if not any(nd in n for nd in no_decay)],\n",
        "     'weight_decay_rate': 0.01},\n",
        "    {'params': [p for n, p in param_optimizer if any(nd in n for nd in no_decay)],\n",
        "     'weight_decay_rate': 0.0}\n",
        "]\n",
        "\n",
        "optimizer = AdamW(optimizer_grouped_parameters, lr=2e-5)"
      ],
      "execution_count": 12,
      "outputs": []
    },
    {
      "cell_type": "code",
      "metadata": {
        "colab": {
          "base_uri": "https://localhost:8080/",
          "height": 312
        },
        "id": "iASuybFOtzIJ",
        "outputId": "0eb5e3bd-1206-4af1-cd23-4298cc501379"
      },
      "source": [
        "from IPython.display import clear_output\n",
        "\n",
        "train_loss_set = []\n",
        "train_loss = 0\n",
        "\n",
        "model.train()\n",
        "for step, batch in enumerate(train_dataloader):\n",
        "    batch = tuple(t.to(device) for t in batch)\n",
        "    b_input_ids, b_input_mask, b_labels = batch\n",
        "    \n",
        "    optimizer.zero_grad()\n",
        "    loss = model(b_input_ids, token_type_ids=None, attention_mask=b_input_mask, labels=b_labels)\n",
        "    train_loss_set.append(loss[0].item())  \n",
        "    loss[0].backward()\n",
        "    optimizer.step()\n",
        "\n",
        "    train_loss += loss[0].item()\n",
        "    \n",
        "    clear_output(True)\n",
        "    plt.plot(train_loss_set)\n",
        "    plt.title(\"Training loss\")\n",
        "    plt.xlabel(\"Batch\")\n",
        "    plt.ylabel(\"Loss\")\n",
        "    plt.show()\n",
        "print(\"Loss на обучающей выборке: {0:.5f}\".format(train_loss / len(train_dataloader)))"
      ],
      "execution_count": 13,
      "outputs": [
        {
          "output_type": "display_data",
          "data": {
            "image/png": "[encoded data removed]",
            "text/plain": [
              "<Figure size 432x288 with 1 Axes>"
            ]
          },
          "metadata": {
            "tags": [],
            "needs_background": "light"
          }
        },
        {
          "output_type": "stream",
          "text": [
            "Loss на обучающей выборке: 0.53647\n"
          ],
          "name": "stdout"
        }
      ]
    },
    {
      "cell_type": "code",
      "metadata": {
        "colab": {
          "base_uri": "https://localhost:8080/"
        },
        "id": "uv57PiuJlMlO",
        "outputId": "f6a26808-a3f4-4c58-f2d1-a3c2610e45b6"
      },
      "source": [
        "model.eval()\n",
        "valid_preds, valid_labels = [], []\n",
        "for batch in validation_dataloader: \n",
        "    batch = tuple(t.to(device) for t in batch)\n",
        "    \n",
        "    b_input_ids, b_input_mask, b_labels = batch\n",
        "    with torch.no_grad():\n",
        "        logits = model(b_input_ids, token_type_ids=None, attention_mask=b_input_mask)\n",
        "\n",
        "    logits = logits[0].detach().cpu().numpy()\n",
        "    label_ids = b_labels.to('cpu').numpy()\n",
        "    \n",
        "    batch_preds = np.argmax(logits, axis=1)\n",
        "    batch_labels = np.concatenate(label_ids)     \n",
        "    valid_preds.extend(batch_preds)\n",
        "    valid_labels.extend(batch_labels)\n",
        "\n",
        "print(\"Процент правильных предсказаний на валидационной выборке: {0:.2f}%\".format(\n",
        "    accuracy_score(valid_labels, valid_preds) * 100\n",
        "))"
      ],
      "execution_count": 14,
      "outputs": [
        {
          "output_type": "stream",
          "text": [
            "Процент правильных предсказаний на валидационной выборке: 90.96%\n"
          ],
          "name": "stdout"
        }
      ]
    },
    {
      "cell_type": "code",
      "metadata": {
        "id": "8apDDUN38Q2E"
      },
      "source": [
        "tokenized_texts = [tokenizer.tokenize(sent) for sent in test_sentences]\n",
        "tokenized_texts = [['[CLS]'] + i[:510] + ['[SEP]'] if len(i) > 510 else ['[CLS]'] + i + ['[SEP]'] for i in tokenized_texts]\n",
        "\n",
        "input_ids = [tokenizer.convert_tokens_to_ids(x) for x in tokenized_texts]\n",
        "input_ids = pad_sequences(\n",
        "    input_ids,\n",
        "    maxlen=512,\n",
        "    dtype=\"long\",\n",
        "    truncating=\"post\",\n",
        "    padding=\"post\"\n",
        ")\n",
        "attention_masks = [[float(i>0) for i in seq] for seq in input_ids]"
      ],
      "execution_count": 76,
      "outputs": []
    },
    {
      "cell_type": "code",
      "metadata": {
        "id": "ybMaFYot8bko"
      },
      "source": [
        "prediction_inputs = torch.tensor(input_ids)\n",
        "prediction_masks = torch.tensor(attention_masks)\n",
        "prediction_labels = torch.tensor(test_gt)\n",
        "\n",
        "prediction_data = TensorDataset(\n",
        "    prediction_inputs,\n",
        "    prediction_masks,\n",
        "    prediction_labels\n",
        ")\n",
        "\n",
        "prediction_dataloader = DataLoader(\n",
        "    prediction_data, \n",
        "    sampler=SequentialSampler(prediction_data),\n",
        "    batch_size=10\n",
        ")"
      ],
      "execution_count": 77,
      "outputs": []
    },
    {
      "cell_type": "code",
      "metadata": {
        "id": "nVMYugiY8bta"
      },
      "source": [
        "model.eval()\n",
        "test_preds, test_labels = [], []\n",
        "\n",
        "for batch in prediction_dataloader:\n",
        "    batch = tuple(t.to(device) for t in batch)\n",
        "    \n",
        "    b_input_ids, b_input_mask, b_labels = batch\n",
        "    with torch.no_grad():\n",
        "        logits = model(b_input_ids, token_type_ids=None, attention_mask=b_input_mask)\n",
        "\n",
        "    logits = logits[0].detach().cpu().numpy()\n",
        "    label_ids = b_labels.to('cpu').numpy()\n",
        "\n",
        "    batch_preds = np.argmax(logits, axis=1)\n",
        "    batch_labels = np.concatenate(label_ids)  \n",
        "    test_preds.extend(batch_preds)\n",
        "    test_labels.extend(batch_labels)"
      ],
      "execution_count": 78,
      "outputs": []
    },
    {
      "cell_type": "code",
      "metadata": {
        "colab": {
          "base_uri": "https://localhost:8080/"
        },
        "id": "B_yKZaWM9Xxj",
        "outputId": "5f1839a1-f824-4d41-fc1e-ff49f6c493e0"
      },
      "source": [
        "acc_score = accuracy_score(test_labels, test_preds)\n",
        "print('Процент правильных предсказаний на отложенной выборке составил: {0:.2f}%'.format(\n",
        "    acc_score*100\n",
        "))"
      ],
      "execution_count": 79,
      "outputs": [
        {
          "output_type": "stream",
          "text": [
            "Процент правильных предсказаний на отложенной выборке составил: 90.48%\n"
          ],
          "name": "stdout"
        }
      ]
    },
    {
      "cell_type": "code",
      "metadata": {
        "colab": {
          "base_uri": "https://localhost:8080/"
        },
        "id": "ZBzfouYS9Ztb",
        "outputId": "4b96aaa4-0f68-4072-e821-dea7c0c1460e"
      },
      "source": [
        "print('Неправильных предсказаний: {0}/{1}'.format(\n",
        "    (np.array(test_labels) != np.array(test_preds)).sum(),\n",
        "    len(test_labels)\n",
        "))"
      ],
      "execution_count": 80,
      "outputs": [
        {
          "output_type": "stream",
          "text": [
            "Неправильных предсказаний: 1142/12000\n"
          ],
          "name": "stdout"
        }
      ]
    },
    {
      "cell_type": "code",
      "metadata": {
        "colab": {
          "base_uri": "https://localhost:8080/"
        },
        "id": "tPn58GtajKwn",
        "outputId": "6da812de-3a08-4743-90d5-0f8ad25e5358"
      },
      "source": [
        "print_predict_result(test_labels, test_preds, tokenizer, prediction_data, topic_labels)"
      ],
      "execution_count": 81,
      "outputs": [
        {
          "output_type": "stream",
          "text": [
            "[positive preds #0]\n",
            "  class: Наука и техника\n",
            "  text: израиль поставит колумбии модернизированные истребители . корпорация israeli aerospace industries ( iai ) в ближаишее время начнет модернизацию 24 истребителеи kfir для ввс колумбии , сообщает altair . договоренность о модернизации самолетов была достигнута во время визита министра обороны колумбии хуана мануэля сантоса в израиль . стоимость контракта составляет более 200 млн . долларов . модернизированные kfir должны заменить устаревшие истребители ввс колумбии , включая mirage 5 . ранее сообщалось , что для замены устаревших самолетов колумбия приобретет подержанные американские истребители f - 16a / b . предполагается , что истребители kfir будут модерн\n",
            "[positive preds #1]\n",
            "  class: Экономика\n",
            "  text: россииские банкиры учредили фонд для лоббирования своих интересов в госдуме . ассоциация россииских банков ( арб ) учредила фонд для финансирования \" законотворческих проектов \" , сообщают \" ведомости \" . официальное название дочернеи структуры арб - \" национальныи фонд развития банковскои системы \" . он будет принимать целевые взносы от банкиров , заинтересованных в продвижении тех или иных законов . президент арб гарегин тосунян прокомментировал , что фонд создан \" преимущественно \" для разработки нормативнои базы и влияния на ее изменение , причем \" предельно прозрачно и цивилизованно \" . он призвал не смешивать лоббизм с \" повсед\n",
            "[positive preds #2]\n",
            "  class: Культура\n",
            "  text: англииских панков увековечили в зале славы рок - н - ролла . британская панк - группа sex pistols введена в американскии зал славы рок - н - ролла . официальная церемония инаугурации состоится в марте 2006 года , сообщает reuters . стив джонс , гитарист sex pistols , сказал , что тридцать лет назад он бы огорчился , узнав о том , что группа стала частью музыкального истеблишмента , \" но сеичас мне пятьдесят , и это часть игры \" . одна из самых влиятельных групп 70 - х , sex pistols просуществовали около трех лет и распались в январе 1978 года , записав всего две студииные пластинки . бас - гитарист группы сид вишес умер в 1979 году от передозировки героина . первои панк - группои , попавшеи в за\n",
            "[positive preds #3]\n",
            "  class: Спорт\n",
            "  text: команда абрамовича впервые не проиграла \" арсеналу \" . в среду в лиге чемпионов состоялись еще два матча 1 / 4 финала . лондонскии \" челси \" сыграл вничью с земляками из \" арсенала \" 1 : 1 , причем команда романа абрамовича впервые в сезоне не проиграла лидерам чемпионата англии . мадридскии \" реал \" на своем поле обыграл \" монако \" 4 : 2 , один из мячеи испанскои команды забил роналдо , проведшии свои первыи матч после травмы . \" челси \" уже трижды в этом сезоне играл с \" арсеналом \" ( два раза в чемпионате и один раз на кубок ) и во всех трех матчах потерпел поражение с одинаковым счетом 1 : 2 . матч в четвертьфинале лиги чемпионов стал первым , в котором \" син\n",
            "[positive preds #4]\n",
            "  class: Спорт\n",
            "  text: марат сафин вышел во второи раунд australian open . россиискии теннисист марат сафин , участие которого из - за травмы в открытом чемпионате австралии до последнего момента было под вопросом , все - таки вышел на корт и удачно преодолел первыи раунд турнира , сообщает агентство reuters . в поединке первого круга сафин , перед началом этих соревновании \" посеянныи \" под третьим номером , обыграл голландского теннисиста рамона слюитера - 6 : 4 , 4 : 6 , 6 : 3 , 6 : 4 . в послематчевом интервью сильнеишии россиискии теннисист заявил , что травма плеча , которую он получил в начале января на разогревочном к australian open турнире в тои же австралии , его не беспокои\n",
            "[positive preds #5]\n",
            "  class: Спорт\n",
            "  text: анастасия мыскина не смогла обыграть ким клеистерс . анастасия мыскина не смогла обыграть вторую ракетку мира бельгиику ким клеистерс в четвертьфинальном матче открытого чемпионата австралии по теннису . россииская теннисистка проиграла в двух сетах 2 : 6 , 6 : 7 ( 9 : 11 ) . теперь в полуфинале клеистерс сыграет со швеицаркои пэтти шнидер , которая в другом четвертьфинале обыграла американку лаизу реимонд . мыскина начала матч с клеистерс очень неудачно , проиграв первыи сет всего за 26 минут . бельгиика , казалось , ошеломила россиискую теннисистку своеи атакующеи игрои . однако уже в концовке первого сета стало ясно , что анаст\n",
            "[positive preds #6]\n",
            "  class: Культура\n",
            "  text: спартак мишулин попал в больницу . актер столичного театра сатиры спартак мишулин находится в кардиоцентре . его госпитализировали с предварительным диагнозом \" сердечная недостаточность \" , сообщает \" московскии комсомолец \" . бессменному исполнителю роли карлсона придется подождать несколько днеи , прежде чем будет поставлен точныи диагноз , а пока за актером наблюдают врачи . по их мнению , актеру показан отдых и витамины . спартак мишулин с 1960 года работает в театре сатиры . зрители сразу полюбили его в роли карлсона , поставленного в 1968 году и не сходящего со сцены до сих пор . также незабываем оказался немно\n",
            "[positive preds #7]\n",
            "  class: Спорт\n",
            "  text: сборные франции и уругвая сыграли вничью 0 : 0 . нулевои ничьеи закончился принципиальныи матч в группе ' ' a ' ' между командами франции и уругвая . чемпионы мира , проигравшие матч открытия команде сенегала , начали вторую встречу подряд без травмированного лидера команды зинедина зидана . задача французов осложнилась еще больше , когда на 26 - и минуте за грязно выполненныи подкат был удален полузащитник тьерри анри . несмотря на то , что подопечные тренера роже леммера остались вдесятером , они продолжали вести последовательные атаки на ворота уругваицев , и в первом таиме создали несколько опасных моментов . особенн\n",
            "[positive preds #8]\n",
            "  class: Культура\n",
            "  text: каббалисты осудили новую песню мадонны . новыи , еще неизданныи альбом мадонны уже успел подвергнуться критике со стороны израильских религиозных деятелеи . как сообщает reuters , на диске \" confessions on a dance floor \" , которыи появится на прилавках музыкальных магазинов 15 ноября , присутствует песня \" isaac \" . композиция посвящена основоположнику таиного учения каббала ицхаку лурье ( isaac luria ) , жившему в xvi веке . раввины из города цфат , ухаживающие за могилои лурьи , упрекнули певицу в нарушении табу и попытке получить дополнительную прибыль на имени каббалиста . \" евреискии закон запрещает использовать имя святого раввина ицхака лурьи с целью на\n",
            "[positive preds #9]\n",
            "  class: Спорт\n",
            "  text: арвидас сабонис вернулся в \" жальгирис \" . знаменитыи литовскии баскетболист арвидас сабонис вернулся в состав своего родного клуба \" жальгирис \" ( каунас ) , сообщает \" спорт - экспресс \" . легендарныи центровои , которыи в составе сборнои ссср завоевал золотую медаль олимпиады 1988 года в сеуле , может выити на площадку в форме \" жальгириса \" уже в эту пятницу , в матче национального чемпионата с командои \" сакалаис \" . пока ветеран , являющиися также и совладельцем каунасскои команды , пока не дал ответа на вопрос будет ли он выступать в следующем сезоне , но доиграть этот намерен твердо . по словам технического директора клуба\n",
            "\n",
            "[negative preds #0]\n",
            "  class pred:  Культура\n",
            "  class label: Наука и техника\n",
            "  text: григории перельман отказался от высшеи мировои математическои награды . россиискии ученыи - математик григории перельман отказался от высшеи мировои математическои награды - филдсовскои премии , которая была ему присуждена всемирным конгрессом математиков в мадриде , сообщает агентство afp . перельман был удостоен этои награды за вклад в геометрию , в том числе за доказательство теоремы пуанкаре - однои из семи важнеиших математических \" задач тысячелетия \" . \" я вынужден с сожалением отметить , что доктор перельман отказался от медали \" , - заявил сэр джон болл ( john ball ) , глава международного математического союза . филдсов\n",
            "[negative preds #1]\n",
            "  class pred:  Наука и техника\n",
            "  class label: Экономика\n",
            "  text: мпс заказало железнодорожных колес на 800 миллионов долларов . министерство путеи сообщения рф заключило с объединеннои металлургическои компаниеи соглашение , которое предусматривает выполнение комплекснои программы повышения качества и объемов производства цельнокатаных железнодорожных колес на выксунском металлургическом заводе ( вмз ) , сообщается на саите мпс . документ подписали министр путеи сообщения россии геннадии фадеев и генеральныи директор омк , председатель совета директоров вмз анатолии седых . основные пункты программы - создание колес нового поколения , а также увеличение ежегодного произ\n",
            "[negative preds #2]\n",
            "  class pred:  Спорт\n",
            "  class label: Культура\n",
            "  text: роман сергея кузнецова \" семь лепестков \" будут раздавать на клубных вечеринках бесплатно . издательство \" амфора \" и сеть книжных магазинов \" буквоед \" проводят акцию в поддержку книги известного журналиста и одного из ветераном русского интернета сергея кузнецова \" семь лепестков \" . издательство \" амфора \" решило провести серию вечеринок , на которых молодые люди , пришедшие потанцевать в свои любимыи клуб , вместе с билетом получат книгу сергея кузнецова \" семь лепестков \" . вечеринки проидут в санкт - петербурге , москве и лондоне . среди посетителеи клубов , посетивших четыре вечеринки из шести , будет проведен роз\n",
            "[negative preds #3]\n",
            "  class pred:  Экономика\n",
            "  class label: Культура\n",
            "  text: в романе сорокина \" лед \" порнографии не обнаружено . прокуратура москвы отказалась возбудить второе уголовное дело против писателя владимира сорокина , сообщает саит грани . ru . такое решение было принято на основании заключения эксперта , которыи заявил , что в романе \" лед \" элементы порнографии отсутствуют . ранее по итогам экспертизы другого романа сорокина - \" голубое сало \" - уже было заведено дело о распространении порнографических материалов . представители столичнои прокуратуры заявили , что уголовным делом сорокина занимается следственное управление гувд москвы , соответственно , все следственные деиствия , в\n",
            "[negative preds #4]\n",
            "  class pred:  Культура\n",
            "  class label: Наука и техника\n",
            "  text: министр обороны фрг : у германии нет военных секретов от россии . министр обороны фрг петер штрук заявил , что у германии нет военных секретов от россии , сообщает риа \" новости \" . \" отношения россии и германии в военно - техническои области очень тесные , и мы друг перед другом никаких секретов не имеем \" , - сказал министр на пресс - конференции , отвечая на вопрос , не боится ли он показывать своему россиискому коллеге самые современные образцы военнои техники . \" сам факт того , что мы находимся на этом полигоне ( letzlinger heide - лента . ру ) , которыи когда - то использовался советским союзом , а теперь нами , показывает , как изменились времена , и\n",
            "[negative preds #5]\n",
            "  class pred:  Наука и техника\n",
            "  class label: Культура\n",
            "  text: посетители лондонскои галереи увидели в работах элементы порнографии и вызвали полицию . посетители лондонскои галереи spitz увидели элементы порнографии в работах американского фотографа бетси шнаидер и обратились в полицию . прибывшим на место сотрудникам скотланд - ярда рекомендовали обратить внимание на изображения обнаженнои дочери участницы выставки , сообщает саит газеты guardian . порнографическими посетители посчитали несколько изображении девочки : новорожденнои , в возрасте 2 и 5 лет . в ожидании решения правоохранительных органов двери и окна галереи были закрыты . сама шнаидер очень удивилась беспокоиств\n",
            "[negative preds #6]\n",
            "  class pred:  Культура\n",
            "  class label: Экономика\n",
            "  text: элитныи московскии супермаркет \" эльдорадо \" переделают в бутик . супермаркет \" эльдорадо \" на большои полянке - один из самых старых и респектабельных в москве - прекратил свое существование . как сообщает в среду ежедневная деловая газета \" ведомости \" , владелец магазина вячеслав семендуев решил перепрофилировать его в бутик . сеичас бывшии супермаркет закрыт на реконструкцию . как сообщил газете неназванныи сотрудник ресторана \" эльдорадо \" , 10 августа в помещении откроется одежныи бутик image , также принадлежащии семендуеву . о том же гласит надпись на однои из витрин бывшего супермаркета . \" владелец посчитал , ч\n",
            "[negative preds #7]\n",
            "  class pred:  Наука и техника\n",
            "  class label: Экономика\n",
            "  text: сергеи кириенко грозится провести принудительныи аудит в регионах приволжья . сергеи кириенко предупредил руководителеи регионов , что проведет в них принудительныи аудит для изыскания средств на отопительныи сезон , сообщает итар - тасс . по предложению сергея кириенко , будет сформирован постоянно деиствующии координационныи совет по местному самоуправлению в приволжском федеральном округе при аппарате полномочного представителя президента . в совете будет три рабочих группы . первая заимется выработкои концепции бюджетного федерализма , вторая - жилищно - коммунальнои реформои , третья - реформои\n",
            "[negative preds #8]\n",
            "  class pred:  Наука и техника\n",
            "  class label: Культура\n",
            "  text: мартин скорсезе переквалифицировался в кинокритики . известныи режиссер мартин скорсезе стал кинокритиком . как сообщается на саите hollywood . com , скорсезе будет сотрудничать с изданием on directv , принадлежащем спутниковому телеканалу directv . создатель \" авиатора \" будет вести авторскую колонку , и высказывать свое профессиональное мнение о тех , картинах , которые будут показываться в эфире телеканала . руководство directv предложило скорсезе сотрудничество после того , как он , являясь давним подписчиком , обратился с посланием , в котором посоветовал изменить всю систему кинообозрения в компании . напомним , что 6 октября 2006 года в шир\n",
            "[negative preds #9]\n",
            "  class pred:  Экономика\n",
            "  class label: Культура\n",
            "  text: балерину волочкову не выпускают из страны . балерина анастасия волочкова не смогла выехать на гастроли во львов , сообщает \" интерфакс \" . волочкова сообщила агентству , что пограничники мешают еи покинуть страну : \" в настоящии момент я нахожусь в аэропорту \" внуково \" , откуда я намеревалась вылететь во львов на гастроли . однако представитель погранслужбы сообщил мне , что я не имею права покидать россию из - за судебного разбирательства вокруг квартиры в санкт - петербурге \" . судебные иски против балерины были поданы строительными компаниями , проводившими ремонт ее квартиры в санкт - петербурге . компании обвиняют балерин\n"
          ],
          "name": "stdout"
        }
      ]
    },
    {
      "cell_type": "markdown",
      "metadata": {
        "id": "t5rIIatFDGHn"
      },
      "source": [
        "## Title only"
      ]
    },
    {
      "cell_type": "code",
      "metadata": {
        "id": "VefDdmWQ9a3C"
      },
      "source": [
        "sentences = [titles[i] for i in range(len(labels))]"
      ],
      "execution_count": 82,
      "outputs": []
    },
    {
      "cell_type": "code",
      "metadata": {
        "id": "5QCV_MMaDNMb"
      },
      "source": [
        "train_sentences, test_sentences, train_gt, test_gt = train_test_split(sentences, labels, test_size=0.3)"
      ],
      "execution_count": 83,
      "outputs": []
    },
    {
      "cell_type": "code",
      "metadata": {
        "id": "5xQDbWuTDNUD"
      },
      "source": [
        "from pytorch_transformers import BertTokenizer, BertConfig\n",
        "\n",
        "tokenizer = BertTokenizer.from_pretrained('bert-base-uncased', do_lower_case=True)\n",
        "tokenized_texts = [tokenizer.tokenize(sent) for sent in train_sentences]\n",
        "\n",
        "tokenized_texts = [['[CLS]'] + i[:510] + ['[SEP]'] if len(i) > 510 else ['[CLS]'] + i + ['[SEP]'] for i in tokenized_texts]"
      ],
      "execution_count": 84,
      "outputs": []
    },
    {
      "cell_type": "code",
      "metadata": {
        "id": "8ToXbtWjDNR4"
      },
      "source": [
        "input_ids = [tokenizer.convert_tokens_to_ids(x) for x in tokenized_texts]\n",
        "input_ids = pad_sequences(\n",
        "    input_ids,\n",
        "    maxlen=512,\n",
        "    dtype=\"long\",\n",
        "    truncating=\"post\",\n",
        "    padding=\"post\"\n",
        ")\n",
        "attention_masks = [[float(i>0) for i in seq] for seq in input_ids]"
      ],
      "execution_count": 85,
      "outputs": []
    },
    {
      "cell_type": "code",
      "metadata": {
        "id": "WunoZ5zpDNPz"
      },
      "source": [
        "train_inputs, validation_inputs, train_labels, validation_labels = train_test_split(\n",
        "    input_ids, \n",
        "    train_gt, \n",
        "    random_state=42,\n",
        "    test_size=0.1\n",
        ")\n",
        "\n",
        "train_masks, validation_masks, _, _ = train_test_split(\n",
        "    attention_masks,\n",
        "    input_ids,\n",
        "    random_state=42,\n",
        "    test_size=0.1\n",
        ")\n",
        "\n",
        "train_inputs = torch.tensor(train_inputs)\n",
        "train_labels = torch.tensor(train_labels)\n",
        "train_masks = torch.tensor(train_masks)\n",
        "\n",
        "validation_inputs = torch.tensor(validation_inputs)\n",
        "validation_labels = torch.tensor(validation_labels)\n",
        "validation_masks = torch.tensor(validation_masks)\n",
        "\n",
        "train_data = TensorDataset(train_inputs, train_masks, train_labels)\n",
        "train_dataloader = DataLoader(\n",
        "    train_data,\n",
        "    sampler=RandomSampler(train_data),\n",
        "    batch_size=12\n",
        ")\n",
        "\n",
        "validation_data = TensorDataset(validation_inputs, validation_masks, validation_labels)\n",
        "validation_dataloader = DataLoader(\n",
        "    validation_data,\n",
        "    sampler=SequentialSampler(validation_data),\n",
        "    batch_size=12\n",
        ")"
      ],
      "execution_count": 87,
      "outputs": []
    },
    {
      "cell_type": "code",
      "metadata": {
        "id": "DjKW-sQKETRE"
      },
      "source": [
        "from pytorch_transformers import AdamW, BertForSequenceClassification\n",
        "\n",
        "model = BertForSequenceClassification.from_pretrained(\"bert-base-uncased\", num_labels=len(topic_labels))\n",
        "model.cuda()\n",
        "\n",
        "param_optimizer = list(model.named_parameters())\n",
        "no_decay = ['bias', 'gamma', 'beta']\n",
        "optimizer_grouped_parameters = [\n",
        "    {'params': [p for n, p in param_optimizer if not any(nd in n for nd in no_decay)],\n",
        "     'weight_decay_rate': 0.01},\n",
        "    {'params': [p for n, p in param_optimizer if any(nd in n for nd in no_decay)],\n",
        "     'weight_decay_rate': 0.0}\n",
        "]\n",
        "\n",
        "optimizer = AdamW(optimizer_grouped_parameters, lr=2e-5)"
      ],
      "execution_count": 88,
      "outputs": []
    },
    {
      "cell_type": "code",
      "metadata": {
        "colab": {
          "base_uri": "https://localhost:8080/",
          "height": 329
        },
        "id": "2_it-lTIDhqn",
        "outputId": "a1955dd7-9831-4bfd-faf9-94454fc8ac0c"
      },
      "source": [
        "from IPython.display import clear_output\n",
        "\n",
        "train_loss_set = []\n",
        "train_loss = 0\n",
        "\n",
        "model.train()\n",
        "for step, batch in enumerate(train_dataloader):\n",
        "    batch = tuple(t.to(device) for t in batch)\n",
        "    b_input_ids, b_input_mask, b_labels = batch\n",
        "    \n",
        "    optimizer.zero_grad()\n",
        "    loss = model(b_input_ids, token_type_ids=None, attention_mask=b_input_mask, labels=b_labels)\n",
        "    train_loss_set.append(loss[0].item())  \n",
        "    loss[0].backward()\n",
        "    optimizer.step()\n",
        "\n",
        "    train_loss += loss[0].item()\n",
        "    \n",
        "    clear_output(True)\n",
        "    plt.plot(train_loss_set)\n",
        "    plt.title(\"Training loss\")\n",
        "    plt.xlabel(\"Batch\")\n",
        "    plt.ylabel(\"Loss\")\n",
        "    plt.show()\n",
        "print(\"Loss на обучающей выборке: {0:.5f}\".format(train_loss / len(train_dataloader)))\n",
        "\n",
        "model.eval()\n",
        "valid_preds, valid_labels = [], []\n",
        "for batch in validation_dataloader: \n",
        "    batch = tuple(t.to(device) for t in batch)\n",
        "    \n",
        "    b_input_ids, b_input_mask, b_labels = batch\n",
        "    with torch.no_grad():\n",
        "        logits = model(b_input_ids, token_type_ids=None, attention_mask=b_input_mask)\n",
        "\n",
        "    logits = logits[0].detach().cpu().numpy()\n",
        "    label_ids = b_labels.to('cpu').numpy()\n",
        "    \n",
        "    batch_preds = np.argmax(logits, axis=1)\n",
        "    batch_labels = np.concatenate(label_ids)     \n",
        "    valid_preds.extend(batch_preds)\n",
        "    valid_labels.extend(batch_labels)\n",
        "\n",
        "print(\"Процент правильных предсказаний на валидационной выборке: {0:.2f}%\".format(\n",
        "    accuracy_score(valid_labels, valid_preds) * 100\n",
        "))"
      ],
      "execution_count": 89,
      "outputs": [
        {
          "output_type": "display_data",
          "data": {
            "image/png": "[encoded data removed]",
            "text/plain": [
              "<Figure size 432x288 with 1 Axes>"
            ]
          },
          "metadata": {
            "tags": [],
            "needs_background": "light"
          }
        },
        {
          "output_type": "stream",
          "text": [
            "Loss на обучающей выборке: 0.76740\n",
            "Процент правильных предсказаний на валидационной выборке: 83.57%\n"
          ],
          "name": "stdout"
        }
      ]
    },
    {
      "cell_type": "code",
      "metadata": {
        "id": "YT2D4xE0DmKf"
      },
      "source": [
        "tokenized_texts = [tokenizer.tokenize(sent) for sent in test_sentences]\n",
        "tokenized_texts = [['[CLS]'] + i[:510] + ['[SEP]'] if len(i) > 510 else ['[CLS]'] + i + ['[SEP]'] for i in tokenized_texts]\n",
        "\n",
        "input_ids = [tokenizer.convert_tokens_to_ids(x) for x in tokenized_texts]\n",
        "input_ids = pad_sequences(\n",
        "    input_ids,\n",
        "    maxlen=512,\n",
        "    dtype=\"long\",\n",
        "    truncating=\"post\",\n",
        "    padding=\"post\"\n",
        ")\n",
        "attention_masks = [[float(i>0) for i in seq] for seq in input_ids]"
      ],
      "execution_count": 92,
      "outputs": []
    },
    {
      "cell_type": "code",
      "metadata": {
        "id": "VeZnC8v0Dqtu"
      },
      "source": [
        "prediction_inputs = torch.tensor(input_ids)\n",
        "prediction_masks = torch.tensor(attention_masks)\n",
        "prediction_labels = torch.tensor(test_gt)\n",
        "\n",
        "prediction_data = TensorDataset(\n",
        "    prediction_inputs,\n",
        "    prediction_masks,\n",
        "    prediction_labels\n",
        ")\n",
        "\n",
        "prediction_dataloader = DataLoader(\n",
        "    prediction_data, \n",
        "    sampler=SequentialSampler(prediction_data),\n",
        "    batch_size=10\n",
        ")"
      ],
      "execution_count": 93,
      "outputs": []
    },
    {
      "cell_type": "code",
      "metadata": {
        "id": "NRAm2ziLDxVH"
      },
      "source": [
        "model.eval()\n",
        "test_preds, test_labels = [], []\n",
        "\n",
        "for batch in prediction_dataloader:\n",
        "    batch = tuple(t.to(device) for t in batch)\n",
        "    \n",
        "    b_input_ids, b_input_mask, b_labels = batch\n",
        "    with torch.no_grad():\n",
        "        logits = model(b_input_ids, token_type_ids=None, attention_mask=b_input_mask)\n",
        "\n",
        "    logits = logits[0].detach().cpu().numpy()\n",
        "    label_ids = b_labels.to('cpu').numpy()\n",
        "\n",
        "    batch_preds = np.argmax(logits, axis=1)\n",
        "    batch_labels = np.concatenate(label_ids)  \n",
        "    test_preds.extend(batch_preds)\n",
        "    test_labels.extend(batch_labels)"
      ],
      "execution_count": 94,
      "outputs": []
    },
    {
      "cell_type": "code",
      "metadata": {
        "colab": {
          "base_uri": "https://localhost:8080/"
        },
        "id": "ifC8o0EPD0ua",
        "outputId": "f6d81422-f47a-4f09-e6e9-9fe2a51766b2"
      },
      "source": [
        "acc_score = accuracy_score(test_labels, test_preds)\n",
        "print('Процент правильных предсказаний на отложенной выборке составил: {0:.2f}%'.format(\n",
        "    acc_score*100\n",
        "))"
      ],
      "execution_count": 95,
      "outputs": [
        {
          "output_type": "stream",
          "text": [
            "Процент правильных предсказаний на отложенной выборке составил: 82.94%\n"
          ],
          "name": "stdout"
        }
      ]
    },
    {
      "cell_type": "code",
      "metadata": {
        "colab": {
          "base_uri": "https://localhost:8080/"
        },
        "id": "L41roBkND4Jl",
        "outputId": "8035b95c-68bb-462f-a544-f2591331b8ce"
      },
      "source": [
        "print('Неправильных предсказаний: {0}/{1}'.format(\n",
        "    (np.array(test_labels) != np.array(test_preds)).sum(),\n",
        "    len(test_labels)\n",
        "))"
      ],
      "execution_count": 96,
      "outputs": [
        {
          "output_type": "stream",
          "text": [
            "Неправильных предсказаний: 2047/12000\n"
          ],
          "name": "stdout"
        }
      ]
    },
    {
      "cell_type": "code",
      "metadata": {
        "colab": {
          "base_uri": "https://localhost:8080/"
        },
        "id": "HB8YUM8UygtU",
        "outputId": "c23c6bd7-6cf4-44f1-eb3f-38161c8db14c"
      },
      "source": [
        "print_predict_result(test_labels, test_preds, tokenizer, prediction_data, topic_labels)"
      ],
      "execution_count": 97,
      "outputs": [
        {
          "output_type": "stream",
          "text": [
            "[positive preds #0]\n",
            "  class: Наука и техника\n",
            "  text: на дальнем bостоке соревнуются ракетчики и артиллеристы .\n",
            "[positive preds #1]\n",
            "  class: Экономика\n",
            "  text: квадратныи метр восстановленного жилья в якутии будет стоить 350 долларов .\n",
            "[positive preds #2]\n",
            "  class: Наука и техника\n",
            "  text: nival online отправит россииских геимеров в страну пиратию .\n",
            "[positive preds #3]\n",
            "  class: Наука и техника\n",
            "  text: в лас - вегасе показали usb 3 . 0 .\n",
            "[positive preds #4]\n",
            "  class: Наука и техника\n",
            "  text: британские ученые разработали идеальныи сэндвич .\n",
            "[positive preds #5]\n",
            "  class: Наука и техника\n",
            "  text: новые серверные станции от ibm оснастят процессорами amd .\n",
            "[positive preds #6]\n",
            "  class: Культура\n",
            "  text: сотрудники \" тис - кино \" с милициеи захватили здание галереи \" дом нащокина \" .\n",
            "[positive preds #7]\n",
            "  class: Экономика\n",
            "  text: на европеиских биржах продолжается падение курсов акции .\n",
            "[positive preds #8]\n",
            "  class: Наука и техника\n",
            "  text: турция приобретет 100 истребителеи пятого поколения .\n",
            "[positive preds #9]\n",
            "  class: Спорт\n",
            "  text: на киевском стадионе \" спартак \" сгорела комментаторская кабина .\n",
            "\n",
            "[negative preds #0]\n",
            "  class pred:  Спорт\n",
            "  class label: Культура\n",
            "  text: политическии триллер спилберга получил название .\n",
            "[negative preds #1]\n",
            "  class pred:  Культура\n",
            "  class label: Наука и техника\n",
            "  text: кремнии в транзисторах заменят углеродные пленки толщинои в один атом .\n",
            "[negative preds #2]\n",
            "  class pred:  Культура\n",
            "  class label: Экономика\n",
            "  text: отец алсу стал сенатором от алтая .\n",
            "[negative preds #3]\n",
            "  class pred:  Спорт\n",
            "  class label: Культура\n",
            "  text: ерофеев попросил путина защитить литературу от \" идущих вместе \" .\n",
            "[negative preds #4]\n",
            "  class pred:  Экономика\n",
            "  class label: Наука и техника\n",
            "  text: министерство обороны разработало новую военную доктрину .\n",
            "[negative preds #5]\n",
            "  class pred:  Экономика\n",
            "  class label: Наука и техника\n",
            "  text: шотландскии суперкомпьютер будет экономить электричество .\n",
            "[negative preds #6]\n",
            "  class pred:  Культура\n",
            "  class label: Наука и техника\n",
            "  text: \" протон \" упал из - за отказа рулевых машин .\n",
            "[negative preds #7]\n",
            "  class pred:  Экономика\n",
            "  class label: Культура\n",
            "  text: убииство федерико гарсиа лорки организовали его двоюродные братья .\n",
            "[negative preds #8]\n",
            "  class pred:  Спорт\n",
            "  class label: Культура\n",
            "  text: у канадского триллера \" куб \" появился четыремерныи сиквел .\n",
            "[negative preds #9]\n",
            "  class pred:  Экономика\n",
            "  class label: Спорт\n",
            "  text: госдума создает федеральную антидопинговую комиссию .\n"
          ],
          "name": "stdout"
        }
      ]
    },
    {
      "cell_type": "markdown",
      "metadata": {
        "id": "UNVTQXhyQw0k"
      },
      "source": [
        "## First sentence"
      ]
    },
    {
      "cell_type": "code",
      "metadata": {
        "id": "QffBfhwrPzol"
      },
      "source": [
        "sentences = [pre_sentences[i].split('. ')[0] + '.' for i in range(len(labels))]"
      ],
      "execution_count": 98,
      "outputs": []
    },
    {
      "cell_type": "code",
      "metadata": {
        "id": "CRWnCe4fRBo2"
      },
      "source": [
        "train_sentences, test_sentences, train_gt, test_gt = train_test_split(sentences, labels, test_size=0.3)"
      ],
      "execution_count": 99,
      "outputs": []
    },
    {
      "cell_type": "code",
      "metadata": {
        "id": "QtGN7V2cRBsU"
      },
      "source": [
        "from pytorch_transformers import BertTokenizer, BertConfig\n",
        "\n",
        "tokenizer = BertTokenizer.from_pretrained('bert-base-uncased', do_lower_case=True)\n",
        "tokenized_texts = [tokenizer.tokenize(sent) for sent in train_sentences]\n",
        "\n",
        "tokenized_texts = [['[CLS]'] + i[:510] + ['[SEP]'] if len(i) > 510 else ['[CLS]'] + i + ['[SEP]'] for i in tokenized_texts]"
      ],
      "execution_count": 100,
      "outputs": []
    },
    {
      "cell_type": "code",
      "metadata": {
        "id": "_2nUTlriRKE2"
      },
      "source": [
        "input_ids = [tokenizer.convert_tokens_to_ids(x) for x in tokenized_texts]\n",
        "input_ids = pad_sequences(\n",
        "    input_ids,\n",
        "    maxlen=512,\n",
        "    dtype=\"long\",\n",
        "    truncating=\"post\",\n",
        "    padding=\"post\"\n",
        ")\n",
        "attention_masks = [[float(i>0) for i in seq] for seq in input_ids]"
      ],
      "execution_count": 101,
      "outputs": []
    },
    {
      "cell_type": "code",
      "metadata": {
        "id": "8Hr-176YRKMF"
      },
      "source": [
        "train_inputs, validation_inputs, train_labels, validation_labels = train_test_split(\n",
        "    input_ids, \n",
        "    train_gt, \n",
        "    random_state=42,\n",
        "    test_size=0.1\n",
        ")\n",
        "\n",
        "train_masks, validation_masks, _, _ = train_test_split(\n",
        "    attention_masks,\n",
        "    input_ids,\n",
        "    random_state=42,\n",
        "    test_size=0.1\n",
        ")\n",
        "\n",
        "train_inputs = torch.tensor(train_inputs)\n",
        "train_labels = torch.tensor(train_labels)\n",
        "train_masks = torch.tensor(train_masks)\n",
        "\n",
        "validation_inputs = torch.tensor(validation_inputs)\n",
        "validation_labels = torch.tensor(validation_labels)\n",
        "validation_masks = torch.tensor(validation_masks)\n",
        "\n",
        "train_data = TensorDataset(train_inputs, train_masks, train_labels)\n",
        "train_dataloader = DataLoader(\n",
        "    train_data,\n",
        "    sampler=RandomSampler(train_data),\n",
        "    batch_size=12\n",
        ")\n",
        "\n",
        "validation_data = TensorDataset(validation_inputs, validation_masks, validation_labels)\n",
        "validation_dataloader = DataLoader(\n",
        "    validation_data,\n",
        "    sampler=SequentialSampler(validation_data),\n",
        "    batch_size=12\n",
        ")"
      ],
      "execution_count": 102,
      "outputs": []
    },
    {
      "cell_type": "code",
      "metadata": {
        "id": "Nae-_KoARNLA"
      },
      "source": [
        "from pytorch_transformers import AdamW, BertForSequenceClassification\n",
        "\n",
        "model = BertForSequenceClassification.from_pretrained(\"bert-base-uncased\", num_labels=len(topic_labels))\n",
        "model.cuda()\n",
        "\n",
        "param_optimizer = list(model.named_parameters())\n",
        "no_decay = ['bias', 'gamma', 'beta']\n",
        "optimizer_grouped_parameters = [\n",
        "    {'params': [p for n, p in param_optimizer if not any(nd in n for nd in no_decay)],\n",
        "     'weight_decay_rate': 0.01},\n",
        "    {'params': [p for n, p in param_optimizer if any(nd in n for nd in no_decay)],\n",
        "     'weight_decay_rate': 0.0}\n",
        "]\n",
        "\n",
        "optimizer = AdamW(optimizer_grouped_parameters, lr=2e-5)"
      ],
      "execution_count": 103,
      "outputs": []
    },
    {
      "cell_type": "code",
      "metadata": {
        "colab": {
          "base_uri": "https://localhost:8080/",
          "height": 329
        },
        "id": "VFAllvcuRKR4",
        "outputId": "a4a269b7-7f6f-472f-f4cf-2109cbeffdba"
      },
      "source": [
        "from IPython.display import clear_output\n",
        "\n",
        "train_loss_set = []\n",
        "train_loss = 0\n",
        "\n",
        "model.train()\n",
        "for step, batch in enumerate(train_dataloader):\n",
        "    batch = tuple(t.to(device) for t in batch)\n",
        "    b_input_ids, b_input_mask, b_labels = batch\n",
        "    \n",
        "    optimizer.zero_grad()\n",
        "    loss = model(b_input_ids, token_type_ids=None, attention_mask=b_input_mask, labels=b_labels)\n",
        "    train_loss_set.append(loss[0].item())  \n",
        "    loss[0].backward()\n",
        "    optimizer.step()\n",
        "\n",
        "    train_loss += loss[0].item()\n",
        "    \n",
        "    clear_output(True)\n",
        "    plt.plot(train_loss_set)\n",
        "    plt.title(\"Training loss\")\n",
        "    plt.xlabel(\"Batch\")\n",
        "    plt.ylabel(\"Loss\")\n",
        "    plt.show()\n",
        "print(\"Loss на обучающей выборке: {0:.5f}\".format(train_loss / len(train_dataloader)))\n",
        "\n",
        "model.eval()\n",
        "valid_preds, valid_labels = [], []\n",
        "for batch in validation_dataloader: \n",
        "    batch = tuple(t.to(device) for t in batch)\n",
        "    \n",
        "    b_input_ids, b_input_mask, b_labels = batch\n",
        "    with torch.no_grad():\n",
        "        logits = model(b_input_ids, token_type_ids=None, attention_mask=b_input_mask)\n",
        "\n",
        "    logits = logits[0].detach().cpu().numpy()\n",
        "    label_ids = b_labels.to('cpu').numpy()\n",
        "    \n",
        "    batch_preds = np.argmax(logits, axis=1)\n",
        "    batch_labels = np.concatenate(label_ids)     \n",
        "    valid_preds.extend(batch_preds)\n",
        "    valid_labels.extend(batch_labels)\n",
        "\n",
        "print(\"Процент правильных предсказаний на валидационной выборке: {0:.2f}%\".format(\n",
        "    accuracy_score(valid_labels, valid_preds) * 100\n",
        "))"
      ],
      "execution_count": 104,
      "outputs": [
        {
          "output_type": "display_data",
          "data": {
            "image/png": "[encoded data removed]",
            "text/plain": [
              "<Figure size 432x288 with 1 Axes>"
            ]
          },
          "metadata": {
            "tags": [],
            "needs_background": "light"
          }
        },
        {
          "output_type": "stream",
          "text": [
            "Loss на обучающей выборке: 0.56771\n",
            "Процент правильных предсказаний на валидационной выборке: 89.46%\n"
          ],
          "name": "stdout"
        }
      ]
    },
    {
      "cell_type": "code",
      "metadata": {
        "id": "3tjByE7sRTpF"
      },
      "source": [
        "tokenized_texts = [tokenizer.tokenize(sent) for sent in test_sentences]\n",
        "tokenized_texts = [['[CLS]'] + i[:510] + ['[SEP]'] if len(i) > 510 else ['[CLS]'] + i + ['[SEP]'] for i in tokenized_texts]\n",
        "\n",
        "input_ids = [tokenizer.convert_tokens_to_ids(x) for x in tokenized_texts]\n",
        "input_ids = pad_sequences(\n",
        "    input_ids,\n",
        "    maxlen=512,\n",
        "    dtype=\"long\",\n",
        "    truncating=\"post\",\n",
        "    padding=\"post\"\n",
        ")\n",
        "attention_masks = [[float(i>0) for i in seq] for seq in input_ids]"
      ],
      "execution_count": 106,
      "outputs": []
    },
    {
      "cell_type": "code",
      "metadata": {
        "id": "osMyIRjLRTsv"
      },
      "source": [
        "prediction_inputs = torch.tensor(input_ids)\n",
        "prediction_masks = torch.tensor(attention_masks)\n",
        "prediction_labels = torch.tensor(test_gt)\n",
        "\n",
        "prediction_data = TensorDataset(\n",
        "    prediction_inputs,\n",
        "    prediction_masks,\n",
        "    prediction_labels\n",
        ")\n",
        "\n",
        "prediction_dataloader = DataLoader(\n",
        "    prediction_data, \n",
        "    sampler=SequentialSampler(prediction_data),\n",
        "    batch_size=10\n",
        ")"
      ],
      "execution_count": 107,
      "outputs": []
    },
    {
      "cell_type": "code",
      "metadata": {
        "id": "tOBLV-qlQ_EP"
      },
      "source": [
        "model.eval()\n",
        "test_preds, test_labels = [], []\n",
        "\n",
        "for batch in prediction_dataloader:\n",
        "    batch = tuple(t.to(device) for t in batch)\n",
        "    \n",
        "    b_input_ids, b_input_mask, b_labels = batch\n",
        "    with torch.no_grad():\n",
        "        logits = model(b_input_ids, token_type_ids=None, attention_mask=b_input_mask)\n",
        "\n",
        "    logits = logits[0].detach().cpu().numpy()\n",
        "    label_ids = b_labels.to('cpu').numpy()\n",
        "\n",
        "    batch_preds = np.argmax(logits, axis=1)\n",
        "    batch_labels = np.concatenate(label_ids)  \n",
        "    test_preds.extend(batch_preds)\n",
        "    test_labels.extend(batch_labels)"
      ],
      "execution_count": 108,
      "outputs": []
    },
    {
      "cell_type": "code",
      "metadata": {
        "colab": {
          "base_uri": "https://localhost:8080/"
        },
        "id": "sBY11m2PRa8e",
        "outputId": "37e17e7c-5671-48be-9d98-866d5c7863f8"
      },
      "source": [
        "acc_score = accuracy_score(test_labels, test_preds)\n",
        "print('Процент правильных предсказаний на отложенной выборке составил: {0:.2f}%'.format(\n",
        "    acc_score*100\n",
        "))"
      ],
      "execution_count": 109,
      "outputs": [
        {
          "output_type": "stream",
          "text": [
            "Процент правильных предсказаний на отложенной выборке составил: 89.60%\n"
          ],
          "name": "stdout"
        }
      ]
    },
    {
      "cell_type": "code",
      "metadata": {
        "colab": {
          "base_uri": "https://localhost:8080/"
        },
        "id": "MpH0Sj-IReyQ",
        "outputId": "ea283192-e0f0-44b6-b733-ab4fcb22cd4c"
      },
      "source": [
        "print('Неправильных предсказаний: {0}/{1}'.format(\n",
        "    (np.array(test_labels) != np.array(test_preds)).sum(),\n",
        "    len(test_labels)\n",
        "))"
      ],
      "execution_count": 110,
      "outputs": [
        {
          "output_type": "stream",
          "text": [
            "Неправильных предсказаний: 1248/12000\n"
          ],
          "name": "stdout"
        }
      ]
    },
    {
      "cell_type": "code",
      "metadata": {
        "colab": {
          "base_uri": "https://localhost:8080/"
        },
        "id": "Sq3FL4tMyyMN",
        "outputId": "7446d623-d86e-4b9a-da36-e79a162dfe9e"
      },
      "source": [
        "print_predict_result(test_labels, test_preds, tokenizer, prediction_data, topic_labels)"
      ],
      "execution_count": 111,
      "outputs": [
        {
          "output_type": "stream",
          "text": [
            "[positive preds #0]\n",
            "  class: Наука и техника\n",
            "  text: две американских армеиских бригады закончили годовые испытания новых бронетранспортеров stryker в ираке , сообщает national defense magazine .\n",
            "[positive preds #1]\n",
            "  class: Наука и техника\n",
            "  text: в результате столкновения американского боевого корабля и иностранного торгового судна в персидском заливе получили ранения четыре человека , сообщает afp .\n",
            "[positive preds #2]\n",
            "  class: Спорт\n",
            "  text: на легкоатлетических соревнованиях в американском пеитон джордан один из сильнеиших спринтеров мира морис грин повторил мировои рекорд в беге на 100 метров , показав результат 9 , 78 секунды .\n",
            "[positive preds #3]\n",
            "  class: Экономика\n",
            "  text: европеиская компания airbus и россииское верхнесалдинское металлургическое производственное объединение ( всмпо , в ртс : vsmo ) подписали дополнительныи долгосрочныи контракт , предусматривающии поставки титановых полуфабрикатов россииского производства для использования в производстве элементов конструкции самолетов airbus , сообщает \" интерфакс \" .\n",
            "[positive preds #4]\n",
            "  class: Экономика\n",
            "  text: 6 мая президент грузии эдуард шеварднадзе объявил об объединении министерств финансов и налоговых платежеи в одно , сообщает \" коммерсант \" .\n",
            "[positive preds #5]\n",
            "  class: Спорт\n",
            "  text: девятикратныи чемпион страны по футболу московскии \" спартак \" намерен приобрести нападающего мадридского \" реала \" и сборнои испании фернандо морьентеса , пишет \" спорт - экспресс \" .\n",
            "[positive preds #6]\n",
            "  class: Спорт\n",
            "  text: шеф однои из ведущих команд \" формулы - 1 \" британского \" макларена \" рон деннис заявил , что михаэль шумахер проведет в \" королевских \" гонках еще один сезон , а затем объявит точную дату окончания своеи карьеры , сообщает f1 racing .\n",
            "[positive preds #7]\n",
            "  class: Культура\n",
            "  text: новыи мистическии боевик \" ван хельсинг \" ( van helsing ) собрал в мировом прокате за минувшие маиские выходные 107 , 2 миллиона долларов , сообщается на саите издания hollywood reporter , причем 54 , 2 миллиона из этои суммы пришлось на американские кинотеатры .\n",
            "[positive preds #8]\n",
            "  class: Наука и техника\n",
            "  text: компания apple представила новую версию мыши mighty mouse для компьютеров macintosh .\n",
            "[positive preds #9]\n",
            "  class: Спорт\n",
            "  text: подтвердились слухи о помолвке пилота \" формулы - 1 \" кими раикконена ( kimi raikkonen ) , сообщает саит formula1 . com .\n",
            "\n",
            "[negative preds #0]\n",
            "  class pred:  Культура\n",
            "  class label: Наука и техника\n",
            "  text: американец крэиг барр , ведущии разработки в области аниматроники и принимавшии участие в создании модели кинг конга во флоридскои студии universal , объединил усилия с компаниеи themeaddicts в создании необычных гаджетов .\n",
            "[negative preds #1]\n",
            "  class pred:  Экономика\n",
            "  class label: Наука и техника\n",
            "  text: мировои список видов , которым угрожает вымирание , растет с угрожающеи и беспрецедентнои скоростью , в то время как правительства уделяют охране природы все меньше внимания , считают экологи .\n",
            "[negative preds #2]\n",
            "  class pred:  Культура\n",
            "  class label: Экономика\n",
            "  text: в объединенных арабских эмиратах в субботу с аукциона были проданы танкеры , нарушившие международные санкции оон против ирака .\n",
            "[negative preds #3]\n",
            "  class pred:  Экономика\n",
            "  class label: Культура\n",
            "  text: постановка рок - оперы эндрю ллоида вебера и тима раиса \" иисус христос - суперзвезда \" на территории бывшего концлагеря маиданек отменена из - за вмешательства прессы .\n",
            "[negative preds #4]\n",
            "  class pred:  Экономика\n",
            "  class label: Культура\n",
            "  text: 27 сентября в санкт - петербурге открывается седьмои конгресс фантастов россии \" странник \" .\n",
            "[negative preds #5]\n",
            "  class pred:  Экономика\n",
            "  class label: Спорт\n",
            "  text: в понедельник утром в реанимационном отделении первои рижскои больницы от многочисленных травм скончался автогонщик эрвин ионас , которыи накануне попал в тяжелую аварию на авторалли \" латвия - 2001 \" , сообщает риа \" новости \" .\n",
            "[negative preds #6]\n",
            "  class pred:  Экономика\n",
            "  class label: Культура\n",
            "  text: когда румынское правительство объявило о своих планах создать тематическии парк , посвященныи дракуле , выяснилось , что за использование образа самого известного румына всех времен нужно платить .\n",
            "[negative preds #7]\n",
            "  class pred:  Экономика\n",
            "  class label: Спорт\n",
            "  text: контрольно - дисциплинарныи комитет уефа утвердил размеры штрафов за нарушения , допущенные командами - участниками евро - 2004 .\n",
            "[negative preds #8]\n",
            "  class pred:  Наука и техника\n",
            "  class label: Спорт\n",
            "  text: с россииского велогонщика итальянскои команды lpr дмитрия конышева сняты все обвинения и он освобожден из - под стражи полициеи города пьяценцы , сообщает телекомпания нтв со ссылкои на итар - тасс .\n",
            "[negative preds #9]\n",
            "  class pred:  Экономика\n",
            "  class label: Культура\n",
            "  text: возродить \" русские сезоны \" намерен режиссер никита михалков , сообщает \" интерфакс \" .\n"
          ],
          "name": "stdout"
        }
      ]
    },
    {
      "cell_type": "markdown",
      "metadata": {
        "id": "vYwa32L9eiYe"
      },
      "source": [
        "## Random sentence"
      ]
    },
    {
      "cell_type": "code",
      "metadata": {
        "id": "CIeVP1jqe-HT"
      },
      "source": [
        "def rand_sentences(sent_list):\n",
        "    import random\n",
        "    random.shuffle(sent_list)\n",
        "    result = sent_list[:random.randint(1,len(sent_list))]\n",
        "    return '. '.join(result)\n",
        "sentences = [rand_sentences(pre_sentences[i].split('. ')) for i in range(len(labels))]"
      ],
      "execution_count": 112,
      "outputs": []
    },
    {
      "cell_type": "code",
      "metadata": {
        "id": "K1Q1wUu6h0fu"
      },
      "source": [
        "train_sentences, test_sentences, train_gt, test_gt = train_test_split(sentences, labels, test_size=0.3)"
      ],
      "execution_count": 113,
      "outputs": []
    },
    {
      "cell_type": "code",
      "metadata": {
        "id": "JcYTwgphh0k6"
      },
      "source": [
        "from pytorch_transformers import BertTokenizer, BertConfig\n",
        "\n",
        "tokenizer = BertTokenizer.from_pretrained('bert-base-uncased', do_lower_case=True)\n",
        "tokenized_texts = [tokenizer.tokenize(sent) for sent in train_sentences]\n",
        "\n",
        "tokenized_texts = [['[CLS]'] + i[:510] + ['[SEP]'] if len(i) > 510 else ['[CLS]'] + i + ['[SEP]'] for i in tokenized_texts]"
      ],
      "execution_count": 114,
      "outputs": []
    },
    {
      "cell_type": "code",
      "metadata": {
        "id": "yJJxK4e7h0rg"
      },
      "source": [
        "input_ids = [tokenizer.convert_tokens_to_ids(x) for x in tokenized_texts]\n",
        "input_ids = pad_sequences(\n",
        "    input_ids,\n",
        "    maxlen=512,\n",
        "    dtype=\"long\",\n",
        "    truncating=\"post\",\n",
        "    padding=\"post\"\n",
        ")\n",
        "attention_masks = [[float(i>0) for i in seq] for seq in input_ids]"
      ],
      "execution_count": 115,
      "outputs": []
    },
    {
      "cell_type": "code",
      "metadata": {
        "id": "vDefU_9riqxm"
      },
      "source": [
        "train_inputs, validation_inputs, train_labels, validation_labels = train_test_split(\n",
        "    input_ids, \n",
        "    train_gt, \n",
        "    random_state=42,\n",
        "    test_size=0.1\n",
        ")\n",
        "\n",
        "train_masks, validation_masks, _, _ = train_test_split(\n",
        "    attention_masks,\n",
        "    input_ids,\n",
        "    random_state=42,\n",
        "    test_size=0.1\n",
        ")\n",
        "\n",
        "train_inputs = torch.tensor(train_inputs)\n",
        "train_labels = torch.tensor(train_labels)\n",
        "train_masks = torch.tensor(train_masks)\n",
        "\n",
        "validation_inputs = torch.tensor(validation_inputs)\n",
        "validation_labels = torch.tensor(validation_labels)\n",
        "validation_masks = torch.tensor(validation_masks)\n",
        "\n",
        "train_data = TensorDataset(train_inputs, train_masks, train_labels)\n",
        "train_dataloader = DataLoader(\n",
        "    train_data,\n",
        "    sampler=RandomSampler(train_data),\n",
        "    batch_size=12\n",
        ")\n",
        "\n",
        "validation_data = TensorDataset(validation_inputs, validation_masks, validation_labels)\n",
        "validation_dataloader = DataLoader(\n",
        "    validation_data,\n",
        "    sampler=SequentialSampler(validation_data),\n",
        "    batch_size=12\n",
        ")"
      ],
      "execution_count": 116,
      "outputs": []
    },
    {
      "cell_type": "code",
      "metadata": {
        "id": "UExQ-hQdiq1A"
      },
      "source": [
        "from pytorch_transformers import AdamW, BertForSequenceClassification\n",
        "\n",
        "model = BertForSequenceClassification.from_pretrained(\"bert-base-uncased\", num_labels=len(topic_labels))\n",
        "model.cuda()\n",
        "\n",
        "param_optimizer = list(model.named_parameters())\n",
        "no_decay = ['bias', 'gamma', 'beta']\n",
        "optimizer_grouped_parameters = [\n",
        "    {'params': [p for n, p in param_optimizer if not any(nd in n for nd in no_decay)],\n",
        "     'weight_decay_rate': 0.01},\n",
        "    {'params': [p for n, p in param_optimizer if any(nd in n for nd in no_decay)],\n",
        "     'weight_decay_rate': 0.0}\n",
        "]\n",
        "\n",
        "optimizer = AdamW(optimizer_grouped_parameters, lr=2e-5)"
      ],
      "execution_count": 117,
      "outputs": []
    },
    {
      "cell_type": "code",
      "metadata": {
        "colab": {
          "base_uri": "https://localhost:8080/",
          "height": 329
        },
        "id": "9WqO4QCch0pR",
        "outputId": "10a96ceb-2cbd-4bc0-b7ed-52f66038ea84"
      },
      "source": [
        "from IPython.display import clear_output\n",
        "\n",
        "train_loss_set = []\n",
        "train_loss = 0\n",
        "\n",
        "model.train()\n",
        "for step, batch in enumerate(train_dataloader):\n",
        "    batch = tuple(t.to(device) for t in batch)\n",
        "    b_input_ids, b_input_mask, b_labels = batch\n",
        "    \n",
        "    optimizer.zero_grad()\n",
        "    loss = model(b_input_ids, token_type_ids=None, attention_mask=b_input_mask, labels=b_labels)\n",
        "    train_loss_set.append(loss[0].item())  \n",
        "    loss[0].backward()\n",
        "    optimizer.step()\n",
        "\n",
        "    train_loss += loss[0].item()\n",
        "    \n",
        "    clear_output(True)\n",
        "    plt.plot(train_loss_set)\n",
        "    plt.title(\"Training loss\")\n",
        "    plt.xlabel(\"Batch\")\n",
        "    plt.ylabel(\"Loss\")\n",
        "    plt.show()\n",
        "print(\"Loss на обучающей выборке: {0:.5f}\".format(train_loss / len(train_dataloader)))\n",
        "\n",
        "model.eval()\n",
        "valid_preds, valid_labels = [], []\n",
        "for batch in validation_dataloader: \n",
        "    batch = tuple(t.to(device) for t in batch)\n",
        "    \n",
        "    b_input_ids, b_input_mask, b_labels = batch\n",
        "    with torch.no_grad():\n",
        "        logits = model(b_input_ids, token_type_ids=None, attention_mask=b_input_mask)\n",
        "\n",
        "    logits = logits[0].detach().cpu().numpy()\n",
        "    label_ids = b_labels.to('cpu').numpy()\n",
        "    \n",
        "    batch_preds = np.argmax(logits, axis=1)\n",
        "    batch_labels = np.concatenate(label_ids)     \n",
        "    valid_preds.extend(batch_preds)\n",
        "    valid_labels.extend(batch_labels)\n",
        "\n",
        "print(\"Процент правильных предсказаний на валидационной выборке: {0:.2f}%\".format(\n",
        "    accuracy_score(valid_labels, valid_preds) * 100\n",
        "))"
      ],
      "execution_count": 118,
      "outputs": [
        {
          "output_type": "display_data",
          "data": {
            "image/png": "[encoded data removed]",
            "text/plain": [
              "<Figure size 432x288 with 1 Axes>"
            ]
          },
          "metadata": {
            "tags": [],
            "needs_background": "light"
          }
        },
        {
          "output_type": "stream",
          "text": [
            "Loss на обучающей выборке: 0.74254\n",
            "Процент правильных предсказаний на валидационной выборке: 82.57%\n"
          ],
          "name": "stdout"
        }
      ]
    },
    {
      "cell_type": "code",
      "metadata": {
        "id": "UVrvCyVOh0jb"
      },
      "source": [
        "tokenized_texts = [tokenizer.tokenize(sent) for sent in test_sentences]\n",
        "tokenized_texts = [['[CLS]'] + i[:510] + ['[SEP]'] if len(i) > 510 else ['[CLS]'] + i + ['[SEP]'] for i in tokenized_texts]\n",
        "\n",
        "input_ids = [tokenizer.convert_tokens_to_ids(x) for x in tokenized_texts]\n",
        "input_ids = pad_sequences(\n",
        "    input_ids,\n",
        "    maxlen=512,\n",
        "    dtype=\"long\",\n",
        "    truncating=\"post\",\n",
        "    padding=\"post\"\n",
        ")\n",
        "attention_masks = [[float(i>0) for i in seq] for seq in input_ids]"
      ],
      "execution_count": 120,
      "outputs": []
    },
    {
      "cell_type": "code",
      "metadata": {
        "id": "5hxnFkXti3aD"
      },
      "source": [
        "prediction_inputs = torch.tensor(input_ids)\n",
        "prediction_masks = torch.tensor(attention_masks)\n",
        "prediction_labels = torch.tensor(test_gt)\n",
        "\n",
        "prediction_data = TensorDataset(\n",
        "    prediction_inputs,\n",
        "    prediction_masks,\n",
        "    prediction_labels\n",
        ")\n",
        "\n",
        "prediction_dataloader = DataLoader(\n",
        "    prediction_data, \n",
        "    sampler=SequentialSampler(prediction_data),\n",
        "    batch_size=10\n",
        ")"
      ],
      "execution_count": 121,
      "outputs": []
    },
    {
      "cell_type": "code",
      "metadata": {
        "id": "n63G4OHIi3ex"
      },
      "source": [
        "model.eval()\n",
        "test_preds, test_labels = [], []\n",
        "\n",
        "for batch in prediction_dataloader:\n",
        "    batch = tuple(t.to(device) for t in batch)\n",
        "    \n",
        "    b_input_ids, b_input_mask, b_labels = batch\n",
        "    with torch.no_grad():\n",
        "        logits = model(b_input_ids, token_type_ids=None, attention_mask=b_input_mask)\n",
        "\n",
        "    logits = logits[0].detach().cpu().numpy()\n",
        "    label_ids = b_labels.to('cpu').numpy()\n",
        "\n",
        "    batch_preds = np.argmax(logits, axis=1)\n",
        "    batch_labels = np.concatenate(label_ids)  \n",
        "    test_preds.extend(batch_preds)\n",
        "    test_labels.extend(batch_labels)"
      ],
      "execution_count": 122,
      "outputs": []
    },
    {
      "cell_type": "code",
      "metadata": {
        "colab": {
          "base_uri": "https://localhost:8080/"
        },
        "id": "uvkEnBfLi3iY",
        "outputId": "8e4bb8d0-550d-4aad-eea3-7c2dc4eed72e"
      },
      "source": [
        "acc_score = accuracy_score(test_labels, test_preds)\n",
        "print('Процент правильных предсказаний на отложенной выборке составил: {0:.2f}%'.format(\n",
        "    acc_score*100\n",
        "))"
      ],
      "execution_count": 123,
      "outputs": [
        {
          "output_type": "stream",
          "text": [
            "Процент правильных предсказаний на отложенной выборке составил: 81.94%\n"
          ],
          "name": "stdout"
        }
      ]
    },
    {
      "cell_type": "code",
      "metadata": {
        "colab": {
          "base_uri": "https://localhost:8080/"
        },
        "id": "N5peeUbTi3dB",
        "outputId": "a59e9c88-d242-4d69-f026-b2f792bce628"
      },
      "source": [
        "print('Неправильных предсказаний: {0}/{1}'.format(\n",
        "    (np.array(test_labels) != np.array(test_preds)).sum(),\n",
        "    len(test_labels)\n",
        "))"
      ],
      "execution_count": 124,
      "outputs": [
        {
          "output_type": "stream",
          "text": [
            "Неправильных предсказаний: 2167/12000\n"
          ],
          "name": "stdout"
        }
      ]
    },
    {
      "cell_type": "code",
      "metadata": {
        "colab": {
          "base_uri": "https://localhost:8080/"
        },
        "id": "HDDIAsGuzMC8",
        "outputId": "3e135281-d4f6-44c6-85eb-160bde56f390"
      },
      "source": [
        "print_predict_result(test_labels, test_preds, tokenizer, prediction_data, topic_labels)"
      ],
      "execution_count": 125,
      "outputs": [
        {
          "output_type": "stream",
          "text": [
            "[positive preds #0]\n",
            "  class: Наука и техника\n",
            "  text: в ходе модернизации штурмовик получил усовершенствованную электронику , аппаратуру постановки помех и новую кабину пилота , унифицированную с рабочим местом пилота на истребителях f - 16 последних серии . модернизация всего парка штурмовиков а - 10а в вариант а - 10с заимет два года . в течение 2007 года ввс сша должны получить 93 улучшенных самолета . . штурмовик а - 10c , в отличие от предыдущеи модификации а - 10а может выполнять боевые задачи независимо от погоды и времени суток и способен применять управляемые боеприпасы , например авиабомбы paveway ii , jdam и перспективные ракеты jcm ( joint common missiles )\n",
            "[positive preds #1]\n",
            "  class: Спорт\n",
            "  text: ирландцы уже заявили , что их инвестиции в \" мю \" вызваны только финансовыми интересами , так как они чувствуют реальную отдачу от вложенных средств . в настоящее время цена всех акции клуба составляет примерно 622 миллиона фунтов стерлингов . . самыми крупными акционерами \" мю \" являются макманус и маньир , которые владеют 23 процентами акции , а также глеизер , имеющии примерно 10 процентов . как считает исполнительныи директор \" мю \" дэвид гилл , чтобы контрольныи пакет акции перешел в одни руки , с этим должны согласиться не менее 90 процентов акционеров . глеизер же отказался исключить возможность того , что в его интересах уст\n",
            "[positive preds #2]\n",
            "  class: Культура\n",
            "  text: князек , у которого служил дезертир , посылает за ним ( точнее , за его головои ) погоню , но воин предпочитает прятаться и уклоняться от стычек . только в самом конце он пустит в ход нож - тот самыи нож , которым преследователи убили его сына . в конце концов воин доходит до гор , которые ему пригрезились , как бы проидя весь путь очищения , и находит новую семью . фильм повествует об отвлеченном мифологическом прошлом и о воине - наемнике ( актер ирфан хан , irfan khan ) , которыи под влиянием некоего мистического видения решает \" завязать \" со своим ремеслом и пробирается из долины в гималаях к своеи семье\n",
            "[positive preds #3]\n",
            "  class: Экономика\n",
            "  text: для крупных экспортеров нефти , в том числе и для россии , дальнеишии рост цен на энергоносители будет способствовать увеличению валютнои выручки и бюджетных поступлении . в данном прогнозе эксперты исходили из средних котировок 36 долларов за баррель\n",
            "[positive preds #4]\n",
            "  class: Культура\n",
            "  text: до этого он с 1969 года играл в командах \" бродячие облака \" , позже сменивших название на \" ребята , которые начинают играть , когда полосатыи гиппопотам пересекает реку замбези \" , \" машина времени \" , \" опасная зона \" и \" кузнецкии мост \" . . однако , по информации радиостанции , романов потерял голос из - за узелков на связках и в течение двух месяцев будет проходить лечение . его окончание не означает автоматического возвращения группы\n",
            "[positive preds #5]\n",
            "  class: Наука и техника\n",
            "  text: менее компактныи ultra edition 12 . 9 , как можно понять из названия модели , толще своих собратьев по серии - 12 , 9 миллиметра . расплатои за меньшие габариты стало отсутствие слота для карт памяти microsd и более компактныи дисплеи диагональю в 1 , 9 дюима . помимо этого , ue 9 . 9 способен осуществлять запись и воспроизведение видеофаилов mpeg4 , а также проигрывать музыкальные фаилы форматов mp3 , aac , aac + и wma . претендующая на столь громкое звание линия мобильников получила название ultra edition , сообщает саит akihabara news . представители samsung объявили о выпуске серии самых тонких , по заверениям создателеи , мобильных телефонов . этот сотовыи телефон оснащен 2 - м\n",
            "[positive preds #6]\n",
            "  class: Экономика\n",
            "  text: напомним , что новым главои мид стал сергеи лавров , ранее занимавшии должность посла рф в оон , а игорь иванов получил пост главы совета безопасности . . по мнению западных экономистов , правительство , в состав которого входят кудрин и греф , будет проводит политику снижения налогов и борьбы с бюрократизмом , при этом уделяя большое внимание сохранению профицитного государственного бюджета . комментируя смену министра иностранных дел россии , информационные агентства отмечают , что занимавшии этот пост с 1998 года игорь иванов был назначен на эту должность еще президентом борисом ельциным . \" этот шаг путина свидетельствуе\n",
            "[positive preds #7]\n",
            "  class: Экономика\n",
            "  text: он сообщил , что проверка проводится по поручению минприроды россии , и добавил , что \" за последнее время никаких громких нарушении со стороны проверяемых предприятии не было \" . 12 ноября началась комплексная проверка на оао \" юганскнефтегаз \" - самом крупном добывающем предприятии нефтянои компании \" юкос \" . годовои объем добычи нефти оао \" юганскнефтегаз \" составляет примерно 220 миллионов баррелеи или 61 процент от общеи нефтедобычи компании . по словам руководителя управления природных ресурсов округа игоря золотова , внимание проверяющих сосредоточено прежде всего на проверке исполнения природоохранного законодательства . п\n",
            "[positive preds #8]\n",
            "  class: Спорт\n",
            "  text: 23 - летнии энель впервые в своеи карьере добился права играть на турнире из серии \" большого шлема \" и сразу победил агасси , для которого нынешнии \" ролан гаррос \" был 16 - м в карьере . после поражения восьмикратныи победитель турниров \" большого шлема \" сказал , что пока не знает , будет ли принимать участие в открытом чемпионате франции в следующем году . один из сильнеиших теннисистов мира американец андре агасии в первом круге открытого чемпионата франции сенсационно проиграл 271 - и ракетке мира французу жерому энелю со счетом 4 : 6 , 6 : 7 ( 4 : 7 ) , 3 : 6 . , сообщает официальныи саит турнира . что касается россииских теннисистов , то он\n",
            "[positive preds #9]\n",
            "  class: Спорт\n",
            "  text: руководители клубов россиискои футбольнои премьер - лиги проголосовали за то , чтобы расширить ее до 18 команд , пишет \" спорт - экспресс \" . сеичас в рфпл играют 16 команд . волгоградскии \" ротор \" , проигравшии в предыдущем туре \" крыльям советов \" , уже потерял шансы на сохранение места в премьер - лиге , если только она не будет расширена . пресс - атташе премьер - лиги георгии черданцев информацию о расширении рфпл опроверг , но источники в рфс сообщили , что принципиальное решение принято . чеченскии клуб выиграл соревнования в первом дивизионе , а томичи заняли второе место , опередив саратовскии \" сокол \" . 11 президентов проголосовали\n",
            "\n",
            "[negative preds #0]\n",
            "  class pred:  Экономика\n",
            "  class label: Наука и техника\n",
            "  text: уровень электромагнитного излучения вблизи станции не превышает допустимых значении . общие затраты на содержание станции на 40 процентов меньше , чем у прежних радаров аналогичного назначения . она позволит закрыть брешь в системе спрн , образовавшуюся в конце 90 - х годов после ликвидации радара в латвииском поселке скрунда . помимо станции \" воронеж \" вооруженные силы россии в ближаишее время получат новыи радар дециметрового диапазона под армавиром . \" воронеж \" может обнаруживать как боевые блоки баллистических ракет , так и ракеты меньшеи дальности не требуя перенастроики . рлс в лехтуси не является единственным пополнен\n",
            "[negative preds #1]\n",
            "  class pred:  Наука и техника\n",
            "  class label: Экономика\n",
            "  text: в интервью русскои службе bbc иордан заявил , что менеджмент \" юкоса \" скомпрометировал себя в глазах государства и не способен договориться об урегулировании налоговои задолженности\n",
            "[negative preds #2]\n",
            "  class pred:  Наука и техника\n",
            "  class label: Культура\n",
            "  text: релиз не обошелся без недостатков : изображение во всех без исключения сериях до качества dvd не дотягивает . dvd - издание поделено на 4 тома , каждыи из которых включает в себя два диска . в популярнои форме автор проекта , с успехом демонстрировавшегося в эфире телеканала нтв , знакомит зрителеи с важными и интересными событиями отечественнои истории . использование кадров документальнои кинохроники , широко распространенное в других подобных проектах , в \" россиискои империи \" , по объективным причинам , минимально . кроме того , в издании сохранились все появлявшиеся в телеэфире объявления . компания cp digital выпустила на dvd многосе\n",
            "[negative preds #3]\n",
            "  class pred:  Экономика\n",
            "  class label: Культура\n",
            "  text: во вторник предполагается продолжить работы по установке \" яблока \" , - сообщили в пресс - службе северо - западнои дирекции госстроя рф . фигура ангела , которую планируется установить в ближаишие дни на высоте 122 , 5 метра , - четвертая по счету . в понедельник из - за сложных погодных условии не удалось произвести монтаж фигуры ангела , венчающего шпиль петропавловского собора петербурга , сообщает \" интерфакс \" . высота ангела - 3 , 6 метра , размах крыльев - 3 , 8 метра , вес - почти 500 килограммов . \" в понедельник должны были начаться работы по установке позолоченного \" яблока \" , однако , вертолет , на котором должны были его п\n",
            "[negative preds #4]\n",
            "  class pred:  Культура\n",
            "  class label: Наука и техника\n",
            "  text: чем объясняется такое решение , \" синьхуа \" не сообщает . курсантом может стать выпускник среднеи школы в возрасте от 16 до 20 лет . . китаиская народно - освободительная армия вводит новые стандарты роста пилотов военно - воздушных сил , сообщает информационное агентство \" синьхуа \" . набор в летные училища начинается в декабре . для женщин нижнии порог также определен в 165 сантиметров , а верхнии - в 178 сантиметров . начиная со следующего года , в летные училища будут набираться курсанты - мужчины ростом не ниже 165 сантиметров и не выше 185 сантиметров\n",
            "[negative preds #5]\n",
            "  class pred:  Экономика\n",
            "  class label: Культура\n",
            "  text: по данным агентства , поводом для госпитализации послужила передозировка наркотиков . агентство отмечает , что администрация больницы не подтвердила информацию о пребывании у них поп - дивы .\n",
            "[negative preds #6]\n",
            "  class pred:  Наука и техника\n",
            "  class label: Экономика\n",
            "  text: право бессрочного землепользования будет предоставлено только госпредприятим , а остальным юридическим лицам земля будет сдаваться в аренду либо продаваться в собственность\n",
            "[negative preds #7]\n",
            "  class pred:  Спорт\n",
            "  class label: Культура\n",
            "  text: осенью 2006 года россииские модельеры впервые примут участие миланскои неделе моды - milano moda donna , сообщает национальная палаты моды италии\n",
            "[negative preds #8]\n",
            "  class pred:  Наука и техника\n",
            "  class label: Спорт\n",
            "  text: она вышла на ковер последнеи , когда все остальные соперницы уже выступили\n",
            "[negative preds #9]\n",
            "  class pred:  Наука и техника\n",
            "  class label: Культура\n",
            "  text: несмотря на уверения кураторов , звуки объекта крида слышны по всему этажу . куратор коллекции современного искусства френсис моррис заявила , что готова к насмешкам в адрес работы крида : \" многие великие произведения искусства были нарочито провокационны и вызывали сарказм \"\n"
          ],
          "name": "stdout"
        }
      ]
    },
    {
      "cell_type": "markdown",
      "metadata": {
        "id": "mOOp_3HoEfIY"
      },
      "source": [
        "## End"
      ]
    }
  ]
}