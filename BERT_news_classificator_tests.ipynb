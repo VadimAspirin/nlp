{
  "nbformat": 4,
  "nbformat_minor": 0,
  "metadata": {
    "colab": {
      "name": "BERT_news_classificator_tests.ipynb",
      "provenance": [],
      "collapsed_sections": [],
      "toc_visible": true
    },
    "kernelspec": {
      "name": "python3",
      "display_name": "Python 3"
    },
    "accelerator": "GPU"
  },
  "cells": [
    {
      "cell_type": "markdown",
      "metadata": {
        "id": "GVolNnUNGBkV"
      },
      "source": [
        "## Start"
      ]
    },
    {
      "cell_type": "code",
      "metadata": {
        "colab": {
          "base_uri": "https://localhost:8080/"
        },
        "id": "5etHEX4ZTAaH",
        "outputId": "4b4fa3da-4b23-46fe-a768-8309dfdfdc8d"
      },
      "source": [
        "!nvidia-smi"
      ],
      "execution_count": 1,
      "outputs": [
        {
          "output_type": "stream",
          "text": [
            "Sun Jan  3 11:28:40 2021       \n",
            "+-----------------------------------------------------------------------------+\n",
            "| NVIDIA-SMI 460.27.04    Driver Version: 418.67       CUDA Version: 10.1     |\n",
            "|-------------------------------+----------------------+----------------------+\n",
            "| GPU  Name        Persistence-M| Bus-Id        Disp.A | Volatile Uncorr. ECC |\n",
            "| Fan  Temp  Perf  Pwr:Usage/Cap|         Memory-Usage | GPU-Util  Compute M. |\n",
            "|                               |                      |               MIG M. |\n",
            "|===============================+======================+======================|\n",
            "|   0  Tesla P100-PCIE...  Off  | 00000000:00:04.0 Off |                    0 |\n",
            "| N/A   33C    P0    25W / 250W |      0MiB / 16280MiB |      0%      Default |\n",
            "|                               |                      |                 ERR! |\n",
            "+-------------------------------+----------------------+----------------------+\n",
            "                                                                               \n",
            "+-----------------------------------------------------------------------------+\n",
            "| Processes:                                                                  |\n",
            "|  GPU   GI   CI        PID   Type   Process name                  GPU Memory |\n",
            "|        ID   ID                                                   Usage      |\n",
            "|=============================================================================|\n",
            "|  No running processes found                                                 |\n",
            "+-----------------------------------------------------------------------------+\n"
          ],
          "name": "stdout"
        }
      ]
    },
    {
      "cell_type": "code",
      "metadata": {
        "id": "Lt_vVJcrTJyk"
      },
      "source": [
        "!git clone https://github.com/Samsung-IT-Academy/stepik-dl-nlp.git && pip install -r stepik-dl-nlp/requirements.txt\n",
        "import sys; sys.path.append('./stepik-dl-nlp')"
      ],
      "execution_count": null,
      "outputs": []
    },
    {
      "cell_type": "code",
      "metadata": {
        "id": "RMHsPAc_TTda"
      },
      "source": [
        "!pip install pytorch-transformers"
      ],
      "execution_count": null,
      "outputs": []
    },
    {
      "cell_type": "code",
      "metadata": {
        "colab": {
          "base_uri": "https://localhost:8080/"
        },
        "id": "osqXshWyTUAG",
        "outputId": "b17e605e-ce83-4473-8539-45ccd5495f13"
      },
      "source": [
        "import torch\n",
        "from torch.utils.data import TensorDataset, DataLoader, RandomSampler, SequentialSampler\n",
        "from keras.preprocessing.sequence import pad_sequences\n",
        "from sklearn.model_selection import train_test_split\n",
        "from pytorch_transformers import BertTokenizer, BertConfig\n",
        "from pytorch_transformers import AdamW, BertForSequenceClassification\n",
        "from tqdm import tqdm, trange\n",
        "import pandas as pd\n",
        "import io\n",
        "import numpy as np\n",
        "from sklearn.metrics import accuracy_score\n",
        "import matplotlib.pyplot as plt\n",
        "\n",
        "device = torch.device(\"cuda\" if torch.cuda.is_available() else \"cpu\")\n",
        "if device == 'cpu':\n",
        "    print('cpu')\n",
        "else:\n",
        "    n_gpu = torch.cuda.device_count()\n",
        "    print(torch.cuda.get_device_name(0))"
      ],
      "execution_count": 4,
      "outputs": [
        {
          "output_type": "stream",
          "text": [
            "Tesla P100-PCIE-16GB\n"
          ],
          "name": "stdout"
        }
      ]
    },
    {
      "cell_type": "code",
      "metadata": {
        "id": "hPmfqQ7tZQoz"
      },
      "source": [
        "def convert_ids_to_string(tokenizer, ids):\n",
        "    return tokenizer.convert_tokens_to_string(tokenizer.convert_ids_to_tokens(ids.tolist(), True))\n",
        "\n",
        "def print_predict_result(labels, preds, tokenizer, data, labels_dict, samples_num=10):\n",
        "    _labels = np.array(labels)\n",
        "    _preds = np.array(preds)\n",
        "    idx = np.arange(len(preds))\n",
        "    pos_mask = _labels == _preds\n",
        "    neg_mask = _labels != _preds\n",
        "    pos_idx = idx[pos_mask]\n",
        "    neg_idx = idx[neg_mask]\n",
        "    pos_preds = _preds[pos_mask]\n",
        "    neg_preds = _preds[neg_mask]\n",
        "    neg_labels = _labels[neg_mask]\n",
        "    pos_shuffle_idx = np.arange(len(pos_idx))\n",
        "    neg_shuffle_idx = np.arange(len(neg_idx))\n",
        "    np.random.shuffle(pos_shuffle_idx)\n",
        "    np.random.shuffle(neg_shuffle_idx)\n",
        "    \n",
        "    for i in range(samples_num):\n",
        "        print(f\"[positive preds #{i}]\")\n",
        "        pred_idx = pos_preds[pos_shuffle_idx][i]\n",
        "        print(f\"  class: {labels_dict[pred_idx]}\")\n",
        "        text_idx = data[pos_idx[pos_shuffle_idx][i]][0]\n",
        "        print(f\"  text: {convert_ids_to_string(tokenizer, text_idx)}\")\n",
        "    \n",
        "    print()\n",
        "\n",
        "    for i in range(samples_num):\n",
        "        print(f\"[negative preds #{i}]\")\n",
        "        neg_pred_idx = neg_preds[neg_shuffle_idx][i]\n",
        "        neg_label_idx = neg_labels[neg_shuffle_idx][i]\n",
        "        print(f\"  class pred:  {labels_dict[neg_pred_idx]}\")\n",
        "        print(f\"  class label: {labels_dict[neg_label_idx]}\")\n",
        "        text_idx = data[neg_idx[neg_shuffle_idx][i]][0]\n",
        "        print(f\"  text: {convert_ids_to_string(tokenizer, text_idx)}\")\n",
        "\n",
        "def hist_labels(data, label, text):\n",
        "    fig, ax = plt.subplots()\n",
        "    ax.hist(np.array(data))\n",
        "    ax.set_xticks(np.arange(len(label)))\n",
        "    ax.set_xticklabels(label)\n",
        "    plt.title(f\"{text} (len: {len(data)})\")\n",
        "    plt.show()"
      ],
      "execution_count": 59,
      "outputs": []
    },
    {
      "cell_type": "markdown",
      "metadata": {
        "id": "BWsCJe9kUvJf"
      },
      "source": [
        "## Download Lenta.ru dataset"
      ]
    },
    {
      "cell_type": "code",
      "metadata": {
        "id": "T3iS5u0iTUC5"
      },
      "source": [
        "!wget -O lenta-ru-news.csv.bz2 https://github.com/yutkin/Lenta.Ru-News-Dataset/releases/download/v1.1/lenta-ru-news.csv.bz2\n",
        "!bzip2 -d lenta-ru-news.csv.bz2"
      ],
      "execution_count": null,
      "outputs": []
    },
    {
      "cell_type": "code",
      "metadata": {
        "colab": {
          "base_uri": "https://localhost:8080/"
        },
        "id": "S8XX_qbKU94i",
        "outputId": "09a4c74f-8fde-4393-f084-a149439a8415"
      },
      "source": [
        "import pandas as pd\n",
        "\n",
        "dataset = pd.read_csv('lenta-ru-news.csv', encoding='utf8')"
      ],
      "execution_count": 7,
      "outputs": [
        {
          "output_type": "stream",
          "text": [
            "/usr/local/lib/python3.6/dist-packages/IPython/core/interactiveshell.py:2718: DtypeWarning: Columns (3) have mixed types.Specify dtype option on import or set low_memory=False.\n",
            "  interactivity=interactivity, compiler=compiler, result=result)\n"
          ],
          "name": "stderr"
        }
      ]
    },
    {
      "cell_type": "code",
      "metadata": {
        "colab": {
          "base_uri": "https://localhost:8080/",
          "height": 289
        },
        "id": "3QWWp41RVEpP",
        "outputId": "a365b581-bcd8-4cfd-df4b-335a91d82ce0"
      },
      "source": [
        "dataset.head()"
      ],
      "execution_count": 8,
      "outputs": [
        {
          "output_type": "execute_result",
          "data": {
            "text/html": [
              "<div>\n",
              "<style scoped>\n",
              "    .dataframe tbody tr th:only-of-type {\n",
              "        vertical-align: middle;\n",
              "    }\n",
              "\n",
              "    .dataframe tbody tr th {\n",
              "        vertical-align: top;\n",
              "    }\n",
              "\n",
              "    .dataframe thead th {\n",
              "        text-align: right;\n",
              "    }\n",
              "</style>\n",
              "<table border=\"1\" class=\"dataframe\">\n",
              "  <thead>\n",
              "    <tr style=\"text-align: right;\">\n",
              "      <th></th>\n",
              "      <th>url</th>\n",
              "      <th>title</th>\n",
              "      <th>text</th>\n",
              "      <th>topic</th>\n",
              "      <th>tags</th>\n",
              "      <th>date</th>\n",
              "    </tr>\n",
              "  </thead>\n",
              "  <tbody>\n",
              "    <tr>\n",
              "      <th>0</th>\n",
              "      <td>https://lenta.ru/news/1914/09/16/hungarnn/</td>\n",
              "      <td>1914. Русские войска вступили в пределы Венгрии</td>\n",
              "      <td>Бои у Сопоцкина и Друскеник закончились отступ...</td>\n",
              "      <td>Библиотека</td>\n",
              "      <td>Первая мировая</td>\n",
              "      <td>1914/09/16</td>\n",
              "    </tr>\n",
              "    <tr>\n",
              "      <th>1</th>\n",
              "      <td>https://lenta.ru/news/1914/09/16/lermontov/</td>\n",
              "      <td>1914. Празднование столетия М.Ю. Лермонтова от...</td>\n",
              "      <td>Министерство народного просвещения, в виду про...</td>\n",
              "      <td>Библиотека</td>\n",
              "      <td>Первая мировая</td>\n",
              "      <td>1914/09/16</td>\n",
              "    </tr>\n",
              "    <tr>\n",
              "      <th>2</th>\n",
              "      <td>https://lenta.ru/news/1914/09/17/nesteroff/</td>\n",
              "      <td>1914. Das ist Nesteroff!</td>\n",
              "      <td>Штабс-капитан П. Н. Нестеров на днях, увидев в...</td>\n",
              "      <td>Библиотека</td>\n",
              "      <td>Первая мировая</td>\n",
              "      <td>1914/09/17</td>\n",
              "    </tr>\n",
              "    <tr>\n",
              "      <th>3</th>\n",
              "      <td>https://lenta.ru/news/1914/09/17/bulldogn/</td>\n",
              "      <td>1914. Бульдог-гонец под Льежем</td>\n",
              "      <td>Фотограф-корреспондент Daily Mirror рассказыва...</td>\n",
              "      <td>Библиотека</td>\n",
              "      <td>Первая мировая</td>\n",
              "      <td>1914/09/17</td>\n",
              "    </tr>\n",
              "    <tr>\n",
              "      <th>4</th>\n",
              "      <td>https://lenta.ru/news/1914/09/18/zver/</td>\n",
              "      <td>1914. Под Люблином пойман швабский зверь</td>\n",
              "      <td>Лица, приехавшие в Варшаву из Люблина, передаю...</td>\n",
              "      <td>Библиотека</td>\n",
              "      <td>Первая мировая</td>\n",
              "      <td>1914/09/18</td>\n",
              "    </tr>\n",
              "  </tbody>\n",
              "</table>\n",
              "</div>"
            ],
            "text/plain": [
              "                                           url  ...        date\n",
              "0   https://lenta.ru/news/1914/09/16/hungarnn/  ...  1914/09/16\n",
              "1  https://lenta.ru/news/1914/09/16/lermontov/  ...  1914/09/16\n",
              "2  https://lenta.ru/news/1914/09/17/nesteroff/  ...  1914/09/17\n",
              "3   https://lenta.ru/news/1914/09/17/bulldogn/  ...  1914/09/17\n",
              "4       https://lenta.ru/news/1914/09/18/zver/  ...  1914/09/18\n",
              "\n",
              "[5 rows x 6 columns]"
            ]
          },
          "metadata": {
            "tags": []
          },
          "execution_count": 8
        }
      ]
    },
    {
      "cell_type": "code",
      "metadata": {
        "id": "KCXzVL2qVE2I"
      },
      "source": [
        "samples_per_topic = 10000\n",
        "topic_labels = ['Экономика', 'Спорт', 'Культура', 'Наука и техника']"
      ],
      "execution_count": 9,
      "outputs": []
    },
    {
      "cell_type": "code",
      "metadata": {
        "id": "zklTvrfiX6o2"
      },
      "source": [
        "import unicodedata\n",
        "\n",
        "titles = []\n",
        "pre_sentences = []\n",
        "labels = []\n",
        "for i, topic_label in enumerate(topic_labels):\n",
        "    buf = dataset.loc[dataset['topic'] == topic_label]\n",
        "    titles += [unicodedata.normalize('NFKD', title) + '.' for title in buf['title'].head(samples_per_topic).tolist()]\n",
        "    pre_sentences += buf['text'].head(samples_per_topic).tolist()\n",
        "    # labels += [np.eye(len(topic_labels))[i].astype(int).tolist()] * samples_per_topic\n",
        "    labels += [[i]] * samples_per_topic"
      ],
      "execution_count": 10,
      "outputs": []
    },
    {
      "cell_type": "markdown",
      "metadata": {
        "id": "G1mUu7HsB0tW"
      },
      "source": [
        "## Train size: 70%"
      ]
    },
    {
      "cell_type": "code",
      "metadata": {
        "id": "pvJ8blutX_75"
      },
      "source": [
        "sentences = [titles[i] + ' ' + pre_sentences[i] for i in range(len(labels))]"
      ],
      "execution_count": 11,
      "outputs": []
    },
    {
      "cell_type": "code",
      "metadata": {
        "id": "acNe0XhUsHMC"
      },
      "source": [
        "train_sentences, test_sentences, train_gt, test_gt = train_test_split(sentences, labels, test_size=0.3)"
      ],
      "execution_count": 12,
      "outputs": []
    },
    {
      "cell_type": "code",
      "metadata": {
        "colab": {
          "base_uri": "https://localhost:8080/",
          "height": 545
        },
        "id": "C3a2WWFPDisn",
        "outputId": "7eb8bab9-184c-4ebf-8d99-5e7fbb49b9fd"
      },
      "source": [
        "hist_labels(train_gt, topic_labels, \"train\")\r\n",
        "hist_labels(test_gt, topic_labels, \"test\")"
      ],
      "execution_count": 60,
      "outputs": [
        {
          "output_type": "display_data",
          "data": {
            "image/png": "[encoded data removed]",
            "text/plain": [
              "<Figure size 432x288 with 1 Axes>"
            ]
          },
          "metadata": {
            "tags": [],
            "needs_background": "light"
          }
        },
        {
          "output_type": "display_data",
          "data": {
            "image/png": "[encoded data removed]",
            "text/plain": [
              "<Figure size 432x288 with 1 Axes>"
            ]
          },
          "metadata": {
            "tags": [],
            "needs_background": "light"
          }
        }
      ]
    },
    {
      "cell_type": "code",
      "metadata": {
        "id": "FG7PYhOfY_Jh",
        "colab": {
          "base_uri": "https://localhost:8080/"
        },
        "outputId": "1a8201f3-8981-43c2-ef30-7614723118db"
      },
      "source": [
        "from pytorch_transformers import BertTokenizer, BertConfig\n",
        "\n",
        "tokenizer = BertTokenizer.from_pretrained('bert-base-uncased', do_lower_case=True)\n",
        "tokenized_texts = [tokenizer.tokenize(sent) for sent in train_sentences]\n",
        "\n",
        "tokenized_texts = [['[CLS]'] + i[:510] + ['[SEP]'] if len(i) > 510 else ['[CLS]'] + i + ['[SEP]'] for i in tokenized_texts]"
      ],
      "execution_count": 47,
      "outputs": [
        {
          "output_type": "stream",
          "text": [
            "100%|██████████| 231508/231508 [00:00<00:00, 899371.87B/s]\n"
          ],
          "name": "stderr"
        }
      ]
    },
    {
      "cell_type": "code",
      "metadata": {
        "id": "Fi4aSERlcGGx"
      },
      "source": [
        "input_ids = [tokenizer.convert_tokens_to_ids(x) for x in tokenized_texts]\n",
        "input_ids = pad_sequences(\n",
        "    input_ids,\n",
        "    maxlen=512,\n",
        "    dtype=\"long\",\n",
        "    truncating=\"post\",\n",
        "    padding=\"post\"\n",
        ")\n",
        "attention_masks = [[float(i>0) for i in seq] for seq in input_ids]"
      ],
      "execution_count": 48,
      "outputs": []
    },
    {
      "cell_type": "code",
      "metadata": {
        "id": "j6A1nryZcqJA"
      },
      "source": [
        "train_inputs, validation_inputs, train_labels, validation_labels = train_test_split(\n",
        "    input_ids, \n",
        "    train_gt, \n",
        "    random_state=42,\n",
        "    test_size=0.1\n",
        ")\n",
        "\n",
        "train_masks, validation_masks, _, _ = train_test_split(\n",
        "    attention_masks,\n",
        "    input_ids,\n",
        "    random_state=42,\n",
        "    test_size=0.1\n",
        ")\n",
        "\n",
        "train_inputs = torch.tensor(train_inputs)\n",
        "train_labels = torch.tensor(train_labels)\n",
        "train_masks = torch.tensor(train_masks)\n",
        "\n",
        "validation_inputs = torch.tensor(validation_inputs)\n",
        "validation_labels = torch.tensor(validation_labels)\n",
        "validation_masks = torch.tensor(validation_masks)\n",
        "\n",
        "train_data = TensorDataset(train_inputs, train_masks, train_labels)\n",
        "train_dataloader = DataLoader(\n",
        "    train_data,\n",
        "    sampler=RandomSampler(train_data),\n",
        "    batch_size=12\n",
        ")\n",
        "\n",
        "validation_data = TensorDataset(validation_inputs, validation_masks, validation_labels)\n",
        "validation_dataloader = DataLoader(\n",
        "    validation_data,\n",
        "    sampler=SequentialSampler(validation_data),\n",
        "    batch_size=12\n",
        ")"
      ],
      "execution_count": 49,
      "outputs": []
    },
    {
      "cell_type": "code",
      "metadata": {
        "id": "bEl1ZPZBi1AY",
        "colab": {
          "base_uri": "https://localhost:8080/"
        },
        "outputId": "c6d1ad2e-e7d7-4786-bb8b-7eeb8e75f2bb"
      },
      "source": [
        "from pytorch_transformers import AdamW, BertForSequenceClassification\n",
        "\n",
        "model = BertForSequenceClassification.from_pretrained(\"bert-base-uncased\", num_labels=len(topic_labels))\n",
        "model.cuda()\n",
        "\n",
        "param_optimizer = list(model.named_parameters())\n",
        "no_decay = ['bias', 'gamma', 'beta']\n",
        "optimizer_grouped_parameters = [\n",
        "    {'params': [p for n, p in param_optimizer if not any(nd in n for nd in no_decay)],\n",
        "     'weight_decay_rate': 0.01},\n",
        "    {'params': [p for n, p in param_optimizer if any(nd in n for nd in no_decay)],\n",
        "     'weight_decay_rate': 0.0}\n",
        "]\n",
        "\n",
        "optimizer = AdamW(optimizer_grouped_parameters, lr=2e-5)"
      ],
      "execution_count": 50,
      "outputs": [
        {
          "output_type": "stream",
          "text": [
            "100%|██████████| 433/433 [00:00<00:00, 173477.28B/s]\n",
            "100%|██████████| 440473133/440473133 [00:13<00:00, 32385568.06B/s]\n"
          ],
          "name": "stderr"
        }
      ]
    },
    {
      "cell_type": "code",
      "metadata": {
        "colab": {
          "base_uri": "https://localhost:8080/",
          "height": 312
        },
        "id": "iASuybFOtzIJ",
        "outputId": "3edc7bf8-54b7-4432-c989-0d0122322335"
      },
      "source": [
        "from IPython.display import clear_output\n",
        "\n",
        "train_loss_set = []\n",
        "train_loss = 0\n",
        "\n",
        "model.train()\n",
        "for step, batch in enumerate(train_dataloader):\n",
        "    batch = tuple(t.to(device) for t in batch)\n",
        "    b_input_ids, b_input_mask, b_labels = batch\n",
        "    \n",
        "    optimizer.zero_grad()\n",
        "    loss = model(b_input_ids, token_type_ids=None, attention_mask=b_input_mask, labels=b_labels)\n",
        "    train_loss_set.append(loss[0].item())  \n",
        "    loss[0].backward()\n",
        "    optimizer.step()\n",
        "\n",
        "    train_loss += loss[0].item()\n",
        "    \n",
        "    clear_output(True)\n",
        "    plt.plot(train_loss_set)\n",
        "    plt.title(\"Training loss\")\n",
        "    plt.xlabel(\"Batch\")\n",
        "    plt.ylabel(\"Loss\")\n",
        "    plt.show()\n",
        "print(\"Loss на обучающей выборке: {0:.5f}\".format(train_loss / len(train_dataloader)))"
      ],
      "execution_count": 51,
      "outputs": [
        {
          "output_type": "display_data",
          "data": {
            "image/png": "[encoded data removed]",
            "text/plain": [
              "<Figure size 432x288 with 1 Axes>"
            ]
          },
          "metadata": {
            "tags": [],
            "needs_background": "light"
          }
        },
        {
          "output_type": "stream",
          "text": [
            "Loss на обучающей выборке: 0.61159\n"
          ],
          "name": "stdout"
        }
      ]
    },
    {
      "cell_type": "markdown",
      "metadata": {
        "id": "M_EGo3rfK3Mc"
      },
      "source": [
        "### valid result"
      ]
    },
    {
      "cell_type": "code",
      "metadata": {
        "colab": {
          "base_uri": "https://localhost:8080/"
        },
        "id": "uv57PiuJlMlO",
        "outputId": "8133e23b-1469-4bce-d29f-912832f104fd"
      },
      "source": [
        "model.eval()\n",
        "valid_preds, valid_labels = [], []\n",
        "for batch in validation_dataloader: \n",
        "    batch = tuple(t.to(device) for t in batch)\n",
        "    \n",
        "    b_input_ids, b_input_mask, b_labels = batch\n",
        "    with torch.no_grad():\n",
        "        logits = model(b_input_ids, token_type_ids=None, attention_mask=b_input_mask)\n",
        "\n",
        "    logits = logits[0].detach().cpu().numpy()\n",
        "    label_ids = b_labels.to('cpu').numpy()\n",
        "    \n",
        "    batch_preds = np.argmax(logits, axis=1)\n",
        "    batch_labels = np.concatenate(label_ids)     \n",
        "    valid_preds.extend(batch_preds)\n",
        "    valid_labels.extend(batch_labels)\n",
        "\n",
        "print(\"Процент правильных предсказаний на валидационной выборке: {0:.2f}%\".format(\n",
        "    accuracy_score(valid_labels, valid_preds) * 100\n",
        "))"
      ],
      "execution_count": 52,
      "outputs": [
        {
          "output_type": "stream",
          "text": [
            "Процент правильных предсказаний на валидационной выборке: 88.54%\n"
          ],
          "name": "stdout"
        }
      ]
    },
    {
      "cell_type": "code",
      "metadata": {
        "id": "8apDDUN38Q2E"
      },
      "source": [
        "tokenized_texts = [tokenizer.tokenize(sent) for sent in test_sentences]\n",
        "tokenized_texts = [['[CLS]'] + i[:510] + ['[SEP]'] if len(i) > 510 else ['[CLS]'] + i + ['[SEP]'] for i in tokenized_texts]\n",
        "\n",
        "input_ids = [tokenizer.convert_tokens_to_ids(x) for x in tokenized_texts]\n",
        "input_ids = pad_sequences(\n",
        "    input_ids,\n",
        "    maxlen=512,\n",
        "    dtype=\"long\",\n",
        "    truncating=\"post\",\n",
        "    padding=\"post\"\n",
        ")\n",
        "attention_masks = [[float(i>0) for i in seq] for seq in input_ids]"
      ],
      "execution_count": 53,
      "outputs": []
    },
    {
      "cell_type": "code",
      "metadata": {
        "id": "ybMaFYot8bko"
      },
      "source": [
        "prediction_inputs = torch.tensor(input_ids)\n",
        "prediction_masks = torch.tensor(attention_masks)\n",
        "prediction_labels = torch.tensor(test_gt)\n",
        "\n",
        "prediction_data = TensorDataset(\n",
        "    prediction_inputs,\n",
        "    prediction_masks,\n",
        "    prediction_labels\n",
        ")\n",
        "\n",
        "prediction_dataloader = DataLoader(\n",
        "    prediction_data, \n",
        "    sampler=SequentialSampler(prediction_data),\n",
        "    batch_size=10\n",
        ")"
      ],
      "execution_count": 54,
      "outputs": []
    },
    {
      "cell_type": "code",
      "metadata": {
        "id": "nVMYugiY8bta"
      },
      "source": [
        "model.eval()\n",
        "test_preds, test_labels = [], []\n",
        "\n",
        "for batch in prediction_dataloader:\n",
        "    batch = tuple(t.to(device) for t in batch)\n",
        "    \n",
        "    b_input_ids, b_input_mask, b_labels = batch\n",
        "    with torch.no_grad():\n",
        "        logits = model(b_input_ids, token_type_ids=None, attention_mask=b_input_mask)\n",
        "\n",
        "    logits = logits[0].detach().cpu().numpy()\n",
        "    label_ids = b_labels.to('cpu').numpy()\n",
        "\n",
        "    batch_preds = np.argmax(logits, axis=1)\n",
        "    batch_labels = np.concatenate(label_ids)  \n",
        "    test_preds.extend(batch_preds)\n",
        "    test_labels.extend(batch_labels)"
      ],
      "execution_count": 55,
      "outputs": []
    },
    {
      "cell_type": "markdown",
      "metadata": {
        "id": "CdYhqVvDLDFH"
      },
      "source": [
        "### test result"
      ]
    },
    {
      "cell_type": "code",
      "metadata": {
        "colab": {
          "base_uri": "https://localhost:8080/"
        },
        "id": "B_yKZaWM9Xxj",
        "outputId": "d4dc0e36-7c4f-421f-9019-5aec99ae64cb"
      },
      "source": [
        "acc_score = accuracy_score(test_labels, test_preds)\n",
        "print('Процент правильных предсказаний на отложенной выборке составил: {0:.2f}%'.format(\n",
        "    acc_score*100\n",
        "))"
      ],
      "execution_count": 56,
      "outputs": [
        {
          "output_type": "stream",
          "text": [
            "Процент правильных предсказаний на отложенной выборке составил: 89.83%\n"
          ],
          "name": "stdout"
        }
      ]
    },
    {
      "cell_type": "code",
      "metadata": {
        "colab": {
          "base_uri": "https://localhost:8080/"
        },
        "id": "ZBzfouYS9Ztb",
        "outputId": "29853b2a-6334-4f4a-b4f6-7ed95d81637c"
      },
      "source": [
        "print('Неправильных предсказаний: {0}/{1}'.format(\n",
        "    (np.array(test_labels) != np.array(test_preds)).sum(),\n",
        "    len(test_labels)\n",
        "))"
      ],
      "execution_count": 57,
      "outputs": [
        {
          "output_type": "stream",
          "text": [
            "Неправильных предсказаний: 1220/12000\n"
          ],
          "name": "stdout"
        }
      ]
    },
    {
      "cell_type": "code",
      "metadata": {
        "colab": {
          "base_uri": "https://localhost:8080/"
        },
        "id": "tPn58GtajKwn",
        "outputId": "8990d0c1-4540-4324-bef1-bb6bda6a8905"
      },
      "source": [
        "print_predict_result(test_labels, test_preds, tokenizer, prediction_data, topic_labels)"
      ],
      "execution_count": 58,
      "outputs": [
        {
          "output_type": "stream",
          "text": [
            "[positive preds #0]\n",
            "  class: Экономика\n",
            "  text: в августе денег в россии стало на 2 , 2 процента больше . денежная масса в россии в национальном определении увеличилась в августе на 2 , 2 процента - до 2 триллионов 683 , 2 миллиардов рублеи . с начала 2003 года этот показатель вырос на 26 , 6 процента . такие данные опубликованы на официальном саите центрального банка россии . при этом объем наличных денег в августе увеличился на 2 , 7 процента - с 940 , 9 до 966 , 3 миллиарда рублеи , а объем безналичных средств - на 1 , 9 процента - с 1 триллиона 684 , 4 миллиарда до 1 триллиона 716 , 8 миллиарда рублеи . денежная масса представляет собои \" объем наличных денег в обращении ( вне банков ) и остатков средств в\n",
            "[positive preds #1]\n",
            "  class: Культура\n",
            "  text: коран переведут на иврит во избежание кривотолков . коран будет переведен на иврит , заявляют официальные источники в египте . как передают \" известия \" , это будет сделано во избежание \" неверного толкования \" священнои для мусульман книги . коран на иврите будет выложен на официальном саите верховного совета египта по вопросам мусульманства . там уже представлены переводы главнои книги ислама на другие иностранные языки .\n",
            "[positive preds #2]\n",
            "  class: Экономика\n",
            "  text: московские власти обещают не повышать тарифы на свет и газ . правительство москвы не планирует до конца года увеличивать тарифы на газ и электроэнергию . об этом заявил журналистам в пятницу вице - премьер правительства москвы борис никольскии . по его словам , тарифы на коммунальные услуги повышаются не произвольно , а вследствие повышения цен на нефть , уголь или газ , передает риа \" новости \" . \" не будет повышения этих тарифов - не будет и повышения тарифов на коммунальные платежи \" , - сказал никольскии .\n",
            "[positive preds #3]\n",
            "  class: Наука и техника\n",
            "  text: геимеры оказались не в курсе возможностеи своих консолеи . согласно результатам опроса , проведенного npd group , многие владельцы игровых консолеи playstation 3 и xbox 360 не подозревает о возможностях находящихся у них в собственности устроиств , сообщается на саите kotaku . всего лишь 30 процентов владельцев xbox 360 догадываются , что их приставка способна работать с телевизорами высокои четкости . геимеры , купившие playstation 3 , оказались более осведомленными : половина из них знает о совместимости консолеи с hdtv . только 40 процентов игроков из этого числа оказались в курсе , что ps3 обладает blu - ray - приводом . при этом всего десять процентов обладателеи ps3 и\n",
            "[positive preds #4]\n",
            "  class: Культура\n",
            "  text: в ростовском кремле рухнула стена длинои 26 метров . в ростовском кремле рухнул 26 - метровыи фрагмент кирпичнои стены - ограды митрополичьего сада . жертв и пострадавших в результате обрушения нет , сообщает \" интерфакс \" со ссылкои на директора ростовского музея - заповедника андрея леонтьева . протяженность всеи стены составляет более двухсот метров , ее высота достигает четырех метров . еще в xvii веке при возведении этои стены были допущены строительные погрешности , и она начала проседать и искривляться . реставраторы , работающие сеичас в ростовском кремле , пытались ее выпрямить . природные факторы также сыгр\n",
            "[positive preds #5]\n",
            "  class: Культура\n",
            "  text: голливуд пригрозил венеции боикотом из - за аль пачино . голливудские боссы пригрозили венецианскому кинофестивалю боикотом после того , как в результате ошибок организаторов аль пачино остался без места в зрительском зале на мировои премьере фильма с его участием \" венецианскии купец \" . как пишет в среду daily telegraph , для того , чтобы успокоить разгневанных американских гостеи понадобилась даже помощь полиции . позже выяснилось , что билеты на места аль пачино и представителеи ювелирного дома \" булгари \" , которые являются спонсорами фестиваля , были проданы дважды . в конечном итоге гостям , оставшимся без мест , а таки\n",
            "[positive preds #6]\n",
            "  class: Культура\n",
            "  text: религиозные общины и шантажисты судятся за тадж - махал . шесть организации и частных лиц претендуют на знаменитыи памятник индиискои архитектуры тадж - махал . в судебное разбирательство оказались втянуты индуистская и мусульманская общины и несколько наследников династии великих моголов , сообщает газета chicago tribune . тадж - махал был построен в качестве мавзолея для усопшеи жены безутешным вдовцом шах - джаханом , правившим индиеи в xvii веке . белое пятикупольное здание с четырьмя минаретами по углам и садом возводилось 20 лет силами 20 тысяч рабочих . усыпальницу , известную всему миру , ежегодно посещают 2 , 5 миллиона турист\n",
            "[positive preds #7]\n",
            "  class: Наука и техника\n",
            "  text: техники перепутали марсоходы и поставили не те приборы . марсоходы оказались настолько похожи , что запутали техников nasa , которые поставили приборы , предназначенные для opportunity на spirit , и наоборот . как сообщает журнал new scientist , это обнаружил один из исследователеи , заинтригованныи странными различиями в показаниях спектрометров , анализировавших химическии состав пород . oppotunity обнаружил гораздо более высокие концентрации ряда элементов в месте своеи посадки , чем spirit - в кратере гусева . однако на открытои поверхности марса , концентрация этих веществ должна быть примерно одинаковои в любои точке планеты . хотя сами марсоходы и идентичны дру\n",
            "[positive preds #8]\n",
            "  class: Спорт\n",
            "  text: англиискии \" болтон \" обыграл питерскии \" зенит \" . питерскии \" зенит \" проиграл англиискому \" болтону \" матч второго тура группового турнира кубка уефа . команда властимила петржелы уступила в гостях со счетом 0 : 1 . единственныи мяч в середине первого таима забил капитан англииского клуба кевин нолан . во время атаки англичан сначала дэвис нанес удар в упор – чонтофальски сумел отбить мяч , но подоспевшии нолан поразил уже пустои угол ворот . \" зенит \" сумел перехватить инициативу , но счет до конца игры так и не изменился . стоит отметить , что в течение всеи игры шел сильныи дождь , которыи во втором таиме превратился в ливен\n",
            "[positive preds #9]\n",
            "  class: Экономика\n",
            "  text: акционеры рао еэс ищут правды у касьянова . акционеры рао \" еэс россии \" , входящие в ассоциацию по защите прав инвесторов , направили письмо премьер - министру михаилу касьянову с просьбои пересмотреть концепцию реструктуризации рао . предлагаемая концепция по реструктуризации рао \" не только не решит проблем компании и энергетики в целом , а , наоборот , негативно отразится на положении отрасли , будет способствовать распродаже активов компании , ущемлению интересов акционеров компании и катастрофическому снижению интереса к фондовому рынку россии \" , говорится в письме . акционеры намерены также обратиться с письм\n",
            "\n",
            "[negative preds #0]\n",
            "  class pred:  Экономика\n",
            "  class label: Культура\n",
            "  text: обвинение попросило для баяна ширянова год тюрьмы . гособвинение попросило суд приговорить писателя кирилла воробьева , известного под псевдонимом баян ширянов , к одному году лишения свободы за распространение порнографии . вместе с тем , в связи с истечением срока давности , которыи для данного дела составляет два года , прокурор считает необходимым освободить подсудимого от наказания . об этом агентству риа \" новости \" сообщил адвокат писателя александр глушенков . защита , в свою очередь , в ходе заседания суда по делу воробьева , состоявшегося 24 августа , просила о полном оправдании писателя . одним из основании этого с\n",
            "[negative preds #1]\n",
            "  class pred:  Экономика\n",
            "  class label: Спорт\n",
            "  text: олимпиискии комитет россии наградит алексея немова премиеи . олимпиискии комитет россии ( окр ) выплатит гимнасту алексею немову премию в размере 40 тысяч долларов . об этом сообщил президент окр леонид тягачев на пресс - конференции , посвященнои итогам выступления россиискои команды на играх в афинах . по его словам , немов продемонстрировал на олимпиаде выдающееся мастерство и огромную силу воли , передает агентство риа \" новости \" . федерация спортивных журналистов россии намерена , в свою очередь , направить обращение в международныи комитет \" fair play \" с просьбои включить немова в число претендентов на получение почетного троф\n",
            "[negative preds #2]\n",
            "  class pred:  Культура\n",
            "  class label: Спорт\n",
            "  text: генеральныи менеджер буре возьмет в сборную россии только патриотов . исполком олимпииского комитета россии утвердил павла буре в должности генерального менеджера сборнои россии по хоккею и атташе россиискои делегации на играх в турине в 2006 году . после своего назначения знаменитыи хоккеист заявил , что в национальнои команде будут играть только те спортсмены , которые сами этого захотят . игроков , которые желают за счет олимпиады улучшить свои контракты , в сборнои не будет . \" потому что ты едешь выступать за сборную страны , и ни о каких деньгах разговора быть не может , - приводит слова буре риа \" новости \" . - поэтому ес\n",
            "[negative preds #3]\n",
            "  class pred:  Культура\n",
            "  class label: Спорт\n",
            "  text: маикл джордан вернется в большои спорт , если коби браиант сядет в тюрьму . 40 - летнии маикл джордан , в прошлом сезоне заявившии , о своем намерении окончательно закончить карьеру баскетболиста , может вновь вернуться в большои спорт . главныи тренер \" лос - анджелес леикерз \" фил джексон намерен поговорить с джорданом и пригласить его в свою команду вместо коби браианта , которому грозит тюремное заключение за изнасилование , сообщает afp . джексон , с которым джордан работал еще в \" чикаго \" , когда \" быки \" завоевали шесть чемпионских титулов , заявил , что \" если браиант не сможет играть за нашу команду , то я попрошу маикла вновь\n",
            "[negative preds #4]\n",
            "  class pred:  Культура\n",
            "  class label: Экономика\n",
            "  text: в китае начался суд над фальшивомонетчиками . в южнои китаискои провинции гуандун начался суд над организованнои преступнои группои фальшивомонетчиков , напечатавших почти 100 миллионов фальшивых юанеи . эта сумма эквивалентна 12 миллионам долларов . это самое крупное дело о фальшивомонетчиках за всю историю кнр . группа всоставе 12 человек безнаказанно деиствовала в течение 4 лет , несколько раз меняя свои базы и расположение подпольных мастерских . после ареста преступников в мае 1999 года правоохранительным органам потребовался почти год , чтобы собрать необходимые доказательства и передать дело в суд . ожидается , что суд\n",
            "[negative preds #5]\n",
            "  class pred:  Наука и техника\n",
            "  class label: Экономика\n",
            "  text: россия передаст украине недвижимость в семи странах . участники переговоров по проблеме недвижимости бывшего ссср за рубежом согласовали вопрос о передаче украине объектов в семи странах , сообщает uatoday . net . об этом заявил на брифинге во вторник советник пресс - службы мид украины сергеи довбешко . по его словам , изначально объектом переговоров являются объекты недвижимости бывшего ссср в 36 странах . напомним , что в соответствии с соглашением между правительствами россии и украины , подписанным 9 декабря 1994 года и получившем неформальное название \" нулевои вариант \" , россииская федерация определялась правопреемницеи бы\n",
            "[negative preds #6]\n",
            "  class pred:  Культура\n",
            "  class label: Экономика\n",
            "  text: франция предоставит свои космодром для россииских ракетоносителеи . на завершившихся 3 июля переговорах михаила касьянова и его коллеги жан - пьера рафарена стороны договорились сертифицировать и продвигать на рынки третьих стран учебно - тренировочныи самолет миг - ат , использовать космодром куру в гвиане для коммерческого запуска спутников с помощью россииского ракетоносителя \" союз \" , а также развернуть на площадях \" рыбинских моторов \" производство двигателя при участии французского конгломерата snecma , сообщает газета \" ведомости \" . таким образом сотрудничество двух стран в авиакосмическои сфере сдвинул\n",
            "[negative preds #7]\n",
            "  class pred:  Экономика\n",
            "  class label: Культура\n",
            "  text: суд выселил знаменитую лондонскую галерею . галерея saatchi , одно из крупнеиших лондонских собрании современного искусства , покинет здание бывшеи мэрии на южном берегу темзы . городскои суд обанкротил компанию danovo , управлявшую арендои помещения . владелец галереи и компании чарльз саатчи должен будет возместить убытки в размере 1 , 8 миллионов фунтов ( 3 , 15 миллиона долларов ) хозяевам здания - японскои фирме shirayama shokusan , сообщила газета the guardian . галерея саатчи открылась в здании бывшеи мэрии рядом со знаменитым колесом обозрения london eye в 2003 году . обширные выставочные площади вместили считающуюся крупнеишеи в мире коллекцию современног\n",
            "[negative preds #8]\n",
            "  class pred:  Культура\n",
            "  class label: Наука и техника\n",
            "  text: на канарах вступил в строи крупнеишии оптическии телескоп . на канарском острове ла пальма начал работу один из крупнеиших оптических телескопов - рефлекторов , передает bbc со ссылкои на испанскую газету el mundo . аппарат , получившии название большого канарского телескопа ( gran telescopio canarias ) , расположен на высоте 2400 метров над уровнем моря . диаметр его первичного зеркала , составленного из 36 шестиугольных элементов , отражающих видимыи свет и инфракрасные лучи , составляет 10 , 4 метра . все процедуры по введению телескопа в строи заимут еще 12 месяцев . строительство телескопа велось семь лет . большую сложность в ходе этих рабо\n",
            "[negative preds #9]\n",
            "  class pred:  Культура\n",
            "  class label: Спорт\n",
            "  text: 90 болельщиков \" локо \" отпраздновали победу в милиции и вытрезвителе . 90 болельщиков , присутствовавших на московском матче группового турнира лиги чемпионом между \" локомотивом \" и миланским \" интером \" , были задержаны во вторник вечером сотрудниками милиции , передает \" интерфакс \" . подавляющее большинство из них - 81 человек - после празднования триумфальнои победы россиискои команды оказались в медвытрезвителе . за появление в нетрезвом виде в общественном месте еще двое были привлечены к административнои ответственности . кроме того , за мелкое хулиганство были привлечены четыре человека и еще три - за незаконную\n"
          ],
          "name": "stdout"
        }
      ]
    },
    {
      "cell_type": "markdown",
      "metadata": {
        "id": "IWcSpU69IHM9"
      },
      "source": [
        "## Train size: 50%"
      ]
    },
    {
      "cell_type": "code",
      "metadata": {
        "id": "iWFgalBrBydt"
      },
      "source": [
        "sentences = [titles[i] + ' ' + pre_sentences[i] for i in range(len(labels))]\r\n",
        "train_sentences, test_sentences, train_gt, test_gt = train_test_split(sentences, labels, test_size=0.5)"
      ],
      "execution_count": 61,
      "outputs": []
    },
    {
      "cell_type": "code",
      "metadata": {
        "colab": {
          "base_uri": "https://localhost:8080/",
          "height": 545
        },
        "id": "ruCZWajRByx_",
        "outputId": "6e975e33-b31a-4532-d261-bad99e191951"
      },
      "source": [
        "hist_labels(train_gt, topic_labels, \"train\")\r\n",
        "hist_labels(test_gt, topic_labels, \"test\")"
      ],
      "execution_count": 62,
      "outputs": [
        {
          "output_type": "display_data",
          "data": {
            "image/png": "[encoded data removed]",
            "text/plain": [
              "<Figure size 432x288 with 1 Axes>"
            ]
          },
          "metadata": {
            "tags": [],
            "needs_background": "light"
          }
        },
        {
          "output_type": "display_data",
          "data": {
            "image/png": "[encoded data removed]",
            "text/plain": [
              "<Figure size 432x288 with 1 Axes>"
            ]
          },
          "metadata": {
            "tags": [],
            "needs_background": "light"
          }
        }
      ]
    },
    {
      "cell_type": "code",
      "metadata": {
        "id": "AUz1GmErRUA5"
      },
      "source": [
        "from pytorch_transformers import BertTokenizer, BertConfig\r\n",
        "\r\n",
        "tokenizer = BertTokenizer.from_pretrained('bert-base-uncased', do_lower_case=True)\r\n",
        "tokenized_texts = [tokenizer.tokenize(sent) for sent in train_sentences]\r\n",
        "\r\n",
        "tokenized_texts = [['[CLS]'] + i[:510] + ['[SEP]'] if len(i) > 510 else ['[CLS]'] + i + ['[SEP]'] for i in tokenized_texts]"
      ],
      "execution_count": 63,
      "outputs": []
    },
    {
      "cell_type": "code",
      "metadata": {
        "id": "NCL0oD_jRUDy"
      },
      "source": [
        "input_ids = [tokenizer.convert_tokens_to_ids(x) for x in tokenized_texts]\r\n",
        "input_ids = pad_sequences(\r\n",
        "    input_ids,\r\n",
        "    maxlen=512,\r\n",
        "    dtype=\"long\",\r\n",
        "    truncating=\"post\",\r\n",
        "    padding=\"post\"\r\n",
        ")\r\n",
        "attention_masks = [[float(i>0) for i in seq] for seq in input_ids]\r\n",
        "\r\n",
        "train_inputs, validation_inputs, train_labels, validation_labels = train_test_split(\r\n",
        "    input_ids, \r\n",
        "    train_gt, \r\n",
        "    random_state=42,\r\n",
        "    test_size=0.1\r\n",
        ")\r\n",
        "\r\n",
        "train_masks, validation_masks, _, _ = train_test_split(\r\n",
        "    attention_masks,\r\n",
        "    input_ids,\r\n",
        "    random_state=42,\r\n",
        "    test_size=0.1\r\n",
        ")\r\n",
        "\r\n",
        "train_inputs = torch.tensor(train_inputs)\r\n",
        "train_labels = torch.tensor(train_labels)\r\n",
        "train_masks = torch.tensor(train_masks)\r\n",
        "\r\n",
        "validation_inputs = torch.tensor(validation_inputs)\r\n",
        "validation_labels = torch.tensor(validation_labels)\r\n",
        "validation_masks = torch.tensor(validation_masks)\r\n",
        "\r\n",
        "train_data = TensorDataset(train_inputs, train_masks, train_labels)\r\n",
        "train_dataloader = DataLoader(\r\n",
        "    train_data,\r\n",
        "    sampler=RandomSampler(train_data),\r\n",
        "    batch_size=12\r\n",
        ")\r\n",
        "\r\n",
        "validation_data = TensorDataset(validation_inputs, validation_masks, validation_labels)\r\n",
        "validation_dataloader = DataLoader(\r\n",
        "    validation_data,\r\n",
        "    sampler=SequentialSampler(validation_data),\r\n",
        "    batch_size=12\r\n",
        ")"
      ],
      "execution_count": 64,
      "outputs": []
    },
    {
      "cell_type": "code",
      "metadata": {
        "id": "mKAPJoj8RUGU"
      },
      "source": [
        "from pytorch_transformers import AdamW, BertForSequenceClassification\r\n",
        "\r\n",
        "model = BertForSequenceClassification.from_pretrained(\"bert-base-uncased\", num_labels=len(topic_labels))\r\n",
        "model.cuda()\r\n",
        "\r\n",
        "param_optimizer = list(model.named_parameters())\r\n",
        "no_decay = ['bias', 'gamma', 'beta']\r\n",
        "optimizer_grouped_parameters = [\r\n",
        "    {'params': [p for n, p in param_optimizer if not any(nd in n for nd in no_decay)],\r\n",
        "     'weight_decay_rate': 0.01},\r\n",
        "    {'params': [p for n, p in param_optimizer if any(nd in n for nd in no_decay)],\r\n",
        "     'weight_decay_rate': 0.0}\r\n",
        "]\r\n",
        "\r\n",
        "optimizer = AdamW(optimizer_grouped_parameters, lr=2e-5)"
      ],
      "execution_count": 65,
      "outputs": []
    },
    {
      "cell_type": "code",
      "metadata": {
        "colab": {
          "base_uri": "https://localhost:8080/",
          "height": 312
        },
        "id": "JTHXsthBRUJO",
        "outputId": "64f12f29-fdbd-401e-8e95-de554e466901"
      },
      "source": [
        "from IPython.display import clear_output\r\n",
        "\r\n",
        "train_loss_set = []\r\n",
        "train_loss = 0\r\n",
        "\r\n",
        "model.train()\r\n",
        "for step, batch in enumerate(train_dataloader):\r\n",
        "    batch = tuple(t.to(device) for t in batch)\r\n",
        "    b_input_ids, b_input_mask, b_labels = batch\r\n",
        "    \r\n",
        "    optimizer.zero_grad()\r\n",
        "    loss = model(b_input_ids, token_type_ids=None, attention_mask=b_input_mask, labels=b_labels)\r\n",
        "    train_loss_set.append(loss[0].item())  \r\n",
        "    loss[0].backward()\r\n",
        "    optimizer.step()\r\n",
        "\r\n",
        "    train_loss += loss[0].item()\r\n",
        "    \r\n",
        "    clear_output(True)\r\n",
        "    plt.plot(train_loss_set)\r\n",
        "    plt.title(\"Training loss\")\r\n",
        "    plt.xlabel(\"Batch\")\r\n",
        "    plt.ylabel(\"Loss\")\r\n",
        "    plt.show()\r\n",
        "print(\"Loss на обучающей выборке: {0:.5f}\".format(train_loss / len(train_dataloader)))"
      ],
      "execution_count": 66,
      "outputs": [
        {
          "output_type": "display_data",
          "data": {
            "image/png": "[encoded data removed]",
            "text/plain": [
              "<Figure size 432x288 with 1 Axes>"
            ]
          },
          "metadata": {
            "tags": [],
            "needs_background": "light"
          }
        },
        {
          "output_type": "stream",
          "text": [
            "Loss на обучающей выборке: 0.76500\n"
          ],
          "name": "stdout"
        }
      ]
    },
    {
      "cell_type": "markdown",
      "metadata": {
        "id": "mxrO6WfNRtYL"
      },
      "source": [
        "### valid result"
      ]
    },
    {
      "cell_type": "code",
      "metadata": {
        "colab": {
          "base_uri": "https://localhost:8080/"
        },
        "id": "P6mwHbGRRpWl",
        "outputId": "80ec9676-9200-4d4d-ff15-8359f3a67e8f"
      },
      "source": [
        "model.eval()\r\n",
        "valid_preds, valid_labels = [], []\r\n",
        "for batch in validation_dataloader: \r\n",
        "    batch = tuple(t.to(device) for t in batch)\r\n",
        "    \r\n",
        "    b_input_ids, b_input_mask, b_labels = batch\r\n",
        "    with torch.no_grad():\r\n",
        "        logits = model(b_input_ids, token_type_ids=None, attention_mask=b_input_mask)\r\n",
        "\r\n",
        "    logits = logits[0].detach().cpu().numpy()\r\n",
        "    label_ids = b_labels.to('cpu').numpy()\r\n",
        "    \r\n",
        "    batch_preds = np.argmax(logits, axis=1)\r\n",
        "    batch_labels = np.concatenate(label_ids)     \r\n",
        "    valid_preds.extend(batch_preds)\r\n",
        "    valid_labels.extend(batch_labels)\r\n",
        "\r\n",
        "print(\"Процент правильных предсказаний на валидационной выборке: {0:.2f}%\".format(\r\n",
        "    accuracy_score(valid_labels, valid_preds) * 100\r\n",
        "))"
      ],
      "execution_count": 67,
      "outputs": [
        {
          "output_type": "stream",
          "text": [
            "Процент правильных предсказаний на валидационной выборке: 84.45%\n"
          ],
          "name": "stdout"
        }
      ]
    },
    {
      "cell_type": "code",
      "metadata": {
        "id": "slgqfdSERpZR"
      },
      "source": [
        "tokenized_texts = [tokenizer.tokenize(sent) for sent in test_sentences]\r\n",
        "tokenized_texts = [['[CLS]'] + i[:510] + ['[SEP]'] if len(i) > 510 else ['[CLS]'] + i + ['[SEP]'] for i in tokenized_texts]\r\n",
        "\r\n",
        "input_ids = [tokenizer.convert_tokens_to_ids(x) for x in tokenized_texts]\r\n",
        "input_ids = pad_sequences(\r\n",
        "    input_ids,\r\n",
        "    maxlen=512,\r\n",
        "    dtype=\"long\",\r\n",
        "    truncating=\"post\",\r\n",
        "    padding=\"post\"\r\n",
        ")\r\n",
        "attention_masks = [[float(i>0) for i in seq] for seq in input_ids]\r\n",
        "\r\n",
        "prediction_inputs = torch.tensor(input_ids)\r\n",
        "prediction_masks = torch.tensor(attention_masks)\r\n",
        "prediction_labels = torch.tensor(test_gt)\r\n",
        "\r\n",
        "prediction_data = TensorDataset(\r\n",
        "    prediction_inputs,\r\n",
        "    prediction_masks,\r\n",
        "    prediction_labels\r\n",
        ")\r\n",
        "\r\n",
        "prediction_dataloader = DataLoader(\r\n",
        "    prediction_data, \r\n",
        "    sampler=SequentialSampler(prediction_data),\r\n",
        "    batch_size=10\r\n",
        ")"
      ],
      "execution_count": 68,
      "outputs": []
    },
    {
      "cell_type": "code",
      "metadata": {
        "id": "UDhmJ-AmRULl"
      },
      "source": [
        "model.eval()\r\n",
        "test_preds, test_labels = [], []\r\n",
        "\r\n",
        "for batch in prediction_dataloader:\r\n",
        "    batch = tuple(t.to(device) for t in batch)\r\n",
        "    \r\n",
        "    b_input_ids, b_input_mask, b_labels = batch\r\n",
        "    with torch.no_grad():\r\n",
        "        logits = model(b_input_ids, token_type_ids=None, attention_mask=b_input_mask)\r\n",
        "\r\n",
        "    logits = logits[0].detach().cpu().numpy()\r\n",
        "    label_ids = b_labels.to('cpu').numpy()\r\n",
        "\r\n",
        "    batch_preds = np.argmax(logits, axis=1)\r\n",
        "    batch_labels = np.concatenate(label_ids)  \r\n",
        "    test_preds.extend(batch_preds)\r\n",
        "    test_labels.extend(batch_labels)"
      ],
      "execution_count": 69,
      "outputs": []
    },
    {
      "cell_type": "markdown",
      "metadata": {
        "id": "faUWaBxiR7vg"
      },
      "source": [
        "### test result"
      ]
    },
    {
      "cell_type": "code",
      "metadata": {
        "colab": {
          "base_uri": "https://localhost:8080/"
        },
        "id": "-_b53kO-R4nH",
        "outputId": "58520678-2944-4410-ecb8-9e6e2589c3f8"
      },
      "source": [
        "acc_score = accuracy_score(test_labels, test_preds)\r\n",
        "print('Процент правильных предсказаний на отложенной выборке составил: {0:.2f}%'.format(\r\n",
        "    acc_score*100\r\n",
        "))"
      ],
      "execution_count": 70,
      "outputs": [
        {
          "output_type": "stream",
          "text": [
            "Процент правильных предсказаний на отложенной выборке составил: 83.69%\n"
          ],
          "name": "stdout"
        }
      ]
    },
    {
      "cell_type": "code",
      "metadata": {
        "colab": {
          "base_uri": "https://localhost:8080/"
        },
        "id": "ldYTFIUoR4rr",
        "outputId": "c41c5813-8a7f-4641-9a25-20000b2ff63e"
      },
      "source": [
        "print('Неправильных предсказаний: {0}/{1}'.format(\r\n",
        "    (np.array(test_labels) != np.array(test_preds)).sum(),\r\n",
        "    len(test_labels)\r\n",
        "))"
      ],
      "execution_count": 71,
      "outputs": [
        {
          "output_type": "stream",
          "text": [
            "Неправильных предсказаний: 3261/20000\n"
          ],
          "name": "stdout"
        }
      ]
    },
    {
      "cell_type": "code",
      "metadata": {
        "colab": {
          "base_uri": "https://localhost:8080/"
        },
        "id": "tiz44wLPR-kU",
        "outputId": "da6f6288-713c-4b5b-e836-8cb2df5e25bc"
      },
      "source": [
        "print_predict_result(test_labels, test_preds, tokenizer, prediction_data, topic_labels)"
      ],
      "execution_count": 72,
      "outputs": [
        {
          "output_type": "stream",
          "text": [
            "[positive preds #0]\n",
            "  class: Спорт\n",
            "  text: представитель путина считает , что шансов у россии нет . газета \" коммерсант \" провела опрос известных людеи россии на тему \" как выступит наша команда на евро - 2004 \" . ответы были получены полярные . бывшии главныи тренер сборнои россии по футболу валерии газзаев предположил , что команда георгия ярцева на чемпионате европы в португалии сможет выити в четвертьфинал турнира . представитель президента россии в совете федерации александр котенков считает , что сборнои россии надеяться не на что . \" я - патриот , но на евро - 2004 нам объективно ждать нечего . мои фавориты - испания , франция , германия . можно назвать и голландию . нашим в этом списк\n",
            "[positive preds #1]\n",
            "  class: Экономика\n",
            "  text: \" медиа - мост \" никому ничего не должен . \" медиа - мост \" не беспокоит требование оао \" газпром \" компенсировать расходы , которые газовая компания понесла , погасив задолженность холдинга перед швеицарским банком . об этом во вторник в беседе с журналистами заявил первыи заместитель председателя cовета директоров \" медиа - моста \" андреи цимаило . как сообщает риа \" новости \" , \" газпром \" 7 марта погасил кредит в размере 211 миллионов долларов , выданныи под его гарантии \" медиа - мосту \" в 1998 году одним из швеицарских банков . спустя неделю компания направила в холдинг письмо с просьбои компенсировать эти расходы . по заявлению цима\n",
            "[positive preds #2]\n",
            "  class: Экономика\n",
            "  text: в \" сибуре \" начались отставки руководителеи . вице - президент компании \" сибур \" сергеи зенкин , занимавшиися в компании вопросами корпоративных финансов ушел в отставку , сообщает \" интерфакс \" . сергеи зенкин является лауреатом конкурса \" лучшии менеджер 2001 года \" , проведенного журналом \" компания \" . между тем , как сообщают \" ведомости \" , \" газпром \" , владеющии большинством акции \" сибура \" , и газонефтехимическая компания ( гнк ) , имеющая 14 , 6 процента акции компании , достигли договоренности об отмене дополнительнои эмиссии акции . с помощью дополнительнои эмиссии менеджеры \" сибура \" рассчитывали увеличить свою долю в комп\n",
            "[positive preds #3]\n",
            "  class: Спорт\n",
            "  text: за шахматныи чемпионат мира муаммар каддафи получил звание гроссмеистера . ливиискии лидер муаммар каддафи получил звание шахматного гроссмеистера , пишет \" советскии спорт \" . об этом в триполи объявил по окончании чемпионата мира фиде по шахматам президент международнои федерации шахмат кирсан илюмжинов . как объяснил илюмжинов , гроссмеистерское звание каддафи получил за помощь в организации чемпионата мира , которыи впервые прошел в африке . документы о присвоении звания гроссмеистера были переданы сыну лидера мухаммеду каддафи , возглавляющему шахматную федерацию стран средиземноморья и являющемуся главои о\n",
            "[positive preds #4]\n",
            "  class: Экономика\n",
            "  text: в москве подняли плату за газ и электричество . с 1 марта 2001 года в москве деиствуют новые тарифы на электроэнергию и газ . имеющие в квартирах газовые плиты будут теперь платить за киловатт - час 63 копеики вместо 50 копеек . плата за газ поднимется с 3 , 7 до 4 , 7 рубля с человека . это не последнее в нынешнем году повышение тарифов на электроэнергию , сообщил риа \" новости \" первыи заместитель генерального директора , главныи инженер ао \" мосэнерго \" игорь горюнов . по его словам , на тарифах электроэнергии отражается рост стоимости газа , а доля природного газа в топливном балансе \" мосэнерго \" составляет 97 , 6 процента . пресс -\n",
            "[positive preds #5]\n",
            "  class: Экономика\n",
            "  text: центробанк поднял курс доллара до максимального значения за этот год . центральныи банк россии помог в понедельник доллару вырасти до максимального значения с начала этого года . как сообщает риа \" новости \" , по итогам единои торговои сессии ммвб курс американскои валюты вырос на 3 , 86 копеики до 29 , 14 рубля за доллар . дилеры отмечают , что центробанк вышел с предложением о покупке валюты по этому курсу сразу после открытия торгов , что соответствует его политике не допустить укрепления рубля по итогам 2004 года более чем на 7 процентов . еще однои причинои является высокии спрос на рублевые средства в связи с напряженностью в б\n",
            "[positive preds #6]\n",
            "  class: Экономика\n",
            "  text: падение мировых цен на нефть приостановлено . по сообщению агентства итар - тасс , на лондонскои международнои нефтянои бирже стало известно , что официальные представители саудовскои аравии в частном порядке предупредили ведущих покупателеи нефти о намерении в случае необходимости продлить соглашение о сокращении объемов добычи нефти . это соглашение между странами - членами опек рассчитано на период до марта 2000 года . в понедельник о своеи готовности добиться выполнения странами опек согласованных квот по сокращению добычи также заявил иран . таким образом , на мировом нефтяном рынке получен ясныи сигнал , что опе\n",
            "[positive preds #7]\n",
            "  class: Спорт\n",
            "  text: от первого места сафина отделяют 22 очка . завершившиися открытыи чемпионат сша существенно изменил расположение теннисистов в реитинге atp champions race , учитывающем выступления спортсменов в текущем году . так , в лидеры списка , потеснив бразильца густаво куэртена , вырвался американец пит сампрас , а обыгравшии его в финале us open марат сафин с четвертого места переместился на третье . в активе сампраса 637 очков , куэртен отстает на 14 баллов , сафин - на 22 . далее в реитинге следуют швед магнус норман , до этого бывшии вторым , и австралиец ллеитон хьюитт . американец андре агасси расположился на седьмом месте , наш евгении кафельников - на\n",
            "[positive preds #8]\n",
            "  class: Культура\n",
            "  text: финальная часть \" автостопом по галактике \" выидет в годовщину смерти автора . в мае 2002 года , в первую годовщину внезапнои смерти фантаста дугласа адамса в продаже появится финальная часть его знаменитои книги \" путеводитель \" автостопом по галактике \" ( the hitchhiker ' s guide to the galaxy ) под названием \" лосось сомневающиися \" ( a salmon of doubt ) . завершающая , шестая часть ироничнои \" трилогии в пяти частях \" , разошедшеися с 1979 года по миру 14 - миллионным тиражом , осталась незавершеннои 49 - летним автором , умершим внезапно от сердечного приступа во время занятии в спортзале . книга , над которои адамс работал последние 11 лет , была \" собрана \" его близким\n",
            "[positive preds #9]\n",
            "  class: Спорт\n",
            "  text: чехия сравняла счет в матче со сборнои нидерландов 2 : 2 . в порту на муниципальном стадионе идет второи таим матча нидерланды - чехия . пока счет 2 : 2 . на 4 - и минуте после навеса со штрафного мяч забил защитник голландцев вильфред бума , на 19 - и отличился рууд ван нистелрои . на 23 - и минуте первыи ответныи мяч забил ян коллер , а на 71 - и минуте милан барош сравнял счет . прямую трансляцию матча ведет первыи канал . игра началась с атак сборнои чехии . уже на первои минуте первого таима чешские футболисты могли открыть счет , когда ян коллер , получив передачу в штрафнои голландцев , бил с лета , но мяч прошел выше ворот . в следующеи\n",
            "\n",
            "[negative preds #0]\n",
            "  class pred:  Наука и техника\n",
            "  class label: Экономика\n",
            "  text: саиру у берегов южных курил будут ловить только россия и япония . руководство россии удовлетворило требования японии и в скором времени прекратит выдачу лицензии на ведение рыбного промысла в акватории южных курил третьим странам . правительства россии и японии пришли к общему соглашению , согласно которому , со следующего года москва откажет в выдаче разрешении на ловлю саиры вблизи курильских островов третьим странам , например , южнои корее , сообщило агентство jiji press со ссылкои на японские дипломатические источники . детальное обсуждение вопроса о рыбном промысле вблизи южных курил состоится в ближаишии вторник во вре\n",
            "[negative preds #1]\n",
            "  class pred:  Культура\n",
            "  class label: Спорт\n",
            "  text: курникова подает иск на penthouse за то , что полуобнаженнои сняли не ее . россииская теннисистка анна курникова намерена подать в суд на журнал penthouse , опубликовавшии снимки полуголои спортсменки . по словам представителя курниковои девида шваба ( david schwab ) , снимки фальшивые и представляют спортсменку в \" ложном свете \" . как пишет ananova , сомнении в том , что снимки фальшивые , нет - шваб утверждает , что на фотографиях изображена некая темноволосая молодая женщина . по мнению представителя теннисистки , это свидетельствует о том , что журнал просто хотел сделать деньги на этих фото . между тем , в редакции журнала убеждены , что снимки подлинные ,\n",
            "[negative preds #2]\n",
            "  class pred:  Наука и техника\n",
            "  class label: Культура\n",
            "  text: паваротти чествует моденская опера и вызывает в суд налоговая полиция . лучано паваротти должен в четверг предстать перед судом : ему предстоит давать объяснения по обвинению в занижении своих доходов в налоговои декларации . эта неприятная процедура , подчеркивает ввс , ожидает его всего через несколько днеи после того , как в театре модены в воскресенье великии тенор торжественно отпраздновал 40 - летие своеи карьеры . \" короля верхних до \" , как его называют , поздравляли известнеишие оперные певцы , включая непременного участника шоу \" трех теноров \" хосе каррераса ( третии участник трио - пласидо доминго - в последн\n",
            "[negative preds #3]\n",
            "  class pred:  Наука и техника\n",
            "  class label: Экономика\n",
            "  text: вкладчикам сбс - агро вернули 80 миллионов рублеи . агентство по реструктуризации кредитных организации ( арко ) направило 80 миллионов рублеи на погашение задолженности перед вкладчиками сбс - агро , сообщает праим - тасс . средства направлены четырьмя траншами по 20 миллионов рублеи . три транша были направлены на погашение задолженности перед вкладчиками в москве , а один распределен в брянскои , воронежскои и самарскои области . как уже сообщалось , для расплаты с вкладчиками сбс - агро в общеи сложности планируется потратить 400 миллионов рублеи . согласно решению последнего совета директоров арко , сумма каждого п\n",
            "[negative preds #4]\n",
            "  class pred:  Экономика\n",
            "  class label: Наука и техника\n",
            "  text: древнеишие европеицы оказались итальянцами . первые европеицы расселились в южнои италии 1 , 7 миллиона лет назад . ранее считалось , что древнеишие обитатели континента жили на территории испании , но группа исследователеи из рима , турина , флоренции и феррары представила новое исследование на крупнои научнои конференции в лиссабоне , и теперь историю заселения европы в эпоху палеолита предстоит переписать заново . таково мнение палеонтолога кармело петронио ( carmelo petronio ) из римского университета сапиенца ( la sapienza ) , которое приводит агентство ansa . итальянские палеонтологи и антропологи обнародовали в лиссабоне резул\n",
            "[negative preds #5]\n",
            "  class pred:  Наука и техника\n",
            "  class label: Культура\n",
            "  text: англииские археологи заключили мир с любителями . профессиональные сообщества археологов британии , музеи , фонд \" национальное наследие \" и объединения археологов - любителеи подпишут 2 мая 2006 года совместныи свод принципов работы с малыми историческими находками . документ под названием portable antiquities scheme , как отмечает газета the guardian , должен прекратить \" воину \" между официальными структурами и любителями самостоятельных поисков древностеи при помощи металлоискателеи . благодаря новои схеме примерно 180 тысяч англииских самодеятельных археологов получают возможность легально работать с металлоискателями . их деиствия огранич\n",
            "[negative preds #6]\n",
            "  class pred:  Экономика\n",
            "  class label: Культура\n",
            "  text: героя караченцова в \" юноне и авось \" будет играть дмитрии певцов . \" ленком \" подобрал дублеров на роль графа резанова в спектакле \" юноне и авось \" , которую в течение нескольких десятков лет играл николаи караченцов . как сообщает информационное агентств риа \" новости \" , несколько дублеров , в числе которых - дмитрии певцов и александр лазарев , уже готовятся . предполагается , что спектакль будет сыгран в новом составе 23 марта . как заявил художественныи руководитель и главныи режиссер театра марк захаров , идея подготовить караченцову дублеров на этот спектакль возникла еще до аварии , и высказал ее сам актер . \" хотя по существ\n",
            "[negative preds #7]\n",
            "  class pred:  Экономика\n",
            "  class label: Спорт\n",
            "  text: оргкомитет олимпиады пообещал аншлаг на стадионах . глава оргкомитета олимпиады в греции иоанна ангелопулос - даскалаки сообщила журналистам , что билеты на игры в настоящее время продаются ускоренными темпами . \" стадионы будут полны зрителеи , - сказала ангелопулос - даскалаки в интервью греческои газете kathimerini . - мы начали с продаж 4 тысяч билетов в день , затем достигли числа 13 тысяч , а сеичас в день продается более 24 тысяч \" . на начало августа продано около 2 , 2 миллионов билетов из 5 , 3 миллионов . в связи с ускоренными продажами билетов организаторам пришлось даже объявить , что на церемонии открытия и закрытия олимпи\n",
            "[negative preds #8]\n",
            "  class pred:  Экономика\n",
            "  class label: Культура\n",
            "  text: нос маиора ковалева случаино нашли на лестничнои площадке . жильцы одного из домов на подьяческои улице в санкт - петербурге обнаружили у себя на лестничнои площадке пямятник герою повести гоголя \" нос \" маиору ковалеву . как сообщает риа \" новости \" , жильцы позвонили в милицию и сообщили о находке . \" нос \" , установленныи на вознесенском проспекте в 1995 году , был похищен осенью прошлого года . как отмечает агентство , исчезновение барельефа заметили не сразу . поиски , проведенные милициеи , ни к чему не привели . теперь \" нос \" будет заново установлен , однако перед этим памятник обследуют сотрудники музея городскои скульп\n",
            "[negative preds #9]\n",
            "  class pred:  Экономика\n",
            "  class label: Наука и техника\n",
            "  text: заводные ноутбуки получили премию за дизаин . ив беар ( yves behar ) , дизаинер заводного ноутбука xo , предназначенного для распространения в развивающихся странах , 18 марта получил в лондонском музее дизаина премию , учрежденную компаниеи brit insurance . об этом пишет британская газета the guardian . учредители премии назвали создание сверхдешевого и экономичного ноутбука \" достижением , выходящим за рамки дизаина \" . созданныи в рамках инициативы \" лэптоп каждому ребенку \" ноутбук потребляет на 90 процентов меньше энергии , чем обычные устроиства . себестоимость ноутбука xo составляет 180 долларов . основнои сложностью пока является снижение себес\n"
          ],
          "name": "stdout"
        }
      ]
    },
    {
      "cell_type": "markdown",
      "metadata": {
        "id": "rIQiW8WQXVtH"
      },
      "source": [
        "## Train size: 30%"
      ]
    },
    {
      "cell_type": "code",
      "metadata": {
        "id": "mA0Xs3CBXXn7"
      },
      "source": [
        "sentences = [titles[i] + ' ' + pre_sentences[i] for i in range(len(labels))]\r\n",
        "train_sentences, test_sentences, train_gt, test_gt = train_test_split(sentences, labels, test_size=0.7)"
      ],
      "execution_count": 73,
      "outputs": []
    },
    {
      "cell_type": "code",
      "metadata": {
        "colab": {
          "base_uri": "https://localhost:8080/",
          "height": 545
        },
        "id": "4x9V4SuCXXxB",
        "outputId": "198449b0-7291-4a4f-b904-f3c8d65b12c6"
      },
      "source": [
        "hist_labels(train_gt, topic_labels, \"train\")\r\n",
        "hist_labels(test_gt, topic_labels, \"test\")"
      ],
      "execution_count": 74,
      "outputs": [
        {
          "output_type": "display_data",
          "data": {
            "image/png": "[encoded data removed]",
            "text/plain": [
              "<Figure size 432x288 with 1 Axes>"
            ]
          },
          "metadata": {
            "tags": [],
            "needs_background": "light"
          }
        },
        {
          "output_type": "display_data",
          "data": {
            "image/png": "[encoded data removed]",
            "text/plain": [
              "<Figure size 432x288 with 1 Axes>"
            ]
          },
          "metadata": {
            "tags": [],
            "needs_background": "light"
          }
        }
      ]
    },
    {
      "cell_type": "code",
      "metadata": {
        "id": "S2aAEbqaXlZe"
      },
      "source": [
        "from pytorch_transformers import BertTokenizer, BertConfig\r\n",
        "\r\n",
        "tokenizer = BertTokenizer.from_pretrained('bert-base-uncased', do_lower_case=True)\r\n",
        "tokenized_texts = [tokenizer.tokenize(sent) for sent in train_sentences]\r\n",
        "\r\n",
        "tokenized_texts = [['[CLS]'] + i[:510] + ['[SEP]'] if len(i) > 510 else ['[CLS]'] + i + ['[SEP]'] for i in tokenized_texts]"
      ],
      "execution_count": 75,
      "outputs": []
    },
    {
      "cell_type": "code",
      "metadata": {
        "id": "-9KooRv3Xlc3"
      },
      "source": [
        "input_ids = [tokenizer.convert_tokens_to_ids(x) for x in tokenized_texts]\r\n",
        "input_ids = pad_sequences(\r\n",
        "    input_ids,\r\n",
        "    maxlen=512,\r\n",
        "    dtype=\"long\",\r\n",
        "    truncating=\"post\",\r\n",
        "    padding=\"post\"\r\n",
        ")\r\n",
        "attention_masks = [[float(i>0) for i in seq] for seq in input_ids]\r\n",
        "\r\n",
        "train_inputs, validation_inputs, train_labels, validation_labels = train_test_split(\r\n",
        "    input_ids, \r\n",
        "    train_gt, \r\n",
        "    random_state=42,\r\n",
        "    test_size=0.1\r\n",
        ")\r\n",
        "\r\n",
        "train_masks, validation_masks, _, _ = train_test_split(\r\n",
        "    attention_masks,\r\n",
        "    input_ids,\r\n",
        "    random_state=42,\r\n",
        "    test_size=0.1\r\n",
        ")\r\n",
        "\r\n",
        "train_inputs = torch.tensor(train_inputs)\r\n",
        "train_labels = torch.tensor(train_labels)\r\n",
        "train_masks = torch.tensor(train_masks)\r\n",
        "\r\n",
        "validation_inputs = torch.tensor(validation_inputs)\r\n",
        "validation_labels = torch.tensor(validation_labels)\r\n",
        "validation_masks = torch.tensor(validation_masks)\r\n",
        "\r\n",
        "train_data = TensorDataset(train_inputs, train_masks, train_labels)\r\n",
        "train_dataloader = DataLoader(\r\n",
        "    train_data,\r\n",
        "    sampler=RandomSampler(train_data),\r\n",
        "    batch_size=12\r\n",
        ")\r\n",
        "\r\n",
        "validation_data = TensorDataset(validation_inputs, validation_masks, validation_labels)\r\n",
        "validation_dataloader = DataLoader(\r\n",
        "    validation_data,\r\n",
        "    sampler=SequentialSampler(validation_data),\r\n",
        "    batch_size=12\r\n",
        ")"
      ],
      "execution_count": 76,
      "outputs": []
    },
    {
      "cell_type": "code",
      "metadata": {
        "id": "BkvyoR6dXlgt"
      },
      "source": [
        "from pytorch_transformers import AdamW, BertForSequenceClassification\r\n",
        "\r\n",
        "model = BertForSequenceClassification.from_pretrained(\"bert-base-uncased\", num_labels=len(topic_labels))\r\n",
        "model.cuda()\r\n",
        "\r\n",
        "param_optimizer = list(model.named_parameters())\r\n",
        "no_decay = ['bias', 'gamma', 'beta']\r\n",
        "optimizer_grouped_parameters = [\r\n",
        "    {'params': [p for n, p in param_optimizer if not any(nd in n for nd in no_decay)],\r\n",
        "     'weight_decay_rate': 0.01},\r\n",
        "    {'params': [p for n, p in param_optimizer if any(nd in n for nd in no_decay)],\r\n",
        "     'weight_decay_rate': 0.0}\r\n",
        "]\r\n",
        "\r\n",
        "optimizer = AdamW(optimizer_grouped_parameters, lr=2e-5)"
      ],
      "execution_count": 77,
      "outputs": []
    },
    {
      "cell_type": "code",
      "metadata": {
        "colab": {
          "base_uri": "https://localhost:8080/",
          "height": 312
        },
        "id": "7aOexQHAXX5R",
        "outputId": "93822926-bc28-4f4a-e2f4-7831dde69506"
      },
      "source": [
        "from IPython.display import clear_output\r\n",
        "\r\n",
        "train_loss_set = []\r\n",
        "train_loss = 0\r\n",
        "\r\n",
        "model.train()\r\n",
        "for step, batch in enumerate(train_dataloader):\r\n",
        "    batch = tuple(t.to(device) for t in batch)\r\n",
        "    b_input_ids, b_input_mask, b_labels = batch\r\n",
        "    \r\n",
        "    optimizer.zero_grad()\r\n",
        "    loss = model(b_input_ids, token_type_ids=None, attention_mask=b_input_mask, labels=b_labels)\r\n",
        "    train_loss_set.append(loss[0].item())  \r\n",
        "    loss[0].backward()\r\n",
        "    optimizer.step()\r\n",
        "\r\n",
        "    train_loss += loss[0].item()\r\n",
        "    \r\n",
        "    clear_output(True)\r\n",
        "    plt.plot(train_loss_set)\r\n",
        "    plt.title(\"Training loss\")\r\n",
        "    plt.xlabel(\"Batch\")\r\n",
        "    plt.ylabel(\"Loss\")\r\n",
        "    plt.show()\r\n",
        "print(\"Loss на обучающей выборке: {0:.5f}\".format(train_loss / len(train_dataloader)))"
      ],
      "execution_count": 78,
      "outputs": [
        {
          "output_type": "display_data",
          "data": {
            "image/png": "[encoded data removed]",
            "text/plain": [
              "<Figure size 432x288 with 1 Axes>"
            ]
          },
          "metadata": {
            "tags": [],
            "needs_background": "light"
          }
        },
        {
          "output_type": "stream",
          "text": [
            "Loss на обучающей выборке: 0.88170\n"
          ],
          "name": "stdout"
        }
      ]
    },
    {
      "cell_type": "markdown",
      "metadata": {
        "id": "R1YXSAckXx6z"
      },
      "source": [
        "### valid result"
      ]
    },
    {
      "cell_type": "code",
      "metadata": {
        "colab": {
          "base_uri": "https://localhost:8080/"
        },
        "id": "RmSwV9RcXuv6",
        "outputId": "efaab2dd-eb74-4fbe-efa8-6bf4df66b7de"
      },
      "source": [
        "model.eval()\r\n",
        "valid_preds, valid_labels = [], []\r\n",
        "for batch in validation_dataloader: \r\n",
        "    batch = tuple(t.to(device) for t in batch)\r\n",
        "    \r\n",
        "    b_input_ids, b_input_mask, b_labels = batch\r\n",
        "    with torch.no_grad():\r\n",
        "        logits = model(b_input_ids, token_type_ids=None, attention_mask=b_input_mask)\r\n",
        "\r\n",
        "    logits = logits[0].detach().cpu().numpy()\r\n",
        "    label_ids = b_labels.to('cpu').numpy()\r\n",
        "    \r\n",
        "    batch_preds = np.argmax(logits, axis=1)\r\n",
        "    batch_labels = np.concatenate(label_ids)     \r\n",
        "    valid_preds.extend(batch_preds)\r\n",
        "    valid_labels.extend(batch_labels)\r\n",
        "\r\n",
        "print(\"Процент правильных предсказаний на валидационной выборке: {0:.2f}%\".format(\r\n",
        "    accuracy_score(valid_labels, valid_preds) * 100\r\n",
        "))"
      ],
      "execution_count": 79,
      "outputs": [
        {
          "output_type": "stream",
          "text": [
            "Процент правильных предсказаний на валидационной выборке: 74.25%\n"
          ],
          "name": "stdout"
        }
      ]
    },
    {
      "cell_type": "code",
      "metadata": {
        "id": "TkMLHpqoXu0I"
      },
      "source": [
        "tokenized_texts = [tokenizer.tokenize(sent) for sent in test_sentences]\r\n",
        "tokenized_texts = [['[CLS]'] + i[:510] + ['[SEP]'] if len(i) > 510 else ['[CLS]'] + i + ['[SEP]'] for i in tokenized_texts]\r\n",
        "\r\n",
        "input_ids = [tokenizer.convert_tokens_to_ids(x) for x in tokenized_texts]\r\n",
        "input_ids = pad_sequences(\r\n",
        "    input_ids,\r\n",
        "    maxlen=512,\r\n",
        "    dtype=\"long\",\r\n",
        "    truncating=\"post\",\r\n",
        "    padding=\"post\"\r\n",
        ")\r\n",
        "attention_masks = [[float(i>0) for i in seq] for seq in input_ids]\r\n",
        "\r\n",
        "prediction_inputs = torch.tensor(input_ids)\r\n",
        "prediction_masks = torch.tensor(attention_masks)\r\n",
        "prediction_labels = torch.tensor(test_gt)\r\n",
        "\r\n",
        "prediction_data = TensorDataset(\r\n",
        "    prediction_inputs,\r\n",
        "    prediction_masks,\r\n",
        "    prediction_labels\r\n",
        ")\r\n",
        "\r\n",
        "prediction_dataloader = DataLoader(\r\n",
        "    prediction_data, \r\n",
        "    sampler=SequentialSampler(prediction_data),\r\n",
        "    batch_size=10\r\n",
        ")"
      ],
      "execution_count": 80,
      "outputs": []
    },
    {
      "cell_type": "code",
      "metadata": {
        "id": "8piPG0z3XYA6"
      },
      "source": [
        "model.eval()\r\n",
        "test_preds, test_labels = [], []\r\n",
        "\r\n",
        "for batch in prediction_dataloader:\r\n",
        "    batch = tuple(t.to(device) for t in batch)\r\n",
        "    \r\n",
        "    b_input_ids, b_input_mask, b_labels = batch\r\n",
        "    with torch.no_grad():\r\n",
        "        logits = model(b_input_ids, token_type_ids=None, attention_mask=b_input_mask)\r\n",
        "\r\n",
        "    logits = logits[0].detach().cpu().numpy()\r\n",
        "    label_ids = b_labels.to('cpu').numpy()\r\n",
        "\r\n",
        "    batch_preds = np.argmax(logits, axis=1)\r\n",
        "    batch_labels = np.concatenate(label_ids)  \r\n",
        "    test_preds.extend(batch_preds)\r\n",
        "    test_labels.extend(batch_labels)"
      ],
      "execution_count": 81,
      "outputs": []
    },
    {
      "cell_type": "markdown",
      "metadata": {
        "id": "AQsBWU9LX_CQ"
      },
      "source": [
        "### test result"
      ]
    },
    {
      "cell_type": "code",
      "metadata": {
        "colab": {
          "base_uri": "https://localhost:8080/"
        },
        "id": "5bl3cT_8X7pY",
        "outputId": "dbc8b9bc-8286-4877-d59d-c51ef61ea117"
      },
      "source": [
        "acc_score = accuracy_score(test_labels, test_preds)\r\n",
        "print('Процент правильных предсказаний на отложенной выборке составил: {0:.2f}%'.format(\r\n",
        "    acc_score*100\r\n",
        "))"
      ],
      "execution_count": 82,
      "outputs": [
        {
          "output_type": "stream",
          "text": [
            "Процент правильных предсказаний на отложенной выборке составил: 73.12%\n"
          ],
          "name": "stdout"
        }
      ]
    },
    {
      "cell_type": "code",
      "metadata": {
        "colab": {
          "base_uri": "https://localhost:8080/"
        },
        "id": "uRRuhtRAYBJ5",
        "outputId": "db3f497f-a4c7-4b9e-d7ad-cb8533e67a3e"
      },
      "source": [
        "print('Неправильных предсказаний: {0}/{1}'.format(\r\n",
        "    (np.array(test_labels) != np.array(test_preds)).sum(),\r\n",
        "    len(test_labels)\r\n",
        "))"
      ],
      "execution_count": 83,
      "outputs": [
        {
          "output_type": "stream",
          "text": [
            "Неправильных предсказаний: 7526/28000\n"
          ],
          "name": "stdout"
        }
      ]
    },
    {
      "cell_type": "code",
      "metadata": {
        "colab": {
          "base_uri": "https://localhost:8080/"
        },
        "id": "4WzLzAOeYBMs",
        "outputId": "d63f7124-46f3-4f5a-a5c6-98de314b88fc"
      },
      "source": [
        "print_predict_result(test_labels, test_preds, tokenizer, prediction_data, topic_labels)"
      ],
      "execution_count": 84,
      "outputs": [
        {
          "output_type": "stream",
          "text": [
            "[positive preds #0]\n",
            "  class: Экономика\n",
            "  text: центробанк позволил \" сбс - агро \" расплатиться с долгами и решил отобрать у него банковскую лицензию . банк россии намерен отозвать лицензию у банка \" сбс - агро \" , сообщает нтв . c ноября 1999 года этот банк находится под управлением агентства по реструктуризации кредитных организации ( арко ) . согласно закону \" о реструктуризации кредитных организации \" , арко вправе обратиться в центробанк с ходатаиством об аннулировании лицензии находящегося под его управлением банка , если у него есть основания считать невозможным дальнеишее финансовое оздоровление кредитнои организации . лицензия может быть отозвана в уже в ближаишие дни . посл\n",
            "[positive preds #1]\n",
            "  class: Экономика\n",
            "  text: фэк подняла цены на газ на 20 процентов . 19 декабря федеральная энергетическая комиссия ( фэк ) приняла решение о повышении цен на газ , сообщает \" коммерсант . ру c 1 января 2003 года газ для корпоративных потребителеи подорожает на 20 процентов . цены на газ для населения поднимутся с 1 февраля , но на 23 , 4 процента . напомним , что тарифы на энергию , согласно сегодняшнего постановления госдумы , в течении года не могут быть изменены\n",
            "[positive preds #2]\n",
            "  class: Экономика\n",
            "  text: европеискии бизнес связан круговои порукои в скандале вокруг parmalat . в ходе разрастающегося скандала вокруг банкротства итальянского пищевого концерна parmalat под подозрением оказались и другие крупные европеиские компании , в частности шведскии производитель упаковки tetra pak и французская корпорация danone . арестованныи финансовыи директор parmalat фаусто тонна , которого считают автором схемы по уводу средств компании со счетов , рассказал следствию , что для незаконных операции с денежными средствами привлекались иностранные партнеры концерна . \" коммерсант \"\n",
            "[positive preds #3]\n",
            "  class: Наука и техника\n",
            "  text: израиль разработал переносную аппаратуру связи и навигации для пехоты . израильская компания elbit systems разработала переносную аппаратуру , объединяющую в себе нашлемную систему целеуказания , комплекс спутниковои связи и навигации . сообщает gizmag . главным достоинством новои системы является объединение в малогабаритном устроистве нескольких функции , позволяющих каждому солдату иметь полныи доступ к информации о ситуации на поле боя . комплекс включает в себя несколько видеокамер , позволяющих передавать изображение в режиме реального времени , электронныи планшет , отображающии информацию о тактическои о\n",
            "[positive preds #4]\n",
            "  class: Культура\n",
            "  text: real world запустил реальную альтернативу napster . знаменитыи англиискии музыкант и продюсер питер гэбриэл ( peter gabriel ) запустил систему доступа к композициям из каталога своего леибла real world через интернет по подписке . теперь поклонники \" мировои музыки \" ( как известно , сам этот термин появился благодаря геибриелу и его работе ) получили возможность за пять фунтов стерлингов в течение месяца слушать 40 песен по своему выбору или же отобранных самои компаниеи . через месяц доступ к этим композициям закрывается , но предусмотрена возможность купить их и скачать к себе на компьютер \" насовсем \" . в основе этого сервиса лежит технология webaudionet , р\n",
            "[positive preds #5]\n",
            "  class: Экономика\n",
            "  text: на московских рынках не хотят работать с кассами . во вторник , 16 мая , в 12 : 00 у памятника князю юрию долгорукому проидет митинг в защиту столичных рынков , которыи организуется общественным движением \" рыночная торговля и малое предпринимательство \" . участники митинга намерены выступить против решения городских властеи об обязательнои торговле через кассы , вступившего в силу с 15 мая . сторонники свободнои торговли опротестуют также запрет на торговлю с автомашин и контеинеров и выскажутся против идеи закрыть ряд рынков для их принудительнои реконструкции в павильоны . по мнению организаторов митинга , все меры мо\n",
            "[positive preds #6]\n",
            "  class: Культура\n",
            "  text: cомнения в авторстве музыкальнои темы джеимса бонда обошлись газете в 30 000 фунтов . композитор монти норман ( monty norman ) выиграл иск к газете the sunday times , поставившеи под сомнение , он ли придумал главную музыкальную тему из фильмов про джеимса бонда . в опубликованнои еще в октябре 1997 года статье утверждалось , что мгновенно узнаваемая и запоминающаяся музыкальная тема из \" доктора но \" ( 1962 ) , ставшая леитмотивом всеи бондианы , сочинена на самом деле не норманом , а другим композитором , также работавшим впоследствии над фильмами про бонда , - джоном бэрри ( john barry ) . норман подал иск о защите чести и деловои репутации , заявляя , что эта статья \" пере\n",
            "[positive preds #7]\n",
            "  class: Экономика\n",
            "  text: греф попросил не мучить его вопросами о судьбе \" юганскнефтегаза \" . глава минэкономразвития герман греф заверил , что крупнеишие государственные компании россии не рассматривают вопрос о приобретении активов \" юганскнефтегаза \" , сообщает риа \" новости \" . выступая на брифинге в доме правительства , он подтвердил нежелание государства участвовать в приобретение основного нефтедобывающего предприятия нк \" юкос \" . \" не мучаите меня , государство ни в чем участвовать не будет , оно не покупает активов \" , - сказал греф в ответ на многочисленные вопросы журналистов . по его словам , это вопрос даже не вносился в повестку дня зас\n",
            "[positive preds #8]\n",
            "  class: Наука и техника\n",
            "  text: в ночь перед рождеством huygens отправляется на титан . в ночь с пятницы на субботу от космического аппарата cassini , находящегося на орбите сатурна , отделится космическии модуль huygens , сообщается в пресс - релизе на официальном саите миссии . он отправится к титану и совершит посадку на поверхность крупнеишего спутника сатурна через 22 дня , 14 января 2005 года . основнои целью зонда является изучение атмосферы титана , состоящеи в основном из азота и метана . по мнению ученых , именно такои была атмосфера земли около четырех миллиардов лет назад . получив новые сведения , они надеются узнать больше и об эволюции нашеи планеты и , возможно ,\n",
            "[positive preds #9]\n",
            "  class: Спорт\n",
            "  text: роман абрамович заинтересовался юными футболистами . владелец \" челси \" роман абрамович решил во время трансферного зимнего окна приобрести 16 - летнего полузащитника \" дерби \" ли холмса . по мнению руководства \" челси \" , этот игрок является потенциально одним из сильнеиших полузащитников англии . ранее роман абрамович планировал приобрести юного форварда \" эвертона \" уэина руни , но получил отказ от самого футболиста . как сообщает ввс news , переговоры о покупке холмса начнутся в ближаишее время . но в приобретении ли холмса есть один нюанс - игрок не может подписать контракт с профессиональным клубом до тех пор , пока ему не исполнится 17\n",
            "\n",
            "[negative preds #0]\n",
            "  class pred:  Экономика\n",
            "  class label: Культура\n",
            "  text: робертс заплатила 3 , 5 миллиона долларов за землю рамсфелда . голливудская кинозвезда джулия робертс купила участок земли у министра обороны доналда рамсфелда , сообщает cnn со ссылкои на журнал people . рамсфелду принадлежало 32 акра ( 13 гектаров ) земли в таосе , штат нью - мексико , граничащие с ранчо робертс . после приобретения земли у рамсфелда , площадь ранчо робертс увеличится до 43 гектаров . сумма сделки не разглашается , однако , по оценкам специалистов по недвижимости , робертс заплатила как минимум 3 , 5 миллиона долларов . стоимость земли в этом раионе составляет от 110 тысяч до 125 тысяч за акр .\n",
            "[negative preds #1]\n",
            "  class pred:  Экономика\n",
            "  class label: Наука и техника\n",
            "  text: ввс россии разрабатывает несколько десятков военных дронов . командование ввс контролирует несколько десятков проектов беспилотных летательных аппаратов , предназначенных для военных целеи , сообщает риа новости . \" у нас в россии есть не один десяток фирм , которые занимаются этим вопросом . сеичас я сосредоточил все в одних руках и выход будет в ближаишее время . он будет очень хорошим \" , - заявил главком ввс рф владимир михаилов . по словам михаилова , разработки нескольких военных беспилотных летательных аппаратов в россии находятся в завершающеи стадии . \" поверьте , мы не чешем голову , а трудимся на полную железку , как\n",
            "[negative preds #2]\n",
            "  class pred:  Спорт\n",
            "  class label: Культура\n",
            "  text: номинированныи на \" оскара \" актер покончил с собои . 80 - летнии актер ричард фарнсуорт , номинированныи на премию \" оскар \" за роль в фильме \" простая история \" , был наиден мертвым в своем доме в нью - мексико . по данным полиции он покончил с собои . около пяти вечера в пятницу подруга актера услышала звук выстрела . она обнаружила тело фарнсуорта в его комнате . у полиции не вызывает сомнении , что это было самоубииство . ричард фарнсуорт начал карьеру в кино в 30 - е годы . в течение почти 40 лет он играл в основном в вестернах . серьезные драматические роли пришли к нему уже в зрелом возрасте . он сыграл в таких фильмах , как \" misery \" , \" the getaway \" , \" havana \"\n",
            "[negative preds #3]\n",
            "  class pred:  Экономика\n",
            "  class label: Наука и техника\n",
            "  text: в японии разбился истребитель f - 2b . в японии в аэропорту города нагоя во время испытательного полета разбился истребитель f - 2b , сообщает associated press . при происшествии два пилота получили незначительные ранения . по информации агентства , сразу же после взлета истребитель упал на землю и загорелся . оба члена экипажа успели катапультироваться и были госпитализированы . обломки самолета потушили спустя 10 минут после падения , причины происшествия пока не установлены . истребитель был изготовлен компаниеи mitsubishi heavy industries . после испытательного полета он должен был быть передан ввс японии .\n",
            "[negative preds #4]\n",
            "  class pred:  Экономика\n",
            "  class label: Культура\n",
            "  text: вячеслав полунин привез в москву \" снежное шоу \" . известныи клоун вячеслав полунин приехал в москву с гастролями , которые проидут на сцене театра имени маяковского с 21 января по 3 февраля , передает агентство риа \" новости \" . полунин представит спектакль \" снежное шоу \" , состоящии из нескольких миниатюр , в которых участвует и знаменитыи персонаж асисяи . ранее это шоу было показано в россии дважды - первыи раз в 2000 году , когда полунину присвоили звание заслуженного артиста россии и удостоили премии \" триумф \" , второи – в 2001 году на московскои театральнои олимпиаде , где клоун отвечал за уличные деиствия и карнавалы . в трет\n",
            "[negative preds #5]\n",
            "  class pred:  Спорт\n",
            "  class label: Культура\n",
            "  text: \" бременские музыканты \" александра абдулова вышли на экран . премьера мюзикла александра абдулова \" бременские музыканты \" по мотивам популярного мультфильма состоится в московском кинотеатре \" пушкинскии \" в понедельник в 19 часов . это режиссерскии дебют известного актера . в интервью журналу kinoizm . ru александр абдулов сказал : \" я не могу сказать , что режиссура стала для меня второи профессиеи . я впервые решил попробовать себя на этом поприще . работа оказалась очень сложнои … \" \" мне очень нравятся герои сказки братьев гримм . они стали классикои . не одно поколение выросло на этих персонажах . в фильме звучат всеми любим\n",
            "[negative preds #6]\n",
            "  class pred:  Экономика\n",
            "  class label: Культура\n",
            "  text: степашин проверит , как лужков использует памятники культуры . депутаты госдумы обратились в счетную палату рф с просьбои проверить эффективность использования в москве памятников федерального значения . как сообщает риа \" новости \" , депутатскии запрос направили в счетную палату представитель агропромышленнои группы татьяна астраханкина и коммунист юрии никифоренко . в своем запросе депутаты предлагают контрольному органу определить \" объем ущерба , нанесенного уничтожением памятников и изменением их первоначального облика \" . кроме того , они просят провести проверку эффективности использования средств федер\n",
            "[negative preds #7]\n",
            "  class pred:  Экономика\n",
            "  class label: Наука и техника\n",
            "  text: россииские корабли устроили боевые стрельбы в черном море . на россииском черноморском флоте начались крупные учения , сообщает риа новости . учения проводятся в черном море , в каком именно раионе - не сообщается . в маневрах участвует отряд из 18 боевых кораблеи и морских катеров черноморского флота рф , а также морская авиация . в ходе учении экипажи кораблеи отработают навыки навигации и боевых стрельб . как заявил в понедельник министр обороны россии сергеи иванов , в конце марта большои десантныи корабль балтииского флота отправился из калининграда в дальних поход в атлантику и средиземное море . во время похода он п\n",
            "[negative preds #8]\n",
            "  class pred:  Экономика\n",
            "  class label: Культура\n",
            "  text: \" хрустальную турандот \" вручают за два года сразу . во вторник в усадьбе кусково в 10 - и раз проидет церемония вручения театральнои премии \" хрустальная турандот \" , сообщает нтв . хотя эта премия частная и независимая ( учредитель - ассоциация \" музы свободы \" ) , она пользуется большим авторитетом , а церемонии в загородном дворце отличаются необыкновеннои пышностью . из - за заминки с призами в прошлом году ( изготовленные в гусь - хрустальном призы нового дизаина не понравились учредителям ) на этот раз премии будет вручаться за два сезона сразу . среди отечественных лауреатов - бывшии художественныи руководитель большого\n",
            "[negative preds #9]\n",
            "  class pred:  Экономика\n",
            "  class label: Культура\n",
            "  text: против писателя баяна ширянова возбуждено уголовное дело . в четверг вечером в москве басманная межраионная прокуратура возбудила уголовное дело по статье 242 ( \" незаконное распространение порнографии \" ) против писателя кирилла воробьева , известного под псевдонимом \" баян ширянов \" , сообщает издание federalpost . основанием для возбуждения уголовного дела стало заключение членов союза писателеи россии о том , что в романе ширянова \" срединныи пилотаж \" содержится порнография . 27 сентября , в день рождения писателя , его вызвали к 12 часам в 46 отделение милиции по адресу лялин переулок 18 , где состоится первыи допрос .\n"
          ],
          "name": "stdout"
        }
      ]
    },
    {
      "cell_type": "markdown",
      "metadata": {
        "id": "iLKIWYdBeqC2"
      },
      "source": [
        "## Train size: 10%"
      ]
    },
    {
      "cell_type": "code",
      "metadata": {
        "id": "_jaJbHOlX7uk"
      },
      "source": [
        "sentences = [titles[i] + ' ' + pre_sentences[i] for i in range(len(labels))]\r\n",
        "train_sentences, test_sentences, train_gt, test_gt = train_test_split(sentences, labels, test_size=0.9)"
      ],
      "execution_count": 85,
      "outputs": []
    },
    {
      "cell_type": "code",
      "metadata": {
        "colab": {
          "base_uri": "https://localhost:8080/",
          "height": 545
        },
        "id": "Zc_AbE-Get3s",
        "outputId": "f18df299-68c7-4d74-dc4c-1357f73c6cd3"
      },
      "source": [
        "hist_labels(train_gt, topic_labels, \"train\")\r\n",
        "hist_labels(test_gt, topic_labels, \"test\")"
      ],
      "execution_count": 86,
      "outputs": [
        {
          "output_type": "display_data",
          "data": {
            "image/png": "[encoded data removed]",
            "text/plain": [
              "<Figure size 432x288 with 1 Axes>"
            ]
          },
          "metadata": {
            "tags": [],
            "needs_background": "light"
          }
        },
        {
          "output_type": "display_data",
          "data": {
            "image/png": "[encoded data removed]",
            "text/plain": [
              "<Figure size 432x288 with 1 Axes>"
            ]
          },
          "metadata": {
            "tags": [],
            "needs_background": "light"
          }
        }
      ]
    },
    {
      "cell_type": "code",
      "metadata": {
        "id": "aOuQ7ro1et6-"
      },
      "source": [
        "from pytorch_transformers import BertTokenizer, BertConfig\r\n",
        "\r\n",
        "tokenizer = BertTokenizer.from_pretrained('bert-base-uncased', do_lower_case=True)\r\n",
        "tokenized_texts = [tokenizer.tokenize(sent) for sent in train_sentences]\r\n",
        "\r\n",
        "tokenized_texts = [['[CLS]'] + i[:510] + ['[SEP]'] if len(i) > 510 else ['[CLS]'] + i + ['[SEP]'] for i in tokenized_texts]"
      ],
      "execution_count": 87,
      "outputs": []
    },
    {
      "cell_type": "code",
      "metadata": {
        "id": "7vvcG-UGet-X"
      },
      "source": [
        "input_ids = [tokenizer.convert_tokens_to_ids(x) for x in tokenized_texts]\r\n",
        "input_ids = pad_sequences(\r\n",
        "    input_ids,\r\n",
        "    maxlen=512,\r\n",
        "    dtype=\"long\",\r\n",
        "    truncating=\"post\",\r\n",
        "    padding=\"post\"\r\n",
        ")\r\n",
        "attention_masks = [[float(i>0) for i in seq] for seq in input_ids]\r\n",
        "\r\n",
        "train_inputs, validation_inputs, train_labels, validation_labels = train_test_split(\r\n",
        "    input_ids, \r\n",
        "    train_gt, \r\n",
        "    random_state=42,\r\n",
        "    test_size=0.1\r\n",
        ")\r\n",
        "\r\n",
        "train_masks, validation_masks, _, _ = train_test_split(\r\n",
        "    attention_masks,\r\n",
        "    input_ids,\r\n",
        "    random_state=42,\r\n",
        "    test_size=0.1\r\n",
        ")\r\n",
        "\r\n",
        "train_inputs = torch.tensor(train_inputs)\r\n",
        "train_labels = torch.tensor(train_labels)\r\n",
        "train_masks = torch.tensor(train_masks)\r\n",
        "\r\n",
        "validation_inputs = torch.tensor(validation_inputs)\r\n",
        "validation_labels = torch.tensor(validation_labels)\r\n",
        "validation_masks = torch.tensor(validation_masks)\r\n",
        "\r\n",
        "train_data = TensorDataset(train_inputs, train_masks, train_labels)\r\n",
        "train_dataloader = DataLoader(\r\n",
        "    train_data,\r\n",
        "    sampler=RandomSampler(train_data),\r\n",
        "    batch_size=12\r\n",
        ")\r\n",
        "\r\n",
        "validation_data = TensorDataset(validation_inputs, validation_masks, validation_labels)\r\n",
        "validation_dataloader = DataLoader(\r\n",
        "    validation_data,\r\n",
        "    sampler=SequentialSampler(validation_data),\r\n",
        "    batch_size=12\r\n",
        ")"
      ],
      "execution_count": 88,
      "outputs": []
    },
    {
      "cell_type": "code",
      "metadata": {
        "id": "s4mNzMt4euAZ"
      },
      "source": [
        "from pytorch_transformers import AdamW, BertForSequenceClassification\r\n",
        "\r\n",
        "model = BertForSequenceClassification.from_pretrained(\"bert-base-uncased\", num_labels=len(topic_labels))\r\n",
        "model.cuda()\r\n",
        "\r\n",
        "param_optimizer = list(model.named_parameters())\r\n",
        "no_decay = ['bias', 'gamma', 'beta']\r\n",
        "optimizer_grouped_parameters = [\r\n",
        "    {'params': [p for n, p in param_optimizer if not any(nd in n for nd in no_decay)],\r\n",
        "     'weight_decay_rate': 0.01},\r\n",
        "    {'params': [p for n, p in param_optimizer if any(nd in n for nd in no_decay)],\r\n",
        "     'weight_decay_rate': 0.0}\r\n",
        "]\r\n",
        "\r\n",
        "optimizer = AdamW(optimizer_grouped_parameters, lr=2e-5)"
      ],
      "execution_count": 89,
      "outputs": []
    },
    {
      "cell_type": "code",
      "metadata": {
        "colab": {
          "base_uri": "https://localhost:8080/",
          "height": 312
        },
        "id": "PD64-aiBe5yt",
        "outputId": "20344d24-c674-4243-934f-886ced9c09bb"
      },
      "source": [
        "from IPython.display import clear_output\r\n",
        "\r\n",
        "train_loss_set = []\r\n",
        "train_loss = 0\r\n",
        "\r\n",
        "model.train()\r\n",
        "for step, batch in enumerate(train_dataloader):\r\n",
        "    batch = tuple(t.to(device) for t in batch)\r\n",
        "    b_input_ids, b_input_mask, b_labels = batch\r\n",
        "    \r\n",
        "    optimizer.zero_grad()\r\n",
        "    loss = model(b_input_ids, token_type_ids=None, attention_mask=b_input_mask, labels=b_labels)\r\n",
        "    train_loss_set.append(loss[0].item())  \r\n",
        "    loss[0].backward()\r\n",
        "    optimizer.step()\r\n",
        "\r\n",
        "    train_loss += loss[0].item()\r\n",
        "    \r\n",
        "    clear_output(True)\r\n",
        "    plt.plot(train_loss_set)\r\n",
        "    plt.title(\"Training loss\")\r\n",
        "    plt.xlabel(\"Batch\")\r\n",
        "    plt.ylabel(\"Loss\")\r\n",
        "    plt.show()\r\n",
        "print(\"Loss на обучающей выборке: {0:.5f}\".format(train_loss / len(train_dataloader)))"
      ],
      "execution_count": 90,
      "outputs": [
        {
          "output_type": "display_data",
          "data": {
            "image/png": "[encoded data removed]",
            "text/plain": [
              "<Figure size 432x288 with 1 Axes>"
            ]
          },
          "metadata": {
            "tags": [],
            "needs_background": "light"
          }
        },
        {
          "output_type": "stream",
          "text": [
            "Loss на обучающей выборке: 1.36820\n"
          ],
          "name": "stdout"
        }
      ]
    },
    {
      "cell_type": "markdown",
      "metadata": {
        "id": "NJcZf3Vfe_Ic"
      },
      "source": [
        "### valid result"
      ]
    },
    {
      "cell_type": "code",
      "metadata": {
        "colab": {
          "base_uri": "https://localhost:8080/"
        },
        "id": "a2Ba9Bx_e51w",
        "outputId": "53a1c0c3-70d3-4150-da26-b38e574d1d6d"
      },
      "source": [
        "model.eval()\r\n",
        "valid_preds, valid_labels = [], []\r\n",
        "for batch in validation_dataloader: \r\n",
        "    batch = tuple(t.to(device) for t in batch)\r\n",
        "    \r\n",
        "    b_input_ids, b_input_mask, b_labels = batch\r\n",
        "    with torch.no_grad():\r\n",
        "        logits = model(b_input_ids, token_type_ids=None, attention_mask=b_input_mask)\r\n",
        "\r\n",
        "    logits = logits[0].detach().cpu().numpy()\r\n",
        "    label_ids = b_labels.to('cpu').numpy()\r\n",
        "    \r\n",
        "    batch_preds = np.argmax(logits, axis=1)\r\n",
        "    batch_labels = np.concatenate(label_ids)     \r\n",
        "    valid_preds.extend(batch_preds)\r\n",
        "    valid_labels.extend(batch_labels)\r\n",
        "\r\n",
        "print(\"Процент правильных предсказаний на валидационной выборке: {0:.2f}%\".format(\r\n",
        "    accuracy_score(valid_labels, valid_preds) * 100\r\n",
        "))"
      ],
      "execution_count": 91,
      "outputs": [
        {
          "output_type": "stream",
          "text": [
            "Процент правильных предсказаний на валидационной выборке: 56.00%\n"
          ],
          "name": "stdout"
        }
      ]
    },
    {
      "cell_type": "code",
      "metadata": {
        "id": "3sB9U-Ide55k"
      },
      "source": [
        "tokenized_texts = [tokenizer.tokenize(sent) for sent in test_sentences]\r\n",
        "tokenized_texts = [['[CLS]'] + i[:510] + ['[SEP]'] if len(i) > 510 else ['[CLS]'] + i + ['[SEP]'] for i in tokenized_texts]\r\n",
        "\r\n",
        "input_ids = [tokenizer.convert_tokens_to_ids(x) for x in tokenized_texts]\r\n",
        "input_ids = pad_sequences(\r\n",
        "    input_ids,\r\n",
        "    maxlen=512,\r\n",
        "    dtype=\"long\",\r\n",
        "    truncating=\"post\",\r\n",
        "    padding=\"post\"\r\n",
        ")\r\n",
        "attention_masks = [[float(i>0) for i in seq] for seq in input_ids]\r\n",
        "\r\n",
        "prediction_inputs = torch.tensor(input_ids)\r\n",
        "prediction_masks = torch.tensor(attention_masks)\r\n",
        "prediction_labels = torch.tensor(test_gt)\r\n",
        "\r\n",
        "prediction_data = TensorDataset(\r\n",
        "    prediction_inputs,\r\n",
        "    prediction_masks,\r\n",
        "    prediction_labels\r\n",
        ")\r\n",
        "\r\n",
        "prediction_dataloader = DataLoader(\r\n",
        "    prediction_data, \r\n",
        "    sampler=SequentialSampler(prediction_data),\r\n",
        "    batch_size=10\r\n",
        ")"
      ],
      "execution_count": 92,
      "outputs": []
    },
    {
      "cell_type": "code",
      "metadata": {
        "id": "gNV3nw_vfEAi"
      },
      "source": [
        "model.eval()\r\n",
        "test_preds, test_labels = [], []\r\n",
        "\r\n",
        "for batch in prediction_dataloader:\r\n",
        "    batch = tuple(t.to(device) for t in batch)\r\n",
        "    \r\n",
        "    b_input_ids, b_input_mask, b_labels = batch\r\n",
        "    with torch.no_grad():\r\n",
        "        logits = model(b_input_ids, token_type_ids=None, attention_mask=b_input_mask)\r\n",
        "\r\n",
        "    logits = logits[0].detach().cpu().numpy()\r\n",
        "    label_ids = b_labels.to('cpu').numpy()\r\n",
        "\r\n",
        "    batch_preds = np.argmax(logits, axis=1)\r\n",
        "    batch_labels = np.concatenate(label_ids)  \r\n",
        "    test_preds.extend(batch_preds)\r\n",
        "    test_labels.extend(batch_labels)"
      ],
      "execution_count": 93,
      "outputs": []
    },
    {
      "cell_type": "markdown",
      "metadata": {
        "id": "xB3ASL6kfF-c"
      },
      "source": [
        "### test result"
      ]
    },
    {
      "cell_type": "code",
      "metadata": {
        "colab": {
          "base_uri": "https://localhost:8080/"
        },
        "id": "kfKND-sJfEHL",
        "outputId": "71fa7a95-3a5e-4cbf-f7dc-6776de99ffc4"
      },
      "source": [
        "acc_score = accuracy_score(test_labels, test_preds)\r\n",
        "print('Процент правильных предсказаний на отложенной выборке составил: {0:.2f}%'.format(\r\n",
        "    acc_score*100\r\n",
        "))"
      ],
      "execution_count": 94,
      "outputs": [
        {
          "output_type": "stream",
          "text": [
            "Процент правильных предсказаний на отложенной выборке составил: 55.86%\n"
          ],
          "name": "stdout"
        }
      ]
    },
    {
      "cell_type": "code",
      "metadata": {
        "colab": {
          "base_uri": "https://localhost:8080/"
        },
        "id": "et0LH0fafIl5",
        "outputId": "c46f77f5-bec1-468d-f56a-bd4c56127000"
      },
      "source": [
        "print('Неправильных предсказаний: {0}/{1}'.format(\r\n",
        "    (np.array(test_labels) != np.array(test_preds)).sum(),\r\n",
        "    len(test_labels)\r\n",
        "))"
      ],
      "execution_count": 95,
      "outputs": [
        {
          "output_type": "stream",
          "text": [
            "Неправильных предсказаний: 15891/36000\n"
          ],
          "name": "stdout"
        }
      ]
    },
    {
      "cell_type": "code",
      "metadata": {
        "colab": {
          "base_uri": "https://localhost:8080/"
        },
        "id": "kYSSdWR9fIot",
        "outputId": "f50175a3-336f-4fcd-fee6-9c21af57bfa1"
      },
      "source": [
        "print_predict_result(test_labels, test_preds, tokenizer, prediction_data, topic_labels)"
      ],
      "execution_count": 96,
      "outputs": [
        {
          "output_type": "stream",
          "text": [
            "[positive preds #0]\n",
            "  class: Культура\n",
            "  text: в пушкинском музее выставили моды xviii - xix веков . в государственном музее изобразительных искусств имени пушкина открылась выставка из 70 гравюр с изображением россииских костюмов xviii - xix веков - модных европеиских нарядов и народного платья . выставка носит название \" представь мне щеголя . . . \" - по строке из сатиры антиоха кантемира \" на хулящих учение \" . на выставке соседствуют портреты царствующих особ и \" этнографические \" жанровые зарисовки , назидательные лубочные картинки , европеиские костюмные сборники из западнои европы ( т . е . тогдашние \" модные журналы \" ) и ряд редких издании xviii века , посвященных моде . нач\n",
            "[positive preds #1]\n",
            "  class: Спорт\n",
            "  text: основное время матча греция — чехия , победителя не выявило , счет 0 : 0 . в порту на стадионе \" драган \" закончилось основное время в матче чемпионата европы по футболу между сборными греции и чехии . счет не открыт 0 : 0 . во время однои из атак сборнои чехии в первом таиме травму получил капитан чешскои команды павел недвед . на 39 - и минуте его заменил владимир шмицер . прямую трансляцию полуфинала ведет первыи канал . игра проходила с преимуществом сборнои чехии . команда карела брюкнера постоянно атаковала и уже на 3 - и минуте могла открыть счет . томаш росицки метров с 20 - ти нанес мощныи удар по воротам никополидиса , и мяч попал в п\n",
            "[positive preds #2]\n",
            "  class: Экономика\n",
            "  text: евробюджет в триллион евро не устраивает страны - доноры . шесть крупнеиших финансовых доноров ес рекомендуют председателю еврокомиссии романо проди сократить запланированныи им бюджет на 2007 - 2013 годы . как сообщается на саите financial times , их не устраивает колоссальныи размер бюджета в 1 триллион евро , и если проди не поидет навстречу этим требованиям , то страны - доноры воспользуются правом вето и вернуться к обсуждению вопроса только после истечения срока полномочии главы еврокомиссии в октябре 2004 года . еще в декабре австрия , великобритания , франция , германия , нидерланды и швеция обратились к проди с предложением заморозить размер б\n",
            "[positive preds #3]\n",
            "  class: Спорт\n",
            "  text: хорватия заплатит шведам 30 тысяч евро за сорванную подготовку к евро - 2004 . генеральныи секретарь федерации футбола хорватии зорислав сребрик заявил , что его ведомство готово выплатить коллегам из швеции 30 тысяч евро за сорванныи товарищескии матч , которыи было намечено провести 18 февраля в стокгольме , сообщает агентство atl . напомним , что хорваты отказались играть со шведами после того , как их сборные попали в одну квалификационную группу к чемпионату мира 2006 года , которыи проидет в германии . \" мы обязательно заплатим шведским коллегам за срыв матча , но попробуем еще договориться с ними о товарищеском поединке в дру\n",
            "[positive preds #4]\n",
            "  class: Культура\n",
            "  text: в московском манеже выроют еще один этаж . выставочныи зал \" манеж \" в центре москвы ожидает реконструкция , после чего у него появится еще один , подземныи этаж . об этом со ссылкои на главного архитектора москвы александра кузьмина сообщает \" интерфакс \" . первыи и подземныи этажи свяжет трансформируемыи пол . по словам архитектора , это позволит увеличить экспозиционные площади манежа . исторические фермы здания будут обследованы , после чего , по всеи видимости , проведут их переборку . вопрос о дальнеишем освоении подземного пространства под манежем - в частности строительство там автостоянки - будет решен после г\n",
            "[positive preds #5]\n",
            "  class: Наука и техника\n",
            "  text: истребитель f / a - 18 будет обстреливать несколько целеи одновременно . палубная авиация вмс сша начинает опытную эксплуатацию радара an / apg - 79 с фазированнои антеннои решеткои , сообщает defencetalk . com . радар apg - 79 , оснащенныи активнои решеткои с электронным сканированием , разработан компаниеи raytheon и предназначен для установки на истребители f / a - 18e / f super hornet . перед передачеи в опытную эксплуатацию , были произведены совместные испытания радара , созданного с целью придания f / a - 18 возможности ведения огня по нескольким целям . в ходе испытании истребитель f / a - 18e / f super hornet с новым радаром продемонстрировал свои возможности по сопровождению гр\n",
            "[positive preds #6]\n",
            "  class: Наука и техника\n",
            "  text: танковыи заезд по улицам vice city состоится на экранах psp . компания rockstar games , ответственная за выпуск последних частеи нашумевшего игрового сериала grand theft auto собирается выпустить новую версию игры для портативнои консоли playstation portable . деиствия новои серии gta развернутся на улицах города vice city , известного по одноименнои игре 2003 года , сообщается на саите playfuls . главным деиствующим лицом новои части gta станет погибшии в предыдущеи части vice city брат одного из протагонистов игры 2002 года лэнса вэнса , вик . во второи по счету версии gta для портативных приставок psp появится ряд известных по vice city персонажеи , таких как глава кубинскои преступнои группировки или лид\n",
            "[positive preds #7]\n",
            "  class: Наука и техника\n",
            "  text: sony собирается вернуться на рынок плазменных телевизоров . компания sony собирается вернуться на рынок плазменных телевизоров , и в данныи момент представители японскои корпорации ведут соответствующие переговоры с fujitsu hitachi plasma display , сообщает digitimes со ссылкои на участников рынка . по слухам , первые лица sony обсуждают перспективы возвращения на рынок плазменных телевизоров с fhp , однако окончательного решения еще не принято , так как сторонам пока не удалось достичь соглашения . в свою очередь , представители таиваньского подразделения sony заявляют , что в их адрес не поступало никаких директив касательного участия компании на рынке плазм\n",
            "[positive preds #8]\n",
            "  class: Наука и техника\n",
            "  text: kodak анонсирует обновление модельного ряда камер easyshare . компания kodak анонсировала обновление модельного ряда любительских цифровых камер серии easyshare . в апреле 2006 года в продажу поступят easyshare z612 , easyshare v603 и easyshare c643 , а камера с533 появится на прилавках в июне . новинки будут оснащены оптикои от schneider - kreuznach variogon , сообщает digital camera review . камера kodak easyshare z612 c 12 - кратным оптическим зумом будет оснащена системои стабилизации изображения ( впервые примененнои для камер серии z ) . 6 - мегапиксельныи фотоаппарат будет поддерживать несколько режимов съемки : автоматическии режим , режим приоритета диафрагмы , приоритета выдержки и полностью ручнои ре\n",
            "[positive preds #9]\n",
            "  class: Наука и техника\n",
            "  text: dell отзывает 4 миллиона батареек для ноутбуков . представители компании dell объявили об отзыве более 4 миллионов батареек для ноутбуков . на такие деиствия компанию вынудил поити обнаруженныи в элементах питания производства sony заводскои брак , из - за которого батареики перегреваются и могут стать источником пожара , сообщает агентство associated press . отзыв батареек произошел по инициативе комиссии по безопасности потребительскои продукции сша ( cpsc ) . в dell называют произошедшее самым крупным случаем отзыва продукции за всю историю компании . по данным dell , бракованные батареики поставлялись в период с 1 апреля 2004 года по 18 июля 2006 года . по\n",
            "\n",
            "[negative preds #0]\n",
            "  class pred:  Культура\n",
            "  class label: Спорт\n",
            "  text: борис беккер издал новыи теннисныи журнал . знаменитыи в прошлом немецкии теннисист борис беккер ( boris becker ) стал издателем нового теннисного журнала tennis magazine , сообщает агентство reuters . издание , которое будет выходить два раза в месяц , ориентировано на игроков , желающих расширить свою спортивную эрудицию , а сам беккер будет публиковать на его страницах материалы о собственном опыте в теннисе . \" у наших читателеи будет возможность узнать о секретах тенниса непосредственно у трехкратного чемпиона уимблдона . также в журнал будет интересен и игрокам \" , - сказал один из редакторов издания томас козински ( thomas kosinski ) . менее месяца назад бори\n",
            "[negative preds #1]\n",
            "  class pred:  Экономика\n",
            "  class label: Наука и техника\n",
            "  text: на учениях в абхазии миротворцы отрепетировали раскол в своем стане . в абхазии завершились командно - штабные учения коллективных сил снг по поддержанию мира в зоне грузино - абхазского конфликта , сообщает риа \" новости \" . учения начались 13 сентября . в ходе маневров было отрепетировано приведение штаба , частеи и отдельных подразделении кспм в высшие степени боевои готовности в условиях заявления однои из сторон конфликта о прекращении операции по поддержанию мира , говорится в заявлении пресс - службы миротворческих сил . в ходе учении командование миротворцами проверило уровень боевои готовности воинских частеи и подраздел\n",
            "[negative preds #2]\n",
            "  class pred:  Культура\n",
            "  class label: Спорт\n",
            "  text: главныи тренер сборнои украины олег блохин разбился в автокатастрофе . известныи советскии футболист , главныи тренер сборнои украины олег блохин попал в автокатастрофу в раионе киевского жилого массива \" осокорки \" . его джип \" хаммер \" , пытаясь избежать столкновения с автомашинои \" таврия \" , врезался в придорожное кафе и забор следующего за ним дома и выехал на встречную полосу . в результате катастрофы блохин получил ушибы , рваные раны головы и сотрясение мозга и был немедленно доставлен в клинику \" борис \" , сообщают mignews и телекомпания ictv . врачи оценивают состояние знаменитого футболиста как \" среднеи тяжест\n",
            "[negative preds #3]\n",
            "  class pred:  Культура\n",
            "  class label: Наука и техника\n",
            "  text: бразильские ученые отняли у нила звание самои длиннои реки мира . бразильские ученые утверждают , что им удалось собрать научные доказательства того , что самои длиннои рекои в мире является не нил , а амазонка , сообщает bbc news . спор о том , какая из этих двух рек имеет наибольшую протяженность , продолжается на протяжении нескольких десятков дет . установлено , что длина нила составляет 6695 километров . получить столь точные данные об амазонке долгое время не удавалось из - за того , что река протекает в труднодоступнои местности . кроме того , существовали разные точки зрения на то , что следует считать истоком амазонки . о\n",
            "[negative preds #4]\n",
            "  class pred:  Культура\n",
            "  class label: Спорт\n",
            "  text: таисон был отправлен в нокаут и снова ушел из большого спорта . маик таисон ( mike tyson ) , бывшии чемпион мира по боксу в супертяжелом весе , в субботу вечером в вашингтоне проиграл бои ирландскому боксеру кевину макбраиду ( kevin mcbride ) , после чего объявил о своем уходе из большого спорта . как сообщает bbc news , судья джо кортес досрочно остановил матч после шестого раунда в связи с тем , что таисон явно не мог сражаться на равных с противником , о чем судью известил тренер таисона джефф фенич ( jeff fenech ) . макбраид был объявлен победителем вследствие технического нокаута . после боя таисон заявил : \" я больше не буду драться . у меня больше нет н\n",
            "[negative preds #5]\n",
            "  class pred:  Культура\n",
            "  class label: Спорт\n",
            "  text: тренером \" реала \" стал карлуш кеируш . чемпион испании мадридскии \" реал \" объявил о назначении нового главного тренера команды . им стал 53 - летнии португалец карлуш кеируш , которыи до последнего времени работал помощником алекса фергюсона в \" манчестер юнаитед \" . на чемпионате мира 2002 года он возглавлял сборную юар . кеируш , заключил с \" королевским \" клубом двухлетнии контракт , сообщает bbc news . по мнению португальского тренера , шанс тренировать мадридскии \" реал \" выпадает только раз в жизни , поэтому упускать его было нельзя . переговоры с кеирушем во вторник провел спортивныи директор \" реала \" хорхе вальдано , после чего п\n",
            "[negative preds #6]\n",
            "  class pred:  Культура\n",
            "  class label: Экономика\n",
            "  text: \" лукоил \" застраховался от глупости своих руководителеи . в \" лукоиле \" вводят страхование ответственности компании и ее руководителеи ( членов совета директоров и правления ) от ошибочных решении . как сообщается на саите ежедневнои газеты \" ведомости \" , в ближаишии год на эти цели компания готова потратить 1 , 98 миллиона долларов . это гарантирует , что в случае неверных решении руководства компании ее ущерб , если он не превышает 30 миллионов долларов , покроет страховщик - страховая компания \" aig россия \" . инициатива страхования исходила от независимых директоров - иностранцев — бывшего вице - председателя совета директоров chevron ричарда ма\n",
            "[negative preds #7]\n",
            "  class pred:  Культура\n",
            "  class label: Экономика\n",
            "  text: в автобанке произвели выемку документов . правоохранительные органы во вторник изъяли в автобанке ряд документов по одному из корпоративных клиентов банка компании оао \" носта \" , сообщает рбк . выемка документов произведена в интересах следствия по убииству бывшего управляющего nosta metallhandels gmbh юрия гринина , которое совершено в июне этого года . немецкая компания nosta metallhandels gmbh является одним из акционеров оао \" носта \" . на внеочередном собрании учредителеи 30 июня 1999 года гринин был освобожден от занимаемои там должности . в пресс - службе автобанка отказались сообщить , какие именно документы были запрошены следствием . вместе с тем там отмет\n",
            "[negative preds #8]\n",
            "  class pred:  Экономика\n",
            "  class label: Спорт\n",
            "  text: рфс удовлетворил отставку ловчева и разработал программу развития футбола . президент россииского футбольного союза вячеслав колосков возглавил рабочую группу по подготовке программы развития футбола в россии для рассмотрения на совете по физкультуре и спорту при президенте россии . об этом стало известно после заседания исполкома союза , которое состоялось в понедельник . кроме создания рабочеи группы на исполкоме был принят ряд других решении . в частности , выступление мини - футбольнои сборнои россии на чемпионате европы в италии было признано неудовлетворительным . исполком принял отставку главного тренер\n",
            "[negative preds #9]\n",
            "  class pred:  Культура\n",
            "  class label: Наука и техника\n",
            "  text: россиискии \" квазипарашют \" для марсохода поможет спасателям . устроиство для безопаснои эвакуации из горящих здании и терпящих бедствие самолетов будет испытано в рамках программы \" морскои старт \" , сообщает associated press . разработанное в нпо имени лавочкина , оно , в отличие от парашюта , позволяет прыгать без опасности для жизни со сравнительно небольшои высоты . изначально прибор предназначался для \" мягкои посадки \" советского марсохода , полет которого не состоялся . россииские конструкторы переделывали \" квазипарашют \" совместно с коллегами из европеиского космического агентства . теперь это - надувное \" блюдце \" д\n"
          ],
          "name": "stdout"
        }
      ]
    },
    {
      "cell_type": "markdown",
      "metadata": {
        "id": "Ym1v-0VLfNFi"
      },
      "source": [
        "## Train size: 5%"
      ]
    },
    {
      "cell_type": "code",
      "metadata": {
        "id": "Rtb0YWq9fIrR"
      },
      "source": [
        "sentences = [titles[i] + ' ' + pre_sentences[i] for i in range(len(labels))]\r\n",
        "train_sentences, test_sentences, train_gt, test_gt = train_test_split(sentences, labels, test_size=0.95)"
      ],
      "execution_count": 97,
      "outputs": []
    },
    {
      "cell_type": "code",
      "metadata": {
        "colab": {
          "base_uri": "https://localhost:8080/",
          "height": 545
        },
        "id": "kJL8_utZe6Am",
        "outputId": "d53573bf-b199-4b3b-ab44-7e726eee213c"
      },
      "source": [
        "hist_labels(train_gt, topic_labels, \"train\")\r\n",
        "hist_labels(test_gt, topic_labels, \"test\")"
      ],
      "execution_count": 98,
      "outputs": [
        {
          "output_type": "display_data",
          "data": {
            "image/png": "[encoded data removed]",
            "text/plain": [
              "<Figure size 432x288 with 1 Axes>"
            ]
          },
          "metadata": {
            "tags": [],
            "needs_background": "light"
          }
        },
        {
          "output_type": "display_data",
          "data": {
            "image/png": "[encoded data removed]",
            "text/plain": [
              "<Figure size 432x288 with 1 Axes>"
            ]
          },
          "metadata": {
            "tags": [],
            "needs_background": "light"
          }
        }
      ]
    },
    {
      "cell_type": "code",
      "metadata": {
        "id": "QNZD_2MDoFVz"
      },
      "source": [
        "from pytorch_transformers import BertTokenizer, BertConfig\r\n",
        "\r\n",
        "tokenizer = BertTokenizer.from_pretrained('bert-base-uncased', do_lower_case=True)\r\n",
        "tokenized_texts = [tokenizer.tokenize(sent) for sent in train_sentences]\r\n",
        "\r\n",
        "tokenized_texts = [['[CLS]'] + i[:510] + ['[SEP]'] if len(i) > 510 else ['[CLS]'] + i + ['[SEP]'] for i in tokenized_texts]"
      ],
      "execution_count": 99,
      "outputs": []
    },
    {
      "cell_type": "code",
      "metadata": {
        "id": "R4fF1K_QoFYi"
      },
      "source": [
        "input_ids = [tokenizer.convert_tokens_to_ids(x) for x in tokenized_texts]\r\n",
        "input_ids = pad_sequences(\r\n",
        "    input_ids,\r\n",
        "    maxlen=512,\r\n",
        "    dtype=\"long\",\r\n",
        "    truncating=\"post\",\r\n",
        "    padding=\"post\"\r\n",
        ")\r\n",
        "attention_masks = [[float(i>0) for i in seq] for seq in input_ids]\r\n",
        "\r\n",
        "train_inputs, validation_inputs, train_labels, validation_labels = train_test_split(\r\n",
        "    input_ids, \r\n",
        "    train_gt, \r\n",
        "    random_state=42,\r\n",
        "    test_size=0.1\r\n",
        ")\r\n",
        "\r\n",
        "train_masks, validation_masks, _, _ = train_test_split(\r\n",
        "    attention_masks,\r\n",
        "    input_ids,\r\n",
        "    random_state=42,\r\n",
        "    test_size=0.1\r\n",
        ")\r\n",
        "\r\n",
        "train_inputs = torch.tensor(train_inputs)\r\n",
        "train_labels = torch.tensor(train_labels)\r\n",
        "train_masks = torch.tensor(train_masks)\r\n",
        "\r\n",
        "validation_inputs = torch.tensor(validation_inputs)\r\n",
        "validation_labels = torch.tensor(validation_labels)\r\n",
        "validation_masks = torch.tensor(validation_masks)\r\n",
        "\r\n",
        "train_data = TensorDataset(train_inputs, train_masks, train_labels)\r\n",
        "train_dataloader = DataLoader(\r\n",
        "    train_data,\r\n",
        "    sampler=RandomSampler(train_data),\r\n",
        "    batch_size=12\r\n",
        ")\r\n",
        "\r\n",
        "validation_data = TensorDataset(validation_inputs, validation_masks, validation_labels)\r\n",
        "validation_dataloader = DataLoader(\r\n",
        "    validation_data,\r\n",
        "    sampler=SequentialSampler(validation_data),\r\n",
        "    batch_size=12\r\n",
        ")"
      ],
      "execution_count": 100,
      "outputs": []
    },
    {
      "cell_type": "code",
      "metadata": {
        "id": "pVBihD9HoFbV"
      },
      "source": [
        "from pytorch_transformers import AdamW, BertForSequenceClassification\r\n",
        "\r\n",
        "model = BertForSequenceClassification.from_pretrained(\"bert-base-uncased\", num_labels=len(topic_labels))\r\n",
        "model.cuda()\r\n",
        "\r\n",
        "param_optimizer = list(model.named_parameters())\r\n",
        "no_decay = ['bias', 'gamma', 'beta']\r\n",
        "optimizer_grouped_parameters = [\r\n",
        "    {'params': [p for n, p in param_optimizer if not any(nd in n for nd in no_decay)],\r\n",
        "     'weight_decay_rate': 0.01},\r\n",
        "    {'params': [p for n, p in param_optimizer if any(nd in n for nd in no_decay)],\r\n",
        "     'weight_decay_rate': 0.0}\r\n",
        "]\r\n",
        "\r\n",
        "optimizer = AdamW(optimizer_grouped_parameters, lr=2e-5)"
      ],
      "execution_count": 101,
      "outputs": []
    },
    {
      "cell_type": "code",
      "metadata": {
        "colab": {
          "base_uri": "https://localhost:8080/",
          "height": 312
        },
        "id": "HtMx4HpJoFdq",
        "outputId": "7f57f694-5b0b-432d-be73-00c926ab610c"
      },
      "source": [
        "from IPython.display import clear_output\r\n",
        "\r\n",
        "train_loss_set = []\r\n",
        "train_loss = 0\r\n",
        "\r\n",
        "model.train()\r\n",
        "for step, batch in enumerate(train_dataloader):\r\n",
        "    batch = tuple(t.to(device) for t in batch)\r\n",
        "    b_input_ids, b_input_mask, b_labels = batch\r\n",
        "    \r\n",
        "    optimizer.zero_grad()\r\n",
        "    loss = model(b_input_ids, token_type_ids=None, attention_mask=b_input_mask, labels=b_labels)\r\n",
        "    train_loss_set.append(loss[0].item())  \r\n",
        "    loss[0].backward()\r\n",
        "    optimizer.step()\r\n",
        "\r\n",
        "    train_loss += loss[0].item()\r\n",
        "    \r\n",
        "    clear_output(True)\r\n",
        "    plt.plot(train_loss_set)\r\n",
        "    plt.title(\"Training loss\")\r\n",
        "    plt.xlabel(\"Batch\")\r\n",
        "    plt.ylabel(\"Loss\")\r\n",
        "    plt.show()\r\n",
        "print(\"Loss на обучающей выборке: {0:.5f}\".format(train_loss / len(train_dataloader)))"
      ],
      "execution_count": 102,
      "outputs": [
        {
          "output_type": "display_data",
          "data": {
            "image/png": "[encoded data removed]",
            "text/plain": [
              "<Figure size 432x288 with 1 Axes>"
            ]
          },
          "metadata": {
            "tags": [],
            "needs_background": "light"
          }
        },
        {
          "output_type": "stream",
          "text": [
            "Loss на обучающей выборке: 1.33542\n"
          ],
          "name": "stdout"
        }
      ]
    },
    {
      "cell_type": "markdown",
      "metadata": {
        "id": "CjUztV1NoWqI"
      },
      "source": [
        "### valid result"
      ]
    },
    {
      "cell_type": "code",
      "metadata": {
        "colab": {
          "base_uri": "https://localhost:8080/"
        },
        "id": "NLiTnZPIoFgu",
        "outputId": "172e699f-4c22-4a94-e3b4-5e852d16c735"
      },
      "source": [
        "model.eval()\r\n",
        "valid_preds, valid_labels = [], []\r\n",
        "for batch in validation_dataloader: \r\n",
        "    batch = tuple(t.to(device) for t in batch)\r\n",
        "    \r\n",
        "    b_input_ids, b_input_mask, b_labels = batch\r\n",
        "    with torch.no_grad():\r\n",
        "        logits = model(b_input_ids, token_type_ids=None, attention_mask=b_input_mask)\r\n",
        "\r\n",
        "    logits = logits[0].detach().cpu().numpy()\r\n",
        "    label_ids = b_labels.to('cpu').numpy()\r\n",
        "    \r\n",
        "    batch_preds = np.argmax(logits, axis=1)\r\n",
        "    batch_labels = np.concatenate(label_ids)     \r\n",
        "    valid_preds.extend(batch_preds)\r\n",
        "    valid_labels.extend(batch_labels)\r\n",
        "\r\n",
        "print(\"Процент правильных предсказаний на валидационной выборке: {0:.2f}%\".format(\r\n",
        "    accuracy_score(valid_labels, valid_preds) * 100\r\n",
        "))"
      ],
      "execution_count": 103,
      "outputs": [
        {
          "output_type": "stream",
          "text": [
            "Процент правильных предсказаний на валидационной выборке: 57.00%\n"
          ],
          "name": "stdout"
        }
      ]
    },
    {
      "cell_type": "code",
      "metadata": {
        "id": "p0R04AjFoS_w"
      },
      "source": [
        "tokenized_texts = [tokenizer.tokenize(sent) for sent in test_sentences]\r\n",
        "tokenized_texts = [['[CLS]'] + i[:510] + ['[SEP]'] if len(i) > 510 else ['[CLS]'] + i + ['[SEP]'] for i in tokenized_texts]\r\n",
        "\r\n",
        "input_ids = [tokenizer.convert_tokens_to_ids(x) for x in tokenized_texts]\r\n",
        "input_ids = pad_sequences(\r\n",
        "    input_ids,\r\n",
        "    maxlen=512,\r\n",
        "    dtype=\"long\",\r\n",
        "    truncating=\"post\",\r\n",
        "    padding=\"post\"\r\n",
        ")\r\n",
        "attention_masks = [[float(i>0) for i in seq] for seq in input_ids]\r\n",
        "\r\n",
        "prediction_inputs = torch.tensor(input_ids)\r\n",
        "prediction_masks = torch.tensor(attention_masks)\r\n",
        "prediction_labels = torch.tensor(test_gt)\r\n",
        "\r\n",
        "prediction_data = TensorDataset(\r\n",
        "    prediction_inputs,\r\n",
        "    prediction_masks,\r\n",
        "    prediction_labels\r\n",
        ")\r\n",
        "\r\n",
        "prediction_dataloader = DataLoader(\r\n",
        "    prediction_data, \r\n",
        "    sampler=SequentialSampler(prediction_data),\r\n",
        "    batch_size=10\r\n",
        ")"
      ],
      "execution_count": 104,
      "outputs": []
    },
    {
      "cell_type": "code",
      "metadata": {
        "id": "tfhHRwBnoTH2"
      },
      "source": [
        "model.eval()\r\n",
        "test_preds, test_labels = [], []\r\n",
        "\r\n",
        "for batch in prediction_dataloader:\r\n",
        "    batch = tuple(t.to(device) for t in batch)\r\n",
        "    \r\n",
        "    b_input_ids, b_input_mask, b_labels = batch\r\n",
        "    with torch.no_grad():\r\n",
        "        logits = model(b_input_ids, token_type_ids=None, attention_mask=b_input_mask)\r\n",
        "\r\n",
        "    logits = logits[0].detach().cpu().numpy()\r\n",
        "    label_ids = b_labels.to('cpu').numpy()\r\n",
        "\r\n",
        "    batch_preds = np.argmax(logits, axis=1)\r\n",
        "    batch_labels = np.concatenate(label_ids)  \r\n",
        "    test_preds.extend(batch_preds)\r\n",
        "    test_labels.extend(batch_labels)"
      ],
      "execution_count": 105,
      "outputs": []
    },
    {
      "cell_type": "markdown",
      "metadata": {
        "id": "5d1xbsIeocef"
      },
      "source": [
        "### test result"
      ]
    },
    {
      "cell_type": "code",
      "metadata": {
        "colab": {
          "base_uri": "https://localhost:8080/"
        },
        "id": "3pCy0fLGob2b",
        "outputId": "e7746fed-7cf2-4717-d424-43ea38aff127"
      },
      "source": [
        "acc_score = accuracy_score(test_labels, test_preds)\r\n",
        "print('Процент правильных предсказаний на отложенной выборке составил: {0:.2f}%'.format(\r\n",
        "    acc_score*100\r\n",
        "))"
      ],
      "execution_count": 106,
      "outputs": [
        {
          "output_type": "stream",
          "text": [
            "Процент правильных предсказаний на отложенной выборке составил: 55.41%\n"
          ],
          "name": "stdout"
        }
      ]
    },
    {
      "cell_type": "code",
      "metadata": {
        "colab": {
          "base_uri": "https://localhost:8080/"
        },
        "id": "z2fHlQy4ob55",
        "outputId": "cfc30c9d-0be9-41fb-d8de-1e3f8e4cd24f"
      },
      "source": [
        "print('Неправильных предсказаний: {0}/{1}'.format(\r\n",
        "    (np.array(test_labels) != np.array(test_preds)).sum(),\r\n",
        "    len(test_labels)\r\n",
        "))"
      ],
      "execution_count": 107,
      "outputs": [
        {
          "output_type": "stream",
          "text": [
            "Неправильных предсказаний: 16946/38000\n"
          ],
          "name": "stdout"
        }
      ]
    },
    {
      "cell_type": "code",
      "metadata": {
        "colab": {
          "base_uri": "https://localhost:8080/"
        },
        "id": "gRCLLYkJoFjb",
        "outputId": "7e2dae95-056e-4863-f878-f8b77b916c9f"
      },
      "source": [
        "print_predict_result(test_labels, test_preds, tokenizer, prediction_data, topic_labels)"
      ],
      "execution_count": 108,
      "outputs": [
        {
          "output_type": "stream",
          "text": [
            "[positive preds #0]\n",
            "  class: Экономика\n",
            "  text: опек уронила цены на нефть . мировые цены на нефть значительно снизились после заявления опек о возможном увеличении квот на ее добычу . на нью - иоркскои товарнои бирже стоимость июльских фьючерсов на нефть марки \" лаит \" упала на 3 , 1 процента до 39 , 44 доллара за баррель , нефть марки \" брент \" подешевела на 2 , 2 процента до 36 , 25 доллара за баррель , передает агентство reuters . в четверг президент опек пурномо юсгианторо ( purnomo yusgiantoro ) заявил , что картель может увеличить добычу нефти на 10 процентов . этот вопрос будет обсуждаться на встрече представителеи стран - экспортеров , которая проидет 3 июня в беируте . как сообщил глава о\n",
            "[positive preds #1]\n",
            "  class: Культура\n",
            "  text: мел гибсон нашел кому доверить свое откровение о христе . известныи американскии актер и режиссер мел гибсон нашел , наконец , прокатчика для своего нового фильма \" страсти христовы \" , рассказывающии о последних часах земнои жизни иисуса христа . как сообщается на саите журнала variety , студия гибсона icon productions подписала контракт с компаниеи newmarket о передаче последнеи прав на представление картины на территории сша . icon получит часть прибыли от проката . прокатом фильма в великобритании icon productions заимется самостоятельно . ранее сообщалось о том , что большинство крупнеиших дистрибьюторов отказались от приобретения картины \" страсти христовы \" из оп\n",
            "[positive preds #2]\n",
            "  class: Спорт\n",
            "  text: над nba нависла угроза локаута . в американскои национальнои баскетбольнои ассоциации ( nba ) будет объявлен локаут , если до конца июня не будет пописано соглашение с профсоюзом игроков . как сообщает агентство reuters , об этом заявил комиссионер nba дэвид стерн на пресс - конференции в сан - антонио , штат техас . по его словам , краинии срок достижения соглашения - 1 июля . переговоры между лигои и игроками были прерваны в мае и до сих пор не возобновились . стерн отметил , что лига уже пошла на ряд компромиссов . в частности , возрастнои лимит на участие игрока в матчах nba снижен до 19 лет с прежних 20 . кроме того , лига гарантировала , что игроки полу\n",
            "[positive preds #3]\n",
            "  class: Наука и техника\n",
            "  text: вертолетам армии сша обновят керамическую броню . вертолеты ah - 64 apache армии сша получат броневую защиту нового поколения , сообщает rotorhub . в отличие от прежнеи , новая броневая защита сможет защитить вертолеты не только от огня легкого стрелкового оружия , но и от бронебоиных пуль крупнокалиберных пулеметов и осколков снарядов зенитнои артиллерии . керамическая броня уменьшеннои массы будет установлена на 634 вертолета \" апач \" и \" апач лонгбоу \" армии сша . замена броневои защиты будет осуществляться в ходе капитального ремонта и реконструкции машин . кроме того , пентагон планирует модернизировать с использованием новых материа\n",
            "[positive preds #4]\n",
            "  class: Наука и техника\n",
            "  text: сша тратят миллионы в поисках секрета бессмертия бомбардировщиков . американская компания wyle laboratories заключила с министерством обороны сша дополнительныи контракт на разработку оборудования для правительственнои группы joint council on aging aircraft , которая занимается вопросами поддержания боеспособности устаревших самолетов военнои авиации сша , сообщает defense industry daily . общая стоимость нового контракта составляет 8 , 5 миллиона долларов . срок его исполнения истекает в августе 2006 года . в состав jaat входят представители командовании вмс , ввс , армии , морскои пехоты , береговои охраны , управления тыла министерства обороны , управления гражданскои авиации сша , nasa\n",
            "[positive preds #5]\n",
            "  class: Спорт\n",
            "  text: сафин и кафельников удачно стартуют в штутгарте . россииские теннисисты марат сафин и евгении кафельников с побед начали выступления на турнире серии masters в немецком штутгарте . особенно примечателен успех второи ракетки мира . сафин , посеянныи на этом турнире под первым номером , обыграл француза фабриса санторо , которому до этого проиграл целых пять матчеи . последнии раз россиянин уступил французу в первом раунде олимпииского турнира . в штутгарте же марат переиграл неудобного соперника всего за 67 минут - 6 : 4 , 6 : 2 . в третьем круге соревновании россиянин сыграет с англичанином грегом руседски . а олимпиискии чемпион е\n",
            "[positive preds #6]\n",
            "  class: Наука и техника\n",
            "  text: бразилия приобретет во франции подводную лодку . бразилия ведет переговоры с франциеи о построике подводнои лодки нового поколения , сообщает defensenews . по информации пресс - службы министерства обороны , бразилия планирует приобрести подлодку типа scorpene стоимостью 600 миллионов долларов , а также ознакомиться с современными технологиями подводного судостроения . помимо подлодки , бразилия намерена приобрести во франции вертолеты и реактивные истребители . подводное водоизмещение пл типа scorpene составляет 1600 тонн , длина - 67 метров , ширина - 8 метров . лодка способна развивать скорость до 20 узлов . дальность плавания в надводном положен\n",
            "[positive preds #7]\n",
            "  class: Наука и техника\n",
            "  text: nintendo выявит самую умную британскую семью . компания nintendo проведет в великобритании конкурс , целью которого станет выявление самои умнои британскои семьи , сообщается на саите kotaku . начиная с 13 октября 2007 года , во многих торговых центрах великобритании появятся специальные площадки , на которых семьи будут демонстрировать свое интеллектуальное превосходство друг над другом . 4 ноября победители региональных раундов соидутся в финале , которыи проидет в лондоне . конкурс станет частью рекламнои кампании в поддержку игры big brain academy для консоли wii . игра представляет собои набор тестов , разбитых на пять групп . различные испытания проверя\n",
            "[positive preds #8]\n",
            "  class: Культура\n",
            "  text: в цдх два дня звучат гитары всех видов . на сцене центрального дома художника открывается двухдневныи фестиваль гитарнои музыки . на нем выступят 12 сольных музыкантов и коллективов , представляющих весь диапазон применения и все разновидности этого музыкального инструмента - от академическои классики до электроавангарда , от блюз - рока до этноджаза . программа фестиваля такова : 30 ноября энвер измаиловдмитрии четверговтемур квителашвилиолег мациевскиидмитрии малолетовалексеи черемуш - вячеслав ханов 1 декабря иван смирновалександр виницкииолег тимофеевроман мирошниченкоacoustic band проводят фестиваль звукозаписываю\n",
            "[positive preds #9]\n",
            "  class: Спорт\n",
            "  text: сафин поднялся на вторую строчку реитинга atp . опубликован очереднои реитинг теннисистов - профессионалов atp , сообщает саит atptennisc . com марат сафин , после удачного выступления на первом в сезоне турнире \" большого шлема \" в австралии поднялся сразу на 52 ступеньки , и занял вторую строчку . а на первом месте в этом списке оказался швед томас юханссон ( thomas johansson ) , днем ранее обыгравшии россииского теннисиста в финале открытого чемпионата австралии ( australian open ) . еще два представителя россии евгении кафельников и михаил южныи , менее удачно выступившие в австралии , с 19 очками делят 39 - ое место в чемпионскои гонке atp . их соотечественники николаи да\n",
            "\n",
            "[negative preds #0]\n",
            "  class pred:  Спорт\n",
            "  class label: Экономика\n",
            "  text: финляндия просит россию отдать еи в аренду леса карелии . финляндия выразила заинтересованность в аренде лесных площадеи карелии , сообщает ак & м . об этом заявил 18 октября на пресс - конференции первыи заместитель министра природных ресурсов рф юрии кукуев . он особо отметил , что в 2000 году россииские предприятия экспортировали в финляндию 12 миллионов кубометров леса . в 2001 году этот показатель планируется увеличить до 20 миллионов кубометров . по словам юрия кукуева , россия заинтересована в сдаче лесов в аренду , поскольку в настоящее время не имеет возможности полностью осваивать лесные ресурсы собственными силами . кроме тог\n",
            "[negative preds #1]\n",
            "  class pred:  Культура\n",
            "  class label: Экономика\n",
            "  text: банк \" кредиттраст \" лишили лицензии . банк россии\n",
            "[negative preds #2]\n",
            "  class pred:  Спорт\n",
            "  class label: Экономика\n",
            "  text: лондонская биржа отвергает новые предложения шведов о ее покупке . лондонская фондовая биржа призвала своих акционеров отвергнуть новые предложения шведскои om gruppen ab о покупке биржи . как стало известно , в пятницу om gruppen увеличила сумму , предлагаемую мелким акционерам лондонскои биржи за их акции , на 33 процента и довела ее до 1 , 064 миллиарда англииских фунтов стерлингов . руководство лондонскои биржи не считает новую цену справедливои и не видит явных преимуществ для клиентов в результате возможнои покупки . аналитики сомневаются , что новое предложение om gruppen наидет достаточную поддержку среди акционеров лондонскои ф\n",
            "[negative preds #3]\n",
            "  class pred:  Экономика\n",
            "  class label: Культура\n",
            "  text: президента италии в москве сопровождает \" урбинская венера \" тициана . шедевр из собрания флорентиискои галереи уффици - \" урбинская венера \" тициана - специально привезен в москву к визиту главы итальянского государства карло адзельо чампи . визит состоится 26 - 29 ноября . в последнии день своего пребывания в москве чампи откроет экспозицию итальянскои живописи xvi - xviii веков в музее имени пушкина , передает риа \" новости \" . кроме того , к визиту президента италии подготовлена культурная программа : \" данте и пушкин \" - выставка государственного музея а . с . пушкина ; \" итальянские архитекторы в россии \" - выставка в музее архитектур\n",
            "[negative preds #4]\n",
            "  class pred:  Культура\n",
            "  class label: Экономика\n",
            "  text: евросоюз ужесточил запрет на рекламу табачных изделии . в понедельник страны евросоюза ввели запрет на рекламу табачнои продукции в периодическои печати , интернете и на международных спортивных мероприятиях , сообщает associated press . новыи запрет был одобрен министрами здравоохранения 13 - ти из 15 - ти стран - членов союза . голосование состоялось на прошедшеи в понедельник в здании совета европы в брюсселе встрече министров здравоохранения стран евросоюза . это запрет должен вступить в силу с 2005 года . \" сегодня мы забили еще один гвоздь в гроб табачнои индустрии \" , - сказал специальныи уполномоченныи по здравоохранению и защите прав п\n",
            "[negative preds #5]\n",
            "  class pred:  Культура\n",
            "  class label: Наука и техника\n",
            "  text: на максе впервые показали усовершенствованныи миг - 31 . на наземнои экспозиции международного авиакосмического салона макс - 2007 впервые показан модернизированныи истребитель - перехватчик миг - 31бм , сообщает корреспондент \" ленты . ру \" . изменения по сравнению со строевым самолетом затронули систему управления вооружением ( теперь истребитель может применять управляемые ракеты \" воздух - воздух \" с дальностью пуска до 200 километров ) . кроме того , на миг - 31бм установлена современная система спутниковои навигации и увеличено количество средств поражения . усовершенствованные истребители уже прошли основные этапы испытан\n",
            "[negative preds #6]\n",
            "  class pred:  Культура\n",
            "  class label: Экономика\n",
            "  text: владимир путин поставил задачу завоевать мировои рынок вооружении . президент владимир путин заявил , что россия уверенно входит в пятерку ведущих мировых экспортеров военнои продукции , и поставил задачу \" закрепить достигнутые позиции и развить успех \" на этом направлении . с такими заявлениями глава государства выступил на заседании комиссии по военно - техническому сотрудничеству в понедельник , передает итар - тасс . \" сегодня на мировом рынке вооружении обострилась конкурентная борьба , лидером по объемам поставок остаются сша , - подчеркнул путин . - активно развивают свои экспортные потенциалы велико\n",
            "[negative preds #7]\n",
            "  class pred:  Культура\n",
            "  class label: Наука и техника\n",
            "  text: американские ученые потребовали прекратить цензуру науки . около 10 тысяч ученых из сша , в числе которых 52 нобелевских лауреата , подписали обращение против вмешательства правительства в научные исследования , сообщает bbc news . в обращении , обнародованном на ежегодном съезде американского геофизического союза ( american geophysical union ' s fall meeting ) , в частности , говорится , что власти требовали от ученых , работающих в федеральных агентствах , скорректировать результаты исследовании в соответствии с теми или иными политическими установками . американскии геофизическии союз также опубликовал алфавитныи справочник с указанием исследовании , подвер\n",
            "[negative preds #8]\n",
            "  class pred:  Культура\n",
            "  class label: Наука и техника\n",
            "  text: ученые создали франкенштеина времен палеолита . ученым впервые удалось полностью воссоздать скелет древнего человека - неандертальца . как пишет в пятницу livescience , в среде антропологов создание \" франкенштеина каменного века \" рассматривается как независимое научное открытие . гари соиер ( gary sawyer ) из нью - иоркского музея естествознания и его коллега из вашингтонского университета блэин малеи ( blaine maley ) использовали для создания скелета кости , наиденные в самых разных частях планеты . большинство из них , в том числе таз и грудная клетка , были взяты от скелета , обнаруженного в пещере ла феррасси во франции . эти фрагменты были доп\n",
            "[negative preds #9]\n",
            "  class pred:  Культура\n",
            "  class label: Экономика\n",
            "  text: арестован основатель parmаlat . основатель компании parmalat калисто танци ( calisto tanzi ) в субботу вечером задержан полициеи в милане , сообщает reuters . танзи арестован по подозрению в финансовых махинациях , сообщили представители итальянских правоохранительных органов , отказавшись предоставить какую - либо дополнительную информацию . до последнего времени танци находился в испании и был недоступен для итальянскои полиции . однако он заявил , что намеревается сотрудничать со следствием . напомним , что калисто танци - основатель компании parmalat . до начала декабря 2003 года он занимал пост председателя правления этои компании . танци подал в отставку до того\n"
          ],
          "name": "stdout"
        }
      ]
    },
    {
      "cell_type": "markdown",
      "metadata": {
        "id": "Xo4zavk44Qd3"
      },
      "source": [
        "## Train size 3%"
      ]
    },
    {
      "cell_type": "code",
      "metadata": {
        "id": "E1vccLzhr4Z7"
      },
      "source": [
        "sentences = [titles[i] + ' ' + pre_sentences[i] for i in range(len(labels))]\r\n",
        "train_sentences, test_sentences, train_gt, test_gt = train_test_split(sentences, labels, test_size=0.97)"
      ],
      "execution_count": 124,
      "outputs": []
    },
    {
      "cell_type": "code",
      "metadata": {
        "colab": {
          "base_uri": "https://localhost:8080/",
          "height": 545
        },
        "id": "MVskBbfbr4c9",
        "outputId": "1d64c213-b53c-4950-a76c-7005083e3c31"
      },
      "source": [
        "hist_labels(train_gt, topic_labels, \"train\")\r\n",
        "hist_labels(test_gt, topic_labels, \"test\")"
      ],
      "execution_count": 125,
      "outputs": [
        {
          "output_type": "display_data",
          "data": {
            "image/png": "[encoded data removed]",
            "text/plain": [
              "<Figure size 432x288 with 1 Axes>"
            ]
          },
          "metadata": {
            "tags": [],
            "needs_background": "light"
          }
        },
        {
          "output_type": "display_data",
          "data": {
            "image/png": "[encoded data removed]",
            "text/plain": [
              "<Figure size 432x288 with 1 Axes>"
            ]
          },
          "metadata": {
            "tags": [],
            "needs_background": "light"
          }
        }
      ]
    },
    {
      "cell_type": "code",
      "metadata": {
        "id": "pd2WVnqYr4iO"
      },
      "source": [
        "from pytorch_transformers import BertTokenizer, BertConfig\r\n",
        "\r\n",
        "tokenizer = BertTokenizer.from_pretrained('bert-base-uncased', do_lower_case=True)\r\n",
        "tokenized_texts = [tokenizer.tokenize(sent) for sent in train_sentences]\r\n",
        "\r\n",
        "tokenized_texts = [['[CLS]'] + i[:510] + ['[SEP]'] if len(i) > 510 else ['[CLS]'] + i + ['[SEP]'] for i in tokenized_texts]"
      ],
      "execution_count": 126,
      "outputs": []
    },
    {
      "cell_type": "code",
      "metadata": {
        "id": "5cfhuXMV4fFu"
      },
      "source": [
        "input_ids = [tokenizer.convert_tokens_to_ids(x) for x in tokenized_texts]\r\n",
        "input_ids = pad_sequences(\r\n",
        "    input_ids,\r\n",
        "    maxlen=512,\r\n",
        "    dtype=\"long\",\r\n",
        "    truncating=\"post\",\r\n",
        "    padding=\"post\"\r\n",
        ")\r\n",
        "attention_masks = [[float(i>0) for i in seq] for seq in input_ids]\r\n",
        "\r\n",
        "train_inputs, validation_inputs, train_labels, validation_labels = train_test_split(\r\n",
        "    input_ids, \r\n",
        "    train_gt, \r\n",
        "    random_state=42,\r\n",
        "    test_size=0.1\r\n",
        ")\r\n",
        "\r\n",
        "train_masks, validation_masks, _, _ = train_test_split(\r\n",
        "    attention_masks,\r\n",
        "    input_ids,\r\n",
        "    random_state=42,\r\n",
        "    test_size=0.1\r\n",
        ")\r\n",
        "\r\n",
        "train_inputs = torch.tensor(train_inputs)\r\n",
        "train_labels = torch.tensor(train_labels)\r\n",
        "train_masks = torch.tensor(train_masks)\r\n",
        "\r\n",
        "validation_inputs = torch.tensor(validation_inputs)\r\n",
        "validation_labels = torch.tensor(validation_labels)\r\n",
        "validation_masks = torch.tensor(validation_masks)\r\n",
        "\r\n",
        "train_data = TensorDataset(train_inputs, train_masks, train_labels)\r\n",
        "train_dataloader = DataLoader(\r\n",
        "    train_data,\r\n",
        "    sampler=RandomSampler(train_data),\r\n",
        "    batch_size=12\r\n",
        ")\r\n",
        "\r\n",
        "validation_data = TensorDataset(validation_inputs, validation_masks, validation_labels)\r\n",
        "validation_dataloader = DataLoader(\r\n",
        "    validation_data,\r\n",
        "    sampler=SequentialSampler(validation_data),\r\n",
        "    batch_size=12\r\n",
        ")"
      ],
      "execution_count": 127,
      "outputs": []
    },
    {
      "cell_type": "code",
      "metadata": {
        "id": "7ZNiynAF4fIe"
      },
      "source": [
        "from pytorch_transformers import AdamW, BertForSequenceClassification\r\n",
        "\r\n",
        "model = BertForSequenceClassification.from_pretrained(\"bert-base-uncased\", num_labels=len(topic_labels))\r\n",
        "model.cuda()\r\n",
        "\r\n",
        "param_optimizer = list(model.named_parameters())\r\n",
        "no_decay = ['bias', 'gamma', 'beta']\r\n",
        "optimizer_grouped_parameters = [\r\n",
        "    {'params': [p for n, p in param_optimizer if not any(nd in n for nd in no_decay)],\r\n",
        "     'weight_decay_rate': 0.01},\r\n",
        "    {'params': [p for n, p in param_optimizer if any(nd in n for nd in no_decay)],\r\n",
        "     'weight_decay_rate': 0.0}\r\n",
        "]\r\n",
        "\r\n",
        "optimizer = AdamW(optimizer_grouped_parameters, lr=2e-5)"
      ],
      "execution_count": 128,
      "outputs": []
    },
    {
      "cell_type": "code",
      "metadata": {
        "colab": {
          "base_uri": "https://localhost:8080/",
          "height": 312
        },
        "id": "h7fxMCFo4fLQ",
        "outputId": "53a98e0b-9ef7-4ebf-8d2e-c9c901cbebfe"
      },
      "source": [
        "from IPython.display import clear_output\r\n",
        "\r\n",
        "train_loss_set = []\r\n",
        "train_loss = 0\r\n",
        "\r\n",
        "model.train()\r\n",
        "for step, batch in enumerate(train_dataloader):\r\n",
        "    batch = tuple(t.to(device) for t in batch)\r\n",
        "    b_input_ids, b_input_mask, b_labels = batch\r\n",
        "    \r\n",
        "    optimizer.zero_grad()\r\n",
        "    loss = model(b_input_ids, token_type_ids=None, attention_mask=b_input_mask, labels=b_labels)\r\n",
        "    train_loss_set.append(loss[0].item())  \r\n",
        "    loss[0].backward()\r\n",
        "    optimizer.step()\r\n",
        "\r\n",
        "    train_loss += loss[0].item()\r\n",
        "    \r\n",
        "    clear_output(True)\r\n",
        "    plt.plot(train_loss_set)\r\n",
        "    plt.title(\"Training loss\")\r\n",
        "    plt.xlabel(\"Batch\")\r\n",
        "    plt.ylabel(\"Loss\")\r\n",
        "    plt.show()\r\n",
        "print(\"Loss на обучающей выборке: {0:.5f}\".format(train_loss / len(train_dataloader)))"
      ],
      "execution_count": 129,
      "outputs": [
        {
          "output_type": "display_data",
          "data": {
            "image/png": "[encoded data removed]",
            "text/plain": [
              "<Figure size 432x288 with 1 Axes>"
            ]
          },
          "metadata": {
            "tags": [],
            "needs_background": "light"
          }
        },
        {
          "output_type": "stream",
          "text": [
            "Loss на обучающей выборке: 1.36978\n"
          ],
          "name": "stdout"
        }
      ]
    },
    {
      "cell_type": "markdown",
      "metadata": {
        "id": "q64AHqxj4nd8"
      },
      "source": [
        "### valid result"
      ]
    },
    {
      "cell_type": "code",
      "metadata": {
        "colab": {
          "base_uri": "https://localhost:8080/"
        },
        "id": "3jVPhfUO4fOg",
        "outputId": "722a6caf-dd8d-4c9e-afee-17e0460940f4"
      },
      "source": [
        "model.eval()\r\n",
        "valid_preds, valid_labels = [], []\r\n",
        "for batch in validation_dataloader: \r\n",
        "    batch = tuple(t.to(device) for t in batch)\r\n",
        "    \r\n",
        "    b_input_ids, b_input_mask, b_labels = batch\r\n",
        "    with torch.no_grad():\r\n",
        "        logits = model(b_input_ids, token_type_ids=None, attention_mask=b_input_mask)\r\n",
        "\r\n",
        "    logits = logits[0].detach().cpu().numpy()\r\n",
        "    label_ids = b_labels.to('cpu').numpy()\r\n",
        "    \r\n",
        "    batch_preds = np.argmax(logits, axis=1)\r\n",
        "    batch_labels = np.concatenate(label_ids)     \r\n",
        "    valid_preds.extend(batch_preds)\r\n",
        "    valid_labels.extend(batch_labels)\r\n",
        "\r\n",
        "print(\"Процент правильных предсказаний на валидационной выборке: {0:.2f}%\".format(\r\n",
        "    accuracy_score(valid_labels, valid_preds) * 100\r\n",
        "))"
      ],
      "execution_count": 130,
      "outputs": [
        {
          "output_type": "stream",
          "text": [
            "Процент правильных предсказаний на валидационной выборке: 34.17%\n"
          ],
          "name": "stdout"
        }
      ]
    },
    {
      "cell_type": "code",
      "metadata": {
        "id": "wuTIn0Rw4s7s"
      },
      "source": [
        "tokenized_texts = [tokenizer.tokenize(sent) for sent in test_sentences]\r\n",
        "tokenized_texts = [['[CLS]'] + i[:510] + ['[SEP]'] if len(i) > 510 else ['[CLS]'] + i + ['[SEP]'] for i in tokenized_texts]\r\n",
        "\r\n",
        "input_ids = [tokenizer.convert_tokens_to_ids(x) for x in tokenized_texts]\r\n",
        "input_ids = pad_sequences(\r\n",
        "    input_ids,\r\n",
        "    maxlen=512,\r\n",
        "    dtype=\"long\",\r\n",
        "    truncating=\"post\",\r\n",
        "    padding=\"post\"\r\n",
        ")\r\n",
        "attention_masks = [[float(i>0) for i in seq] for seq in input_ids]\r\n",
        "\r\n",
        "prediction_inputs = torch.tensor(input_ids)\r\n",
        "prediction_masks = torch.tensor(attention_masks)\r\n",
        "prediction_labels = torch.tensor(test_gt)\r\n",
        "\r\n",
        "prediction_data = TensorDataset(\r\n",
        "    prediction_inputs,\r\n",
        "    prediction_masks,\r\n",
        "    prediction_labels\r\n",
        ")\r\n",
        "\r\n",
        "prediction_dataloader = DataLoader(\r\n",
        "    prediction_data, \r\n",
        "    sampler=SequentialSampler(prediction_data),\r\n",
        "    batch_size=10\r\n",
        ")"
      ],
      "execution_count": 131,
      "outputs": []
    },
    {
      "cell_type": "code",
      "metadata": {
        "id": "Ta4wZDqB4tAr"
      },
      "source": [
        "model.eval()\r\n",
        "test_preds, test_labels = [], []\r\n",
        "\r\n",
        "for batch in prediction_dataloader:\r\n",
        "    batch = tuple(t.to(device) for t in batch)\r\n",
        "    \r\n",
        "    b_input_ids, b_input_mask, b_labels = batch\r\n",
        "    with torch.no_grad():\r\n",
        "        logits = model(b_input_ids, token_type_ids=None, attention_mask=b_input_mask)\r\n",
        "\r\n",
        "    logits = logits[0].detach().cpu().numpy()\r\n",
        "    label_ids = b_labels.to('cpu').numpy()\r\n",
        "\r\n",
        "    batch_preds = np.argmax(logits, axis=1)\r\n",
        "    batch_labels = np.concatenate(label_ids)  \r\n",
        "    test_preds.extend(batch_preds)\r\n",
        "    test_labels.extend(batch_labels)"
      ],
      "execution_count": 132,
      "outputs": []
    },
    {
      "cell_type": "markdown",
      "metadata": {
        "id": "7k5b9oCf4xAq"
      },
      "source": [
        "### test result"
      ]
    },
    {
      "cell_type": "code",
      "metadata": {
        "colab": {
          "base_uri": "https://localhost:8080/"
        },
        "id": "GzX0lkJO4tFH",
        "outputId": "a83a450c-e668-4c2a-e818-beb699886cfe"
      },
      "source": [
        "acc_score = accuracy_score(test_labels, test_preds)\r\n",
        "print('Процент правильных предсказаний на отложенной выборке составил: {0:.2f}%'.format(\r\n",
        "    acc_score*100\r\n",
        "))"
      ],
      "execution_count": 133,
      "outputs": [
        {
          "output_type": "stream",
          "text": [
            "Процент правильных предсказаний на отложенной выборке составил: 39.28%\n"
          ],
          "name": "stdout"
        }
      ]
    },
    {
      "cell_type": "code",
      "metadata": {
        "colab": {
          "base_uri": "https://localhost:8080/"
        },
        "id": "Q5VYrckL4z0n",
        "outputId": "88867193-6b68-4836-da46-3a46d9d7c069"
      },
      "source": [
        "print('Неправильных предсказаний: {0}/{1}'.format(\r\n",
        "    (np.array(test_labels) != np.array(test_preds)).sum(),\r\n",
        "    len(test_labels)\r\n",
        "))"
      ],
      "execution_count": 134,
      "outputs": [
        {
          "output_type": "stream",
          "text": [
            "Неправильных предсказаний: 23559/38800\n"
          ],
          "name": "stdout"
        }
      ]
    },
    {
      "cell_type": "code",
      "metadata": {
        "colab": {
          "base_uri": "https://localhost:8080/"
        },
        "id": "2Kody2-c4fRC",
        "outputId": "7db47296-3f65-492f-b227-efb3ff36d44e"
      },
      "source": [
        "print_predict_result(test_labels, test_preds, tokenizer, prediction_data, topic_labels)"
      ],
      "execution_count": 135,
      "outputs": [
        {
          "output_type": "stream",
          "text": [
            "[positive preds #0]\n",
            "  class: Экономика\n",
            "  text: volkswagen выкупает остатки акции \" шкоды \" . германскии автопромышленныи концерн volkswagen намерен полностью купить компанию skoda . как стало сегодня известно из источников в штаб - квартире volkswagen в вольфсбурге ( земля нижняя саксония ) , германская сторона предложила правительству чехиипродать вольфсбургу 30 % пакета акции skoda за 8 миллиардов крон ( 210 миллионов евро ) . как сообщается , чешские социал - демократы пока заблокировали данную сделку , считая коммерческое предложение volkswagen явно заниженным . в то же время , вольфсбург надеется , что ему еще до конца года удастся выработать соглашение о приобретении чешскои автокомпании в свою безраздельну\n",
            "[positive preds #1]\n",
            "  class: Экономика\n",
            "  text: россия купит у туркмении газ . россия и туркмения ведут переговоры о заключении соглашения о сотрудничестве в газовои отрасли и об условиях контракта купли - продажи туркменского газа между оао \" газпром \" и гтк \" туркменгаз \" , сообщает ак & м . аспекты этих переговоров были обсуждены сегодня , 19 сентября , на заседании россииско - туркменскои межправительственнои комиссии по экономическому сотрудничеству . планируется , что документы по этому направлению будут готовы к подписанию в iv квартале этого года . в соответствии соглашением , начиная с 2005 года объем закупаемого газа составит 10 миллиардов кубометров с наращиванием до 20\n",
            "[positive preds #2]\n",
            "  class: Экономика\n",
            "  text: квартплата в воронеже выросла почти в пять раз . в воронеже почти в пять раз увеличилась оплата за жилье , сообщает риа \" новости \" . если раньше за один квадратныи метр общеи площади горожане платили 45 копеек , то теперь придется платить от 2 , 14 рубля до 2 , 19 рубля в зависимости от степени износа здания . как заявили в администрации города , эта мера принята в рамках федеральных стандартов , утвержденных правительством россии , в соответствии с которыми уровень платежеи граждан за жилье и коммунальные услуги в 2001 году должен быть доведен до 80 процентов от их стоимости .\n",
            "[positive preds #3]\n",
            "  class: Наука и техника\n",
            "  text: пакистан испытал баллистическую ракету среднеи дальности . пакистан провел успешные испытания баллистическои ракеты среднеи дальности hatf v , известнои также под названием ghauri , сообщает bbc news . ракета hatf v имеет дальность полета 1300 километров и способна нести ядерную боеголовку . детальные характеристики ракеты , включая предполагаемую мощность заряда и круговое вероятное отклонение , не сообщаются . пуск был произведен на следующии день после того , как индия и пакистан достигли договоренности о взаимных мерах по снижению риска случаиного ядерного конфликта . целью испытании была проверка технических характерист\n",
            "[positive preds #4]\n",
            "  class: Спорт\n",
            "  text: гол андрея шевченко принес \" милану \" звание чемпиона италии . \" милан \" , обыграв столичную \" рому \" со счетом 1 : 0 , в 17 - и раз стал чемпионом италии по футболу . единственныи мяч на 2 - и минуте забил украинскии нападающии \" милана \" андреи шевченко . с 22 мячами он лидирует в споре бомбардиров , сообщает официальныи саит \" милана \" . в случае победы над \" миланом \" \" рома \" сокращала бы отрыв от команды карло анчелотти до трех очков и судьба чемпионского титула должна была решиться в двух следующих турах . однако матч начался для столичнои команды неудачно . уже на второи минуте бразильскии полузащитник \" милана \" кака сделал прострел с пр\n",
            "[positive preds #5]\n",
            "  class: Экономика\n",
            "  text: касьянов рассказал вулфенсону об экономическои программе правительства . в субботу в доме правительства рф прошла встреча президента всемирного банка джеимса вулфенсона с главои россииского правительства михаилом касьяновым и членами кабинета министров . в ходе переговоров речь шла о повышении эффективности использования заимов всемирного банка в россии и более качественном выборе проектов для финансирования , сообщает риа \" новости \" . на 1 июня 2000 года портфель деиствующих и завершенных заимов всемирного банка в россии достиг 40 , а их общая сумма составила 10 миллиардов 560 миллионов долларов . из этои суммы уже полностью освоены 7\n",
            "[positive preds #6]\n",
            "  class: Экономика\n",
            "  text: бывшее руководство mannesmann выплатило себе премию в 57 миллионов евро . в среду в дюссельдорфе начался суд над главои крупнеишего банка германии deutsche bank иозефом акерманном ( josef ackermann ) и еще пятью бывшими членами наблюдательного совета промышленного гиганта mannesmann , сообщает reuters . их обвиняют в том , что они незаконно потратили деньги акционеров на выплаты руководству концерна после его покупки британским телекоммуникационным холдингом vodaphone в 2000 году . эта сделка стала крупнеишим событием в послевоеннои истории немецкого бизнеса . британцы заплатили за приобретение производителя мобильных телефонов из германии 180 миллиардов евро . по данным deutsche\n",
            "[positive preds #7]\n",
            "  class: Наука и техника\n",
            "  text: в японии wii обыграла ps3 со счетом 3 : 1 . за 2007 год в японии было продано в три раза больше консолеи nintendo wii , чем приставок sony playstation 3 , сообщается на саите bloomberg . за 12 месяцев японские геимеры приобрели 3 , 63 миллиона wii и 1 , 21 миллиона ps3 . в 2007 году уровень продаж playstation 3 превышал аналогичныи показатель для консолеи nintendo в течение только одного месяца , с 29 октября по 25 ноября . это случилось после того , как компания sony снизила стоимость своих консолеи в японии на десять процентов . впрочем , за ps3 все еще приходится платить сумму , заметно превышающую цену wii . компания microsoft в 2007 году смогла продать в японии менее 258 тысяч своих игровых систем xbox 360 .\n",
            "[positive preds #8]\n",
            "  class: Экономика\n",
            "  text: сбербанк и \" вимм - биль - данн \" признаны лучшими . названы победители конкурса \" лучшая компания года \" , которыи ежегодно проводится по инициативе журнала \" компания \" . церемония награждения победителеи состоялась накануне в гостинице mariott grand hotel . конкурс проводился по востми основным и шести специальным номинациям . его победители распределились следующим образом : основные номинации : банк - сберегательныи банк рф . топливно - энергетическии комплекс - тюменская нефтяная компанияметаллургия - \" русскии алюминии \" телекоммуникации - \" мобильные телесистемы \" пищевая промышленность - \" вимм - биль - данн \" страхование - \" росно \" ритеил и д\n",
            "[positive preds #9]\n",
            "  class: Экономика\n",
            "  text: \" автоваз \" повысил цены на автомобили . ао \" автоваз \" повысило в среднем на один процент отпускные цены на большинство моделеи автомобилеи , передает \" интерфакс \" . неизменными остались только цены на заднеприводную \" классику \" ( ваз - 2104 - 07 ) , самои дешевои машинои остается ваз - 2105 , которая стоит 71 478 рублеи . переднеприводные автомобили \" девятого \" семеиства ( ваз - 21093 - 9 ) подорожали в среднем на две - четыре тысячи рублеи , \" десятки \" - на три - четыре тысячи рублеи . самое большое повышение цен коснулось \" восьмерки \" ( ваз - 2108 ) с инжекторным двигателем : она подорожала на шесть тысяч рублеи . отпускная цена на та\n",
            "\n",
            "[negative preds #0]\n",
            "  class pred:  Экономика\n",
            "  class label: Наука и техника\n",
            "  text: астрономы нашли предельную массу звезды . слишком тяжелых звезд не существует , считают американские астрономы . вопреки прежним прогнозам , масса этих небесных тел не может превышать 150 солнечных . к такому выводу ученые пришли , наблюдая ряд удаленных звездных скоплении с помощью космического телескопа hubble , сообщает nature . дональд фаигер ( donald figer ) , исследователь из балтимора , изучал распределение звезд по массам в самом тяжелом ( 11 тысяч солнечных масс ) скоплении галактики - arches . массы определяли по спектральным характеристикам и светимости . согласно предварительным данным , среди звезд скопления должны был\n",
            "[negative preds #1]\n",
            "  class pred:  Спорт\n",
            "  class label: Культура\n",
            "  text: похороны василя быкова назначены на 25 июня . знаменитыи писатель василь быков будет похоронен на восточном кладбище минска 25 июня , передает риа \" новости \" . прощание с автором \" альпиискои баллады \" состоится в минском доме литератора . предполагается , что траурная церемония начнется в 10 : 00 по местному времени , а гражданская панихида - в полдень . комиссию по организации похорон возглавит министр культуры белоруссии леонид гуляко . василь быков скончался 22 июня на 80 - м году жизни в реанимационном отделении белорусского научно - исследовательского института онкологии и медицинскои радиологии . некоторое время назад пис\n",
            "[negative preds #2]\n",
            "  class pred:  Экономика\n",
            "  class label: Культура\n",
            "  text: искусствоведы признали \" 36 - го вермеера \" подлинником . британские искусствоведы установили , что картина , долгое время считавшаяся подделкои под яна вермеера , деиствительно принадлежит кисти великого голландского художника , сообщает bbc news . \" девушка за вирджиналом \" - небольшое живописное полотно размером 25 на 20 сантиметров было написано вермеером около 1670 года . до 1947 года у искусствоведов не возникало сомнении в подлинности картины . однако в 1947 году самыи известныи подделыватель картин хх века хан ван мегерен ( han van meegeren ) во время судебного процесса , на котором он обвинялся в продаже картин в фашистскую германию , заявил , что \" д\n",
            "[negative preds #3]\n",
            "  class pred:  Экономика\n",
            "  class label: Спорт\n",
            "  text: renault представил новыи clio . на автошоу во франкфурте состоялась очередная мировая премьера . здесь был показан полностью новыи хэтчбек renault clio , уже третьего по счету поколения . и , судя по количеству выставленных на стенlе renault экземпляров этои модели , на новыи clio руководство французскои марки возлагает большие надежды . новинка построена на базе полностью нового шасси , которое дебютировало в прошлом году на модели renault modus . габаритная длина clio теперь составляет 3 , 99 метра , что позволило увеличить размеры салона . по словам разработчиков , новинка не только заметно просторнее своего предшественника , но и вполне может претендовать на лидер\n",
            "[negative preds #4]\n",
            "  class pred:  Экономика\n",
            "  class label: Спорт\n",
            "  text: клаудио каниджа пропустит бенефис диего марадоны . аргентинскии футболист клаудио каниджиа ( claudio caniggia ) не сможет принять участие в бенефисе своего знаменитого соотечественника диего марадоны ( diego maradona ) , сообщает \" спорт - экспресс \" . нападающеи шотландскои команды \" глазго реинджерс \" , которая в этом розыгрыше кубка уефа вывела из борьбы сразу два россииских клуба \" анжи \" и \" динамо \" , недавно травмировал колено , и вынужден был отправиться на лечение в италию . \" очень сожалею , что пропущу матч , посвященныи моему другу диего , но я профессионал , и моему клубу предстоят очень важные игры . поэтому будет лучше , если я ск\n",
            "[negative preds #5]\n",
            "  class pred:  Экономика\n",
            "  class label: Культура\n",
            "  text: мид рф поблагодарил правительство швеицарии за возвращенные картины . мид россии приветствовал решение правительства швеицарии освободить от ареста картины пушкинского музея . об этом говорится в сообщении , размещенном на официальном саите мида . \" это решение , полностью соответствующее нормам международного права , продиктовано , как мы понимаем , стремлением не допустить ухудшения россииско - швеицарских межгосударственных отношении в ситуации , возникшеи вследствие поспешных и юридически небезупречных деиствии судебных властеи кантона вале , - указывается в сообщении . - в москве по достоинству оцени\n",
            "[negative preds #6]\n",
            "  class pred:  Экономика\n",
            "  class label: Спорт\n",
            "  text: после разговора с сычевым романцев попал в больницу . главныи тренер московского \" спартака \" олег романцев попал в больницу , сообщает саит \" спорт сегодня \" . нервныи срыв у бывшего наставника сборнои россии произошел после разговора с нападающим дмитрием сычевым , которыи в среду подал заявление об уходе из состава \" спартака \" . \" спартак \" больше не собирается цепляться за футболиста , которыи позволил себе совершить столь неуважительныи поступок по отношению к команде . для руководства клуба демарш форварда также стал шокирующеи новостью . все попытки наити общии язык не увенчались общим успехом \" , - говорится в\n",
            "[negative preds #7]\n",
            "  class pred:  Экономика\n",
            "  class label: Спорт\n",
            "  text: павел буре учит американских детеи русскому языку . звезда национальнои хоккеинои лиги павел буре провел урок русского языка у учеников однои из школ лос - анджелеса . учащиеся среднеи школы , находящеися в голливуде , побеседовали с \" русскои ракетои \" о россии , о русском языке и , конечно же , о хоккее . встреча буре и американских детеи состоялась в рамках программы \" мир хоккея \" . по сообщению ntvsport . ru , программу \" мир хоккея \" проводят в калифорнии руководители и хоккеисты команды florida panthers . в основу программы положен педагогическии принцип : учить , развлекая . основнои упор при этом делается на хоккеиную тематику , но дети такж\n",
            "[negative preds #8]\n",
            "  class pred:  Экономика\n",
            "  class label: Культура\n",
            "  text: под самарои открылся xxxi грушинскии фестиваль . в четверг 1 июля в самарскои области на мастрюковских озерах открылся xxxi фестиваль авторскои песни имени валерия грушина . по данным риа \" новости \" , в этом году в традиционнои творческои программе фестиваля произошли изменения - выступления исполнителеи авторскои песни проидут параллельно на нескольких площадках , каждая из которых станет профильнои . отдельно выступят \" звезды \" жанра - вадим егоров , леонид сергеев , братья вадим и валерии мищуки , галина хомчик , борис вахнюк , валентин вихорев , группа \" грассмеистер \" , андреи козловскии и другие . на других площадка\n",
            "[negative preds #9]\n",
            "  class pred:  Экономика\n",
            "  class label: Наука и техника\n",
            "  text: министр обороны словакии подал в отставку из - за катастрофы ан - 24 . министр обороны словакии юраи лишка ( juraj liska ) подал в отставку в связи с катастрофои военного самолета , в которои погибли 44 человека , сообщает риа новости . военно - транспортныи самолет ан - 24 ввс словакии потерпел катастрофу 19 января . он разбился на востоке венгрии около словацкои границы . ан - 24 выполнял реис из административного центра косово приштины в словацкии город кошице . в результате падения фюзеляж самолета полностью сгорел . в катастрофе погибли 44 человека , один выжил . причинои аварии в настоящее время считается ошибка пилота , которыи не смог точ\n"
          ],
          "name": "stdout"
        }
      ]
    },
    {
      "cell_type": "markdown",
      "metadata": {
        "id": "gvw0UIM1olZE"
      },
      "source": [
        "## Train size 1%"
      ]
    },
    {
      "cell_type": "code",
      "metadata": {
        "id": "rHcRNpAgoliV"
      },
      "source": [
        "sentences = [titles[i] + ' ' + pre_sentences[i] for i in range(len(labels))]\r\n",
        "train_sentences, test_sentences, train_gt, test_gt = train_test_split(sentences, labels, test_size=0.99)"
      ],
      "execution_count": 109,
      "outputs": []
    },
    {
      "cell_type": "code",
      "metadata": {
        "colab": {
          "base_uri": "https://localhost:8080/",
          "height": 545
        },
        "id": "NyvJ5d63olkx",
        "outputId": "92be3008-eb64-4b0d-85af-de9ff7ea1b33"
      },
      "source": [
        "hist_labels(train_gt, topic_labels, \"train\")\r\n",
        "hist_labels(test_gt, topic_labels, \"test\")"
      ],
      "execution_count": 110,
      "outputs": [
        {
          "output_type": "display_data",
          "data": {
            "image/png": "[encoded data removed]",
            "text/plain": [
              "<Figure size 432x288 with 1 Axes>"
            ]
          },
          "metadata": {
            "tags": [],
            "needs_background": "light"
          }
        },
        {
          "output_type": "display_data",
          "data": {
            "image/png": "[encoded data removed]",
            "text/plain": [
              "<Figure size 432x288 with 1 Axes>"
            ]
          },
          "metadata": {
            "tags": [],
            "needs_background": "light"
          }
        }
      ]
    },
    {
      "cell_type": "code",
      "metadata": {
        "id": "qOcoXtJWolne"
      },
      "source": [
        "from pytorch_transformers import BertTokenizer, BertConfig\r\n",
        "\r\n",
        "tokenizer = BertTokenizer.from_pretrained('bert-base-uncased', do_lower_case=True)\r\n",
        "tokenized_texts = [tokenizer.tokenize(sent) for sent in train_sentences]\r\n",
        "\r\n",
        "tokenized_texts = [['[CLS]'] + i[:510] + ['[SEP]'] if len(i) > 510 else ['[CLS]'] + i + ['[SEP]'] for i in tokenized_texts]"
      ],
      "execution_count": 111,
      "outputs": []
    },
    {
      "cell_type": "code",
      "metadata": {
        "id": "dny5XFiJolqN"
      },
      "source": [
        "input_ids = [tokenizer.convert_tokens_to_ids(x) for x in tokenized_texts]\r\n",
        "input_ids = pad_sequences(\r\n",
        "    input_ids,\r\n",
        "    maxlen=512,\r\n",
        "    dtype=\"long\",\r\n",
        "    truncating=\"post\",\r\n",
        "    padding=\"post\"\r\n",
        ")\r\n",
        "attention_masks = [[float(i>0) for i in seq] for seq in input_ids]\r\n",
        "\r\n",
        "train_inputs, validation_inputs, train_labels, validation_labels = train_test_split(\r\n",
        "    input_ids, \r\n",
        "    train_gt, \r\n",
        "    random_state=42,\r\n",
        "    test_size=0.1\r\n",
        ")\r\n",
        "\r\n",
        "train_masks, validation_masks, _, _ = train_test_split(\r\n",
        "    attention_masks,\r\n",
        "    input_ids,\r\n",
        "    random_state=42,\r\n",
        "    test_size=0.1\r\n",
        ")\r\n",
        "\r\n",
        "train_inputs = torch.tensor(train_inputs)\r\n",
        "train_labels = torch.tensor(train_labels)\r\n",
        "train_masks = torch.tensor(train_masks)\r\n",
        "\r\n",
        "validation_inputs = torch.tensor(validation_inputs)\r\n",
        "validation_labels = torch.tensor(validation_labels)\r\n",
        "validation_masks = torch.tensor(validation_masks)\r\n",
        "\r\n",
        "train_data = TensorDataset(train_inputs, train_masks, train_labels)\r\n",
        "train_dataloader = DataLoader(\r\n",
        "    train_data,\r\n",
        "    sampler=RandomSampler(train_data),\r\n",
        "    batch_size=12\r\n",
        ")\r\n",
        "\r\n",
        "validation_data = TensorDataset(validation_inputs, validation_masks, validation_labels)\r\n",
        "validation_dataloader = DataLoader(\r\n",
        "    validation_data,\r\n",
        "    sampler=SequentialSampler(validation_data),\r\n",
        "    batch_size=12\r\n",
        ")"
      ],
      "execution_count": 112,
      "outputs": []
    },
    {
      "cell_type": "code",
      "metadata": {
        "id": "Qq26mRxqolva"
      },
      "source": [
        "from pytorch_transformers import AdamW, BertForSequenceClassification\r\n",
        "\r\n",
        "model = BertForSequenceClassification.from_pretrained(\"bert-base-uncased\", num_labels=len(topic_labels))\r\n",
        "model.cuda()\r\n",
        "\r\n",
        "param_optimizer = list(model.named_parameters())\r\n",
        "no_decay = ['bias', 'gamma', 'beta']\r\n",
        "optimizer_grouped_parameters = [\r\n",
        "    {'params': [p for n, p in param_optimizer if not any(nd in n for nd in no_decay)],\r\n",
        "     'weight_decay_rate': 0.01},\r\n",
        "    {'params': [p for n, p in param_optimizer if any(nd in n for nd in no_decay)],\r\n",
        "     'weight_decay_rate': 0.0}\r\n",
        "]\r\n",
        "\r\n",
        "optimizer = AdamW(optimizer_grouped_parameters, lr=2e-5)"
      ],
      "execution_count": 113,
      "outputs": []
    },
    {
      "cell_type": "code",
      "metadata": {
        "colab": {
          "base_uri": "https://localhost:8080/",
          "height": 312
        },
        "id": "kChH2rFdrlfQ",
        "outputId": "b2b720d7-cf5d-4fce-acb6-388c27ebbc21"
      },
      "source": [
        "from IPython.display import clear_output\r\n",
        "\r\n",
        "train_loss_set = []\r\n",
        "train_loss = 0\r\n",
        "\r\n",
        "model.train()\r\n",
        "for step, batch in enumerate(train_dataloader):\r\n",
        "    batch = tuple(t.to(device) for t in batch)\r\n",
        "    b_input_ids, b_input_mask, b_labels = batch\r\n",
        "    \r\n",
        "    optimizer.zero_grad()\r\n",
        "    loss = model(b_input_ids, token_type_ids=None, attention_mask=b_input_mask, labels=b_labels)\r\n",
        "    train_loss_set.append(loss[0].item())  \r\n",
        "    loss[0].backward()\r\n",
        "    optimizer.step()\r\n",
        "\r\n",
        "    train_loss += loss[0].item()\r\n",
        "    \r\n",
        "    clear_output(True)\r\n",
        "    plt.plot(train_loss_set)\r\n",
        "    plt.title(\"Training loss\")\r\n",
        "    plt.xlabel(\"Batch\")\r\n",
        "    plt.ylabel(\"Loss\")\r\n",
        "    plt.show()\r\n",
        "print(\"Loss на обучающей выборке: {0:.5f}\".format(train_loss / len(train_dataloader)))"
      ],
      "execution_count": 114,
      "outputs": [
        {
          "output_type": "display_data",
          "data": {
            "image/png": "[encoded data removed]",
            "text/plain": [
              "<Figure size 432x288 with 1 Axes>"
            ]
          },
          "metadata": {
            "tags": [],
            "needs_background": "light"
          }
        },
        {
          "output_type": "stream",
          "text": [
            "Loss на обучающей выборке: 1.40721\n"
          ],
          "name": "stdout"
        }
      ]
    },
    {
      "cell_type": "markdown",
      "metadata": {
        "id": "viy-26UNroUD"
      },
      "source": [
        "### valid result"
      ]
    },
    {
      "cell_type": "code",
      "metadata": {
        "colab": {
          "base_uri": "https://localhost:8080/"
        },
        "id": "3f2fblalrliY",
        "outputId": "6a1b8a31-5d02-4988-d64c-1be712a16c2a"
      },
      "source": [
        "model.eval()\r\n",
        "valid_preds, valid_labels = [], []\r\n",
        "for batch in validation_dataloader: \r\n",
        "    batch = tuple(t.to(device) for t in batch)\r\n",
        "    \r\n",
        "    b_input_ids, b_input_mask, b_labels = batch\r\n",
        "    with torch.no_grad():\r\n",
        "        logits = model(b_input_ids, token_type_ids=None, attention_mask=b_input_mask)\r\n",
        "\r\n",
        "    logits = logits[0].detach().cpu().numpy()\r\n",
        "    label_ids = b_labels.to('cpu').numpy()\r\n",
        "    \r\n",
        "    batch_preds = np.argmax(logits, axis=1)\r\n",
        "    batch_labels = np.concatenate(label_ids)     \r\n",
        "    valid_preds.extend(batch_preds)\r\n",
        "    valid_labels.extend(batch_labels)\r\n",
        "\r\n",
        "print(\"Процент правильных предсказаний на валидационной выборке: {0:.2f}%\".format(\r\n",
        "    accuracy_score(valid_labels, valid_preds) * 100\r\n",
        "))"
      ],
      "execution_count": 115,
      "outputs": [
        {
          "output_type": "stream",
          "text": [
            "Процент правильных предсказаний на валидационной выборке: 22.50%\n"
          ],
          "name": "stdout"
        }
      ]
    },
    {
      "cell_type": "code",
      "metadata": {
        "id": "RXjGYo5Krlk5"
      },
      "source": [
        "tokenized_texts = [tokenizer.tokenize(sent) for sent in test_sentences]\r\n",
        "tokenized_texts = [['[CLS]'] + i[:510] + ['[SEP]'] if len(i) > 510 else ['[CLS]'] + i + ['[SEP]'] for i in tokenized_texts]\r\n",
        "\r\n",
        "input_ids = [tokenizer.convert_tokens_to_ids(x) for x in tokenized_texts]\r\n",
        "input_ids = pad_sequences(\r\n",
        "    input_ids,\r\n",
        "    maxlen=512,\r\n",
        "    dtype=\"long\",\r\n",
        "    truncating=\"post\",\r\n",
        "    padding=\"post\"\r\n",
        ")\r\n",
        "attention_masks = [[float(i>0) for i in seq] for seq in input_ids]\r\n",
        "\r\n",
        "prediction_inputs = torch.tensor(input_ids)\r\n",
        "prediction_masks = torch.tensor(attention_masks)\r\n",
        "prediction_labels = torch.tensor(test_gt)\r\n",
        "\r\n",
        "prediction_data = TensorDataset(\r\n",
        "    prediction_inputs,\r\n",
        "    prediction_masks,\r\n",
        "    prediction_labels\r\n",
        ")\r\n",
        "\r\n",
        "prediction_dataloader = DataLoader(\r\n",
        "    prediction_data, \r\n",
        "    sampler=SequentialSampler(prediction_data),\r\n",
        "    batch_size=10\r\n",
        ")"
      ],
      "execution_count": 116,
      "outputs": []
    },
    {
      "cell_type": "code",
      "metadata": {
        "id": "0ZirYFMSrloB"
      },
      "source": [
        "model.eval()\r\n",
        "test_preds, test_labels = [], []\r\n",
        "\r\n",
        "for batch in prediction_dataloader:\r\n",
        "    batch = tuple(t.to(device) for t in batch)\r\n",
        "    \r\n",
        "    b_input_ids, b_input_mask, b_labels = batch\r\n",
        "    with torch.no_grad():\r\n",
        "        logits = model(b_input_ids, token_type_ids=None, attention_mask=b_input_mask)\r\n",
        "\r\n",
        "    logits = logits[0].detach().cpu().numpy()\r\n",
        "    label_ids = b_labels.to('cpu').numpy()\r\n",
        "\r\n",
        "    batch_preds = np.argmax(logits, axis=1)\r\n",
        "    batch_labels = np.concatenate(label_ids)  \r\n",
        "    test_preds.extend(batch_preds)\r\n",
        "    test_labels.extend(batch_labels)"
      ],
      "execution_count": 117,
      "outputs": []
    },
    {
      "cell_type": "markdown",
      "metadata": {
        "id": "TK3dc_egrwqO"
      },
      "source": [
        "### test result"
      ]
    },
    {
      "cell_type": "code",
      "metadata": {
        "colab": {
          "base_uri": "https://localhost:8080/"
        },
        "id": "CKMHMcBHrlzt",
        "outputId": "dc5a6d81-bff4-488d-d24e-1584e85d565a"
      },
      "source": [
        "acc_score = accuracy_score(test_labels, test_preds)\r\n",
        "print('Процент правильных предсказаний на отложенной выборке составил: {0:.2f}%'.format(\r\n",
        "    acc_score*100\r\n",
        "))"
      ],
      "execution_count": 118,
      "outputs": [
        {
          "output_type": "stream",
          "text": [
            "Процент правильных предсказаний на отложенной выборке составил: 24.98%\n"
          ],
          "name": "stdout"
        }
      ]
    },
    {
      "cell_type": "code",
      "metadata": {
        "colab": {
          "base_uri": "https://localhost:8080/"
        },
        "id": "s5uN_Jibry1p",
        "outputId": "08d6458b-9526-4f17-cd8d-151ea35342ea"
      },
      "source": [
        "print('Неправильных предсказаний: {0}/{1}'.format(\r\n",
        "    (np.array(test_labels) != np.array(test_preds)).sum(),\r\n",
        "    len(test_labels)\r\n",
        "))"
      ],
      "execution_count": 119,
      "outputs": [
        {
          "output_type": "stream",
          "text": [
            "Неправильных предсказаний: 29708/39600\n"
          ],
          "name": "stdout"
        }
      ]
    },
    {
      "cell_type": "code",
      "metadata": {
        "colab": {
          "base_uri": "https://localhost:8080/"
        },
        "id": "bWzHVW-Fry6S",
        "outputId": "ee193dfd-a514-4434-b614-e3a135a428f5"
      },
      "source": [
        "print_predict_result(test_labels, test_preds, tokenizer, prediction_data, topic_labels)"
      ],
      "execution_count": 120,
      "outputs": [
        {
          "output_type": "stream",
          "text": [
            "[positive preds #0]\n",
            "  class: Культура\n",
            "  text: в прокат выходит \" взрослыи \" аргентинскии мультик про марсианина . 19 августа компания \" кино без границ \" выпускает в россиискии прокат полнометражныи аргентинскии мультфильм \" меркано - марсианин \" ( mercano , el marciano ) . главныи герои мультфильма летит на землю , чтобы отомстить за свою собачку , погибшую в столкновении с американским космическим кораблем . его \" тарелка \" терпит крушение в раионе аргентинскои столицы буэнос - аиреса . тоскующии по дому меркано создает виртуальныи марс www . mars . com , которому посвящает весь свои досуг 9 - летнии мальчик хулиан . его отец , возглавляющии огромную корпорацию , узнав о ресурсе , похищает меркано , ч\n",
            "[positive preds #1]\n",
            "  class: Культура\n",
            "  text: в петербурге выставлены на публику любопытные документы из госархивов . в стенах архивного управления санкт - петербурга открылась выставка необычных и редких документов xviii - xix веков из петербургских госархивов . самые любопытные из них , передает ntvru . com , - те , что сообщают малоизвестные подробности жизни всем известных исторических личностеи . например , из подлинного \" аттестата о службе \" гоголя следует , что автор \" мертвых душ \" сам владел десятками крепостных , а аттестат мандельштама об окончании тенишевского училища свидетельствует , что в отличниках по литературе будущии великии поэт отнюдь не ходил - п\n",
            "[positive preds #2]\n",
            "  class: Культура\n",
            "  text: на бродвее ставят мюзикл по песням джона леннона . на бродвее летом следующего года будет представлен мюзикл \" леннон \" , посвященныи 25 - ои годовщине убииства основателя группы \" beatles \" , сообщает reuters . в музыкальную программу спектакля воидут песни леннона пост - битловского периода , среди которых \" imagine \" , \" instant karma \" , \" give peace a chance \" , \" ( just like ) starting over \" , \" whatever gets you through the night \" и еще около 25 композиции . постановка будет рассказывать о самом певце , а также о его эпохе . автор сценария и постановщик мюзикла - актер и режиссер дон скардино ( don scardino ) . веснои , перед премьерои в нью - иорке , постановку покажут в театрах \" орфеи \" в сан - франциско и театре \" колониал \" в бостоне . джон ленн\n",
            "[positive preds #3]\n",
            "  class: Культура\n",
            "  text: \" корабельные новости \" выходят на экраны московских кинотеатров . 28 февраля начинается показ лирическои драмы многократного \" оскаровского \" номинанта лассе хальстрема \" корабельные новости \" ( the shipping news ) . фильм снят по знаменитому одноименному роману американскои писательницы энни прулкс , получившему множество литературных наград , среди которых пулитцеровская премия , национальная книжная премия и международная премия газеты \" irish times \" . главные роли в картине исполнили кевин спеиси ( kevin spacey ) , джулианна мур ( julianne moore ) , джуди денч ( judi dench ) и кеит бланшетт ( cate blanchett ) . в центре картины история классического неудачника по фамилии куоил ( спеиси )\n",
            "[positive preds #4]\n",
            "  class: Культура\n",
            "  text: режиссерскии дебют кевина спеиси не впечатлил критиков . лондонские критики прохладно встретили режиссерскии дебют известного голливудского актера кевина спеиси , которыи год назад возглавил театр old vic . как сообщает bbc news , для своеи первои работы спеиси выбрал пьесу голландского драматурга марии гус под названием \" клоака \" , в которои рассказывается о запутанных отношениях четырех друзеи среднего возраста . деиствие пьесы происходит в амстердамскои квартире , принадлежащеи мелкому чиновнику питеру , которыи случаиным образом становится обладателем восьми картин неизвестного художника . но когда его работы н\n",
            "[positive preds #5]\n",
            "  class: Культура\n",
            "  text: мексиканскии режиссер хочет сделать \" и гарри поттера тоже \" . автор эротического роуд - муви \" и твою маму тоже \" ( y tu mama tambien ) альфонсо куарон хочет снять третью серию приключении гарри поттера , сообщает саит bbc news со ссылкои на журнал variety . первую серию \" гарри поттер и философскии камень \" снял признанныи мастер семеиного кино крис коламбус . он же в настоящее время работает над вторым фильмом , которыи выидет на экраны в ноябре 2002 года . однако , как передает вbc news , на этом коламбус решил завершить работу над произведениями джоан роулинг . режиссер , более года живущии и работающии в великобритании , заявил , что намерен вернуться в\n",
            "[positive preds #6]\n",
            "  class: Культура\n",
            "  text: \" танцующая в темноте \" выходит в россиискии прокат , а ларс фон триер проводит чат с рунетом . в четверг 28 сентября , в день официальнои россиискои премьеры фильма - каннского призера \" танцующая в темноте \" , ее создатель , датскии режиссер ларс фон триер согласился пообщаться в чате с россиискими зрителями . это первыи опыт подобного рода для знаменитого режиссера , известного не только своим бескомпромиссным подходом к кино , но и замкнутым характером . первоначально предполагалось , что компьютеры будут установлены прямо в московском кинотеатре \" ударник \" , где и состоится в 19 : 00 россииская премьера , но потом россииск\n",
            "[positive preds #7]\n",
            "  class: Культура\n",
            "  text: сборы \" звездных воин \" побили все рекорды . новая картина джорджа лукаса \" звездные воины : эпизод iii - месть ситхов \" за первыи день проката в сша собрала более 50 миллионов долларов . этого не удавалось ранее ни одному фильму в истории кино , передает агентство ap . картина идет сразу более чем в трех тысячах кинотеатров по всеи стране . билеты на первые показы \" звездных воин \" были распроданы еще до премьеры , а очереди на сеансы \" мести ситхов \" в кассах кинотеатров стоят до сих пор . \" пятьдесят миллионов - это неплохое начало перед наступающим уик - эндом , - сказал журналистам пол дергарабедьян ( paul dergarabedian ) , президент \" exhibitor relations \" , стареишеи а\n",
            "[positive preds #8]\n",
            "  class: Культура\n",
            "  text: \" национальная безопасность \" вышла в россиискии прокат . в сетях кинотеатров \" империя кино \" и \" каро фильм \" начался прокат американского комедииного боевика \" национальная безопасность \" ( national security ) . фильм рассказывает о двух типичных представителях населения сша - придурковатом афро - американце , каждую секунду орущем о притеснении черных братьев , и туповатом белом , которому остается только скрежетать зубами , пучить глаза и топать ногами , поскольку ничего другого сделать с горлопаном он не может . правда , выяснение отношении не единственное занятие веселои парочки - попутно они обезвреживают шаику бандитов и раскрываю\n",
            "[positive preds #9]\n",
            "  class: Культура\n",
            "  text: \" миссию \" тома круза выполнят во всех известных форматах . блокбастер \" миссия невыполнима 3 \" станет первым фильмом в истории , которыи будет выпущен на дисках всех существующих форматов . как сообщает usa today , 30 октября в продаже появится коллекционное издание фильма на dvd ( 25 долларов ) , дисках blu - ray ( 30 долларов ) и дисках hd dvd ( 30 долларов ) . двухдисковые издания будут содержать не попавшие в прокатную версию сцены , комментарии создателеи и интервью актеров . как заявил режиссер джеи адамс , он вдохновлен тем , что \" у зрителеи появится шанс увидеть \" миссию \" в максимально возможном на сегодняшнии день качестве \" . напомним , что данныи\n",
            "\n",
            "[negative preds #0]\n",
            "  class pred:  Культура\n",
            "  class label: Спорт\n",
            "  text: главныи тренер \" реала \" сорвал съемки бекхэма в кино . главныи тренер мадридского \" реала \" вандерлеи люшембургу запретил дэвиду бекхэму , зинедину зидану и раулю гонсалесу поездку на съемки в голливудском кинофильме \" гол ! \" . по словам бразильского наставника , капитану сборнои англии прежде всего стоит сосредоточиться на футболе , а не на карьере в кино . на прошлои неделе бекхэм и его напарники по \" реалу \" должны были отправиться на студию pinewood , однако люшембургу менее чем за 72 часа до начала съемок принял решение запретить поездку . источники в окружении бекхэма сообщают , что англиискии полузащитник был \" опус\n",
            "[negative preds #1]\n",
            "  class pred:  Культура\n",
            "  class label: Спорт\n",
            "  text: центральныи матч 29 - го тура чемпионата россии перенесен на день . центральныи матч 29 - го тура чемпионата россии по футболу между московскими клубам \" спартак \" и цска состоится 9 ноября , на день раньше намеченного срока , сообщает саит \" спорт - экспресса \" . решение о переносе этои встречи было принято в четверг на внеочередном заседании россиискои профессиональнои футбольнои лиги , на которои присутствовали 13 из 16 президентов футбольных команд премьер - лиги . как сообщил спортивнои директор рпфл борис бобров , решение было принято по общему согласию заинтересованных сторон , и таким образом матч цска - \" спартак \" начне\n",
            "[negative preds #2]\n",
            "  class pred:  Культура\n",
            "  class label: Наука и техника\n",
            "  text: границу будут охранять огромные паукоподобные роботы . компания gas powered games продемонстрировала новые скриншоты стратегии supreme commander , сообщает bit - tech . net . в игре под командование виртуального полководца поступит гигантскии паукообразныи танк с лазернои пушкои , а все битвы будут проходить на детально проработанных локациях . деиствия supreme commander развернутся на выжженных пустынях , в лесах и заснеженных пустошах . многие игроки воспринимают новую стратегию как продолжение знаменитои total annihilation , тем более , что в разработке supreme commander принимает участие крис тэилор ( chris taylor ) - дизаинер total annihilation . релиз supreme commander назначен на первыи квартал 2007 года .\n",
            "[negative preds #3]\n",
            "  class pred:  Культура\n",
            "  class label: Наука и техника\n",
            "  text: nasa объявило , кто следующим полетит на мкс . национальное агентство по аэронавтике и космическим исследованиям сша объявило сегодня состав 12 - и экспедиции на мкс . командиром экипажа станет американскии астронавт уильям макартур , а бортинженером - россиянин валерии токарев . они отправятся в космос . они отправятся в космос в конце этого года на корабле союз тма - 7 . кроме того , мкс впервые посетит с долговременнои миссиеи космонавт европеиского космического агентства . предположительно , томас реитер будет доставлен на станцию шаттлом atlantis в сентябре 2005 года , если только полеты \" челноков \" будут возобновлены . с этим событ\n",
            "[negative preds #4]\n",
            "  class pred:  Культура\n",
            "  class label: Экономика\n",
            "  text: reiffeisen zentralbank кредитует экспорт россиискои нефти . австриискии reiffeisen zentralbank выступил инициатором выделения группои западных банков кредита в размере 80 миллионов долларов на финансирование экспорта россиискои нефти . по данным рбк , кредит выделяется сроком на один год под гарантии встречных поставок нефти . его получат тюменская нефтяная компания ( тнк ) и компания crown trade and finance ltd . в состав консорциума инвесторов входят около десяти банков австрии , германии , и швеицарии . в числе кредиторов также россиискии национальныи коммерческии банк . первоначальная сумма данного нефтяного заима была установлена в размере 40 миллионов долларов , однако затем увеличена вдво\n",
            "[negative preds #5]\n",
            "  class pred:  Культура\n",
            "  class label: Наука и техника\n",
            "  text: соединение серебра поставило рекорд по расширению при охлаждении и нагревании . группа британских ученых обнаружила соединение с самым большим коэффициентом расширения при охлаждении . это же соединение ставит рекорд по расширению при нагревании , сообщают исследователи в своеи статье в science . большинство веществ расширяется при нагревании и сжимается при охлаждении , однако есть исключения . зависимость изменения линеиного размера тела от температуры описывается коэффициентом теплового расширения ( ктр ) : ( l1 - l0 ) / ( l0 ) x ( t1 - t0 ) , где t0 и l0 - начальные размер и температура , а t1 и l1 - конечные . таким образом , кт\n",
            "[negative preds #6]\n",
            "  class pred:  Культура\n",
            "  class label: Экономика\n",
            "  text: ебрр будет выделять россии миллиард долларов ежегодно . в предстоящие два года можно ожидать увеличения европеиским банком реконструкции и развития ( ебрр ) объемов инвестиции в россию до 1 миллиарда долларов ежегодно , сообщает риа \" новости \" . об этом сообщил министр экономического развития и торговли россии герман греф , представлявшии россию на собрании совета управляющих ебрр в лондоне . кредиты банка , как подчеркнул министр , планируется направить в те отрасли экономики , которые нуждаются в них в первую очередь , а именно - в развитие инфраструктуры , для проведения структурнои перестроики экономики , в авиа - и судо\n",
            "[negative preds #7]\n",
            "  class pred:  Культура\n",
            "  class label: Наука и техника\n",
            "  text: корабль таиконавтов вернулся на заданную орбиту . китаискии космическии корабль \" шэньчжоу vi \" в пятницу утром вернулся на заданную орбиту , сообшает информационное агентство \" синьхуа \" . операция по возвращению корабля на запланированную орбиту была проведена в 5 : 56 пятницы по пекинскому времени ( 1 : 56 по московскому ) во время 30 - го витка вокруг земли . как сообщили представители китаиского космического агентства , операция заняла несколько секунд . \" шэньчжоу vi \" отклонился от заранее намеченнои траектории полета в ночь на 13 октября . изменение орбиты , подчеркнули в китаиском космическом агентстве , не представля\n",
            "[negative preds #8]\n",
            "  class pred:  Культура\n",
            "  class label: Спорт\n",
            "  text: итальянская горнолыжница завоевала золотую медаль в супергиганте . итальянка даниэла чеккарелли ( daniela ceccarelli ) стала обладательница золотои олимпиискои медали в супергигантском слаломе , сообщает \" спорт - экспресс \" . второе место в этом виде горнолыжнои программы заняла яница костелич ( janica kostelic ) из хорватии , а замкнула троику призеров соотечественница чеккарелли карен путцер ( karen putzer ) . лучшая из россииских спортсменок варвара зеленская , проиграв лидеру около трех секунд , показала 26 - и результат , а американка каролин лалив ( caroline lalive ) не смогла закончить свою очередную гонку супергиганта . одна из главных претенденток на по\n",
            "[negative preds #9]\n",
            "  class pred:  Культура\n",
            "  class label: Наука и техника\n",
            "  text: в геноме мухи нашли почти полныи геном бактерии - паразита . исследуя геном мухи - дрозофилы ( drosophila ananassae ) , ученые нашли в нем почти полную копию генома бактерии вольбахии ( wolbachia ) , паразитирующеи в организме мухи , сообщается в пресс - релизе рочестерского университета сша . способность бактерии к так называемому горизонтальному переносу генов - обмену генами не между предком и потомком , а между неродственными особями разных видов - давно известна , однако считалось , что такои обмен генами между бактериями и многоклеточными организмами происходит краине редко , случаино и несистематично . вольбахия является одн\n"
          ],
          "name": "stdout"
        }
      ]
    },
    {
      "cell_type": "markdown",
      "metadata": {
        "id": "mOOp_3HoEfIY"
      },
      "source": [
        "## End"
      ]
    }
  ]
}