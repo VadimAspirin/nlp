{
  "nbformat": 4,
  "nbformat_minor": 0,
  "metadata": {
    "colab": {
      "name": "task2.ipynb",
      "provenance": [],
      "collapsed_sections": []
    },
    "kernelspec": {
      "name": "python3",
      "display_name": "Python 3"
    },
    "accelerator": "GPU"
  },
  "cells": [
    {
      "cell_type": "code",
      "metadata": {
        "id": "e4QkBvxgiP08",
        "colab_type": "code",
        "colab": {}
      },
      "source": [
        "!git clone https://github.com/Samsung-IT-Academy/stepik-dl-nlp.git && pip install -r stepik-dl-nlp/requirements.txt\n",
        "import sys; sys.path.append('./stepik-dl-nlp')"
      ],
      "execution_count": null,
      "outputs": []
    },
    {
      "cell_type": "code",
      "metadata": {
        "id": "zHJqbNeeiY5D",
        "colab_type": "code",
        "colab": {}
      },
      "source": [
        "%load_ext autoreload\n",
        "%autoreload 2\n",
        "\n",
        "import random\n",
        "import pandas as pd\n",
        "import numpy as np\n",
        "\n",
        "import matplotlib.pyplot as plt\n",
        "%matplotlib inline\n",
        "\n",
        "import torch\n",
        "from torch import nn\n",
        "from torch.nn import functional as F\n",
        "\n",
        "import dlnlputils\n",
        "from dlnlputils.data import tokenize_corpus, build_vocabulary, texts_to_token_ids, \\\n",
        "    PaddedSequenceDataset, Embeddings\n",
        "from dlnlputils.pipeline import train_eval_loop, predict_with_model, init_random_seed\n",
        "from dlnlputils.visualization import plot_vectors\n",
        "\n",
        "init_random_seed()"
      ],
      "execution_count": 3,
      "outputs": []
    },
    {
      "cell_type": "markdown",
      "metadata": {
        "id": "uRE2IUyQ5pRj",
        "colab_type": "text"
      },
      "source": [
        "# Word2Vec "
      ]
    },
    {
      "cell_type": "markdown",
      "metadata": {
        "id": "vmgz3AbDjRGH",
        "colab_type": "text"
      },
      "source": [
        "## def func"
      ]
    },
    {
      "cell_type": "code",
      "metadata": {
        "id": "YzxPY0GTjHcK",
        "colab_type": "code",
        "colab": {}
      },
      "source": [
        "class SkipGramNegativeSamplingTrainer(nn.Module):\n",
        "    def __init__(self, vocab_size, emb_size, sentence_len, radius=5, negative_samples_n=5):\n",
        "        super().__init__()\n",
        "        self.vocab_size = vocab_size\n",
        "        self.negative_samples_n = negative_samples_n\n",
        "\n",
        "        self.center_emb = nn.Embedding(self.vocab_size, emb_size, padding_idx=0)\n",
        "        self.center_emb.weight.data.uniform_(-1.0 / emb_size, 1.0 / emb_size)\n",
        "        self.center_emb.weight.data[0] = 0\n",
        "\n",
        "        self.context_emb = nn.Embedding(self.vocab_size, emb_size, padding_idx=0)        \n",
        "        self.context_emb.weight.data.uniform_(-1.0 / emb_size, 1.0 / emb_size)\n",
        "        self.context_emb.weight.data[0] = 0\n",
        "\n",
        "        self.positive_sim_mask = make_diag_mask(sentence_len, radius)\n",
        "    \n",
        "    def forward(self, sentences):\n",
        "        \"\"\"sentences - Batch x MaxSentLength - идентификаторы токенов\"\"\"\n",
        "        batch_size = sentences.shape[0]\n",
        "        center_embeddings = self.center_emb(sentences)  # Batch x MaxSentLength x EmbSize\n",
        "\n",
        "        # оценить сходство с настоящими соседними словами\n",
        "        positive_context_embs = self.context_emb(sentences).permute(0, 2, 1)  # Batch x EmbSize x MaxSentLength\n",
        "        positive_sims = torch.bmm(center_embeddings, positive_context_embs)  # Batch x MaxSentLength x MaxSentLength\n",
        "        positive_probs = torch.sigmoid(positive_sims)\n",
        "\n",
        "        # увеличить оценку вероятности встретить эти пары слов вместе\n",
        "        positive_mask = self.positive_sim_mask.to(positive_sims.device)\n",
        "        positive_loss = F.binary_cross_entropy(positive_probs * positive_mask,\n",
        "                                               positive_mask.expand_as(positive_probs))\n",
        "\n",
        "        # выбрать случайные \"отрицательные\" слова\n",
        "        negative_words = torch.randint(1, self.vocab_size,\n",
        "                                       size=(batch_size, self.negative_samples_n),\n",
        "                                       device=sentences.device)  # Batch x NegSamplesN\n",
        "        negative_context_embs = self.context_emb(negative_words).permute(0, 2, 1)  # Batch x EmbSize x NegSamplesN\n",
        "        negative_sims = torch.bmm(center_embeddings, negative_context_embs)  # Batch x MaxSentLength x NegSamplesN\n",
        "        \n",
        "        # уменьшить оценку вероятность встретить эти пары слов вместе\n",
        "        negative_loss = F.binary_cross_entropy_with_logits(negative_sims,\n",
        "                                                           negative_sims.new_zeros(negative_sims.shape))\n",
        "\n",
        "        return positive_loss + negative_loss\n",
        "\n",
        "\n",
        "def no_loss(pred, target):\n",
        "    \"\"\"Фиктивная функция потерь - когда модель сама считает функцию потерь\"\"\"\n",
        "    return pred"
      ],
      "execution_count": 234,
      "outputs": []
    },
    {
      "cell_type": "code",
      "metadata": {
        "id": "lMLFA0h0jcAc",
        "colab_type": "code",
        "colab": {}
      },
      "source": [
        "def make_diag_mask(size, radius):\n",
        "    \"\"\"Квадратная матрица размера Size x Size с двумя полосами ширины radius вдоль главной диагонали\"\"\"\n",
        "    idxs = torch.arange(size)\n",
        "    abs_idx_diff = (idxs.unsqueeze(0) - idxs.unsqueeze(1)).abs()\n",
        "    mask = ((abs_idx_diff <= radius) & (abs_idx_diff > 0)).float()\n",
        "    return mask"
      ],
      "execution_count": 235,
      "outputs": []
    },
    {
      "cell_type": "markdown",
      "metadata": {
        "id": "2IK0QuJbj3QG",
        "colab_type": "text"
      },
      "source": [
        "## data processing"
      ]
    },
    {
      "cell_type": "code",
      "metadata": {
        "id": "eVCoR_CmiobU",
        "colab_type": "code",
        "colab": {
          "base_uri": "https://localhost:8080/",
          "height": 238
        },
        "outputId": "db94950e-d0e8-4da5-9348-25823545323f"
      },
      "source": [
        "# Если Вы запускаете ноутбук на colab или kaggle, добавьте в начало пути ./stepik-dl-nlp\n",
        "full_dataset = list(pd.read_csv('./stepik-dl-nlp/datasets/nyt-ingredients-snapshot-2015.csv')['input'].dropna())\n",
        "random.shuffle(full_dataset)\n",
        "\n",
        "TRAIN_VAL_SPLIT = int(len(full_dataset) * 0.7)\n",
        "train_source = full_dataset[:TRAIN_VAL_SPLIT]\n",
        "test_source = full_dataset[TRAIN_VAL_SPLIT:]\n",
        "print(\"Обучающая выборка\", len(train_source))\n",
        "print(\"Тестовая выборка\", len(test_source))\n",
        "print()\n",
        "print('\\n'.join(train_source[:10]))"
      ],
      "execution_count": 236,
      "outputs": [
        {
          "output_type": "stream",
          "text": [
            "Обучающая выборка 125344\n",
            "Тестовая выборка 53719\n",
            "\n",
            "1/2 teaspoon salt, plus more to taste\n",
            "1 tablespoon kosher salt\n",
            "1 quart duck broth\n",
            "2 cups leftover mashed potatoes (from about 2 pounds potatoes), cooled\n",
            "Salt to taste\n",
            "2 tablespoons cracked black pepper\n",
            "1 tablespoon honey\n",
            "3 to 4 tablespoons flour\n",
            "3 mint leaves (or another soft herb, or additional basil)\n",
            "1/4 pound golden oak mushrooms\n"
          ],
          "name": "stdout"
        }
      ]
    },
    {
      "cell_type": "code",
      "metadata": {
        "id": "WbqSdN6QioeQ",
        "colab_type": "code",
        "colab": {
          "base_uri": "https://localhost:8080/",
          "height": 187
        },
        "outputId": "2aa5fc27-50b7-43c4-98ef-bb210ebb95e8"
      },
      "source": [
        "# токенизируем\n",
        "train_tokenized = tokenize_corpus(train_source)\n",
        "test_tokenized = tokenize_corpus(test_source)\n",
        "print('\\n'.join(' '.join(sent) for sent in train_tokenized[:10]))"
      ],
      "execution_count": 237,
      "outputs": [
        {
          "output_type": "stream",
          "text": [
            "teaspoon salt plus more taste\n",
            "tablespoon kosher salt\n",
            "quart duck broth\n",
            "cups leftover mashed potatoes from about pounds potatoes cooled\n",
            "salt taste\n",
            "tablespoons cracked black pepper\n",
            "tablespoon honey\n",
            "tablespoons flour\n",
            "mint leaves another soft herb additional basil\n",
            "pound golden mushrooms\n"
          ],
          "name": "stdout"
        }
      ]
    },
    {
      "cell_type": "code",
      "metadata": {
        "id": "jXl9kJQBiojR",
        "colab_type": "code",
        "colab": {
          "base_uri": "https://localhost:8080/",
          "height": 71
        },
        "outputId": "cb640831-dbe8-4234-a832-0e25d0ae6d86"
      },
      "source": [
        "# строим словарь\n",
        "vocabulary, word_doc_freq = build_vocabulary(train_tokenized, max_doc_freq=0.9, min_count=5, pad_word='<PAD>')\n",
        "print(\"Размер словаря\", len(vocabulary))\n",
        "print(list(vocabulary.items())[:10])"
      ],
      "execution_count": 238,
      "outputs": [
        {
          "output_type": "stream",
          "text": [
            "Размер словаря 2263\n",
            "[('<PAD>', 0), ('tablespoons', 1), ('teaspoon', 2), ('chopped', 3), ('salt', 4), ('pepper', 5), ('cups', 6), ('ground', 7), ('tablespoon', 8), ('fresh', 9)]\n"
          ],
          "name": "stdout"
        }
      ]
    },
    {
      "cell_type": "code",
      "metadata": {
        "id": "9sfty8efiomV",
        "colab_type": "code",
        "colab": {
          "base_uri": "https://localhost:8080/",
          "height": 187
        },
        "outputId": "8836b45f-06d3-4fb4-b831-c7ad4b6423e3"
      },
      "source": [
        "# отображаем в номера токенов\n",
        "train_token_ids = texts_to_token_ids(train_tokenized, vocabulary)\n",
        "test_token_ids = texts_to_token_ids(test_tokenized, vocabulary)\n",
        "\n",
        "print('\\n'.join(' '.join(str(t) for t in sent)\n",
        "                for sent in train_token_ids[:10]))"
      ],
      "execution_count": 239,
      "outputs": [
        {
          "output_type": "stream",
          "text": [
            "2 4 45 47 10\n",
            "8 57 4\n",
            "314 348 100\n",
            "6 722 477 93 139 24 25 93 508\n",
            "4 10\n",
            "1 395 22 5\n",
            "8 173\n",
            "1 38\n",
            "128 33 782 319 679 285 87\n",
            "12 367 113\n"
          ],
          "name": "stdout"
        }
      ]
    },
    {
      "cell_type": "code",
      "metadata": {
        "id": "wQ-YBzNgiook",
        "colab_type": "code",
        "colab": {
          "base_uri": "https://localhost:8080/",
          "height": 281
        },
        "outputId": "c360f66b-65ca-41e5-db00-74fa8942f59b"
      },
      "source": [
        "plt.hist([len(s) for s in train_token_ids], bins=20);\n",
        "plt.title('Гистограмма длин предложений');"
      ],
      "execution_count": 240,
      "outputs": [
        {
          "output_type": "display_data",
          "data": {
            "image/png": "[encoded data removed]",
            "text/plain": [
              "<Figure size 432x288 with 1 Axes>"
            ]
          },
          "metadata": {
            "tags": [],
            "needs_background": "light"
          }
        }
      ]
    },
    {
      "cell_type": "code",
      "metadata": {
        "id": "Fp3GI22tjG-Y",
        "colab_type": "code",
        "colab": {
          "base_uri": "https://localhost:8080/",
          "height": 51
        },
        "outputId": "6926470b-372d-40ab-9a11-74df62a57385"
      },
      "source": [
        "MAX_SENTENCE_LEN = 20\n",
        "train_dataset = PaddedSequenceDataset(train_token_ids,\n",
        "                                      np.zeros(len(train_token_ids)),\n",
        "                                      out_len=MAX_SENTENCE_LEN)\n",
        "test_dataset = PaddedSequenceDataset(test_token_ids,\n",
        "                                     np.zeros(len(test_token_ids)),\n",
        "                                     out_len=MAX_SENTENCE_LEN)\n",
        "print(train_dataset[0])"
      ],
      "execution_count": 241,
      "outputs": [
        {
          "output_type": "stream",
          "text": [
            "(tensor([ 2,  4, 45, 47, 10,  0,  0,  0,  0,  0,  0,  0,  0,  0,  0,  0,  0,  0,\n",
            "         0,  0]), tensor(0))\n"
          ],
          "name": "stdout"
        }
      ]
    },
    {
      "cell_type": "markdown",
      "metadata": {
        "id": "azF6PrQLj7J8",
        "colab_type": "text"
      },
      "source": [
        "## best model"
      ]
    },
    {
      "cell_type": "code",
      "metadata": {
        "id": "M-G46_IujHhl",
        "colab_type": "code",
        "colab": {}
      },
      "source": [
        "trainer = SkipGramNegativeSamplingTrainer(len(vocabulary), 100, MAX_SENTENCE_LEN,\n",
        "                                          radius=5, negative_samples_n=30)"
      ],
      "execution_count": 258,
      "outputs": []
    },
    {
      "cell_type": "code",
      "metadata": {
        "id": "XpvToLsajZoe",
        "colab_type": "code",
        "colab": {
          "base_uri": "https://localhost:8080/",
          "height": 1000
        },
        "outputId": "def7283e-ba35-4988-dfbc-cc8fd3acd062"
      },
      "source": [
        "best_val_loss, best_model = train_eval_loop(trainer,\n",
        "                                            train_dataset,\n",
        "                                            test_dataset,\n",
        "                                            no_loss,\n",
        "                                            lr=1e-2,\n",
        "                                            epoch_n=10,\n",
        "                                            batch_size=10,\n",
        "                                            device='cuda',\n",
        "                                            early_stopping_patience=10,\n",
        "                                            max_batches_per_epoch_train=2000,\n",
        "                                            max_batches_per_epoch_val=len(test_dataset),\n",
        "                                            lr_scheduler_ctor=lambda optim: torch.optim.lr_scheduler.ReduceLROnPlateau(optim, patience=1, verbose=True))"
      ],
      "execution_count": 259,
      "outputs": [
        {
          "output_type": "stream",
          "text": [
            "Эпоха 0\n",
            "Эпоха: 2001 итераций, 4.91 сек\n",
            "Среднее значение функции потерь на обучении 0.8875559070657218\n",
            "Среднее значение функции потерь на валидации 0.8797402788433493\n",
            "Новая лучшая модель!\n",
            "\n",
            "Эпоха 1\n",
            "Эпоха: 2001 итераций, 4.94 сек\n",
            "Среднее значение функции потерь на обучении 0.8780048510421817\n",
            "Среднее значение функции потерь на валидации 0.8759672661614968\n",
            "Новая лучшая модель!\n",
            "\n",
            "Эпоха 2\n",
            "Эпоха: 2001 итераций, 4.97 сек\n",
            "Среднее значение функции потерь на обучении 0.8750262677163139\n",
            "Среднее значение функции потерь на валидации 0.874905983015218\n",
            "Новая лучшая модель!\n",
            "\n",
            "Эпоха 3\n",
            "Эпоха: 2001 итераций, 4.87 сек\n",
            "Среднее значение функции потерь на обучении 0.8738063894945761\n",
            "Среднее значение функции потерь на валидации 0.8751114822663395\n",
            "\n",
            "Эпоха 4\n",
            "Эпоха: 2001 итераций, 4.95 сек\n",
            "Среднее значение функции потерь на обучении 0.8743369539697905\n",
            "Среднее значение функции потерь на валидации 0.8748987827031185\n",
            "Новая лучшая модель!\n",
            "Epoch     5: reducing learning rate of group 0 to 1.0000e-03.\n",
            "\n",
            "Эпоха 5\n",
            "Эпоха: 2001 итераций, 4.98 сек\n",
            "Среднее значение функции потерь на обучении 0.8707566597591574\n",
            "Среднее значение функции потерь на валидации 0.870905986614664\n",
            "Новая лучшая модель!\n",
            "\n",
            "Эпоха 6\n",
            "Эпоха: 2001 итераций, 4.99 сек\n",
            "Среднее значение функции потерь на обучении 0.8683736606397252\n",
            "Среднее значение функции потерь на валидации 0.8697508209934895\n",
            "Новая лучшая модель!\n",
            "\n",
            "Эпоха 7\n",
            "Эпоха: 2001 итераций, 4.98 сек\n",
            "Среднее значение функции потерь на обучении 0.8672364292771503\n",
            "Среднее значение функции потерь на валидации 0.8691393734356049\n",
            "Новая лучшая модель!\n",
            "\n",
            "Эпоха 8\n",
            "Эпоха: 2001 итераций, 4.94 сек\n",
            "Среднее значение функции потерь на обучении 0.8656005648182131\n",
            "Среднее значение функции потерь на валидации 0.8686240540674526\n",
            "Новая лучшая модель!\n",
            "\n",
            "Эпоха 9\n",
            "Эпоха: 2001 итераций, 5.04 сек\n",
            "Среднее значение функции потерь на обучении 0.8658999956768194\n",
            "Среднее значение функции потерь на валидации 0.8684255086656657\n",
            "Новая лучшая модель!\n",
            "\n"
          ],
          "name": "stdout"
        }
      ]
    },
    {
      "cell_type": "markdown",
      "metadata": {
        "id": "Vkm8YhNZj-0o",
        "colab_type": "text"
      },
      "source": [
        "## results"
      ]
    },
    {
      "cell_type": "code",
      "metadata": {
        "id": "cCPPJR85jaGW",
        "colab_type": "code",
        "colab": {}
      },
      "source": [
        "embeddings = Embeddings(trainer.center_emb.weight.detach().cpu().numpy(), vocabulary)"
      ],
      "execution_count": 260,
      "outputs": []
    },
    {
      "cell_type": "code",
      "metadata": {
        "id": "1jjKml2CjaJT",
        "colab_type": "code",
        "colab": {
          "base_uri": "https://localhost:8080/",
          "height": 187
        },
        "outputId": "ab698a56-6f0a-4938-808b-f9524424aa9d"
      },
      "source": [
        "embeddings.most_similar('chicken')"
      ],
      "execution_count": 261,
      "outputs": [
        {
          "output_type": "execute_result",
          "data": {
            "text/plain": [
              "[('chicken', 0.9999368),\n",
              " ('turkey', 0.63791496),\n",
              " ('thighs', 0.6275583),\n",
              " ('broth', 0.61908716),\n",
              " ('duck', 0.60757655),\n",
              " ('breast', 0.58227134),\n",
              " ('stock', 0.57310545),\n",
              " ('breasts', 0.5377855),\n",
              " ('capon', 0.53512955),\n",
              " ('drumsticks', 0.52764225)]"
            ]
          },
          "metadata": {
            "tags": []
          },
          "execution_count": 261
        }
      ]
    },
    {
      "cell_type": "code",
      "metadata": {
        "id": "6vHC5vv6jaMp",
        "colab_type": "code",
        "colab": {
          "base_uri": "https://localhost:8080/",
          "height": 187
        },
        "outputId": "ea76cafe-ef58-4f0a-9cf2-39521ccff8e4"
      },
      "source": [
        "embeddings.analogy('cake', 'cacao', 'cheese')"
      ],
      "execution_count": 262,
      "outputs": [
        {
          "output_type": "execute_result",
          "data": {
            "text/plain": [
              "[('cacao', 0.9361325),\n",
              " ('cheese', 0.8831937),\n",
              " ('bittersweet', 0.77585536),\n",
              " ('percent', 0.7611739),\n",
              " ('cotija', 0.7171925),\n",
              " ('gruyère', 0.7145411),\n",
              " ('fontina', 0.7109932),\n",
              " ('chocolate', 0.6931756),\n",
              " ('gorgonzola', 0.6906317),\n",
              " ('stilton', 0.67771685)]"
            ]
          },
          "metadata": {
            "tags": []
          },
          "execution_count": 262
        }
      ]
    },
    {
      "cell_type": "code",
      "metadata": {
        "id": "tVEfRhc7j3WC",
        "colab_type": "code",
        "colab": {
          "base_uri": "https://localhost:8080/",
          "height": 34
        },
        "outputId": "a5c0e182-201c-4df6-9a0e-e7ed7837438e"
      },
      "source": [
        "test_words = ['salad', 'fish', 'salmon', 'sauvignon', 'beef', 'pork', 'steak', 'beer', 'cake', 'coffee', 'sausage', 'wine', 'merlot', 'zinfandel', 'trout', 'chardonnay', 'champagne', 'cacao']\n",
        "test_vectors = embeddings.get_vectors(*test_words)\n",
        "print(test_vectors.shape)"
      ],
      "execution_count": 263,
      "outputs": [
        {
          "output_type": "stream",
          "text": [
            "(18, 100)\n"
          ],
          "name": "stdout"
        }
      ]
    },
    {
      "cell_type": "code",
      "metadata": {
        "id": "lgVEafosj6Qe",
        "colab_type": "code",
        "colab": {
          "base_uri": "https://localhost:8080/",
          "height": 592
        },
        "outputId": "7672b8d9-a32f-4661-a374-6938b031d988"
      },
      "source": [
        "fig, ax = plt.subplots()\n",
        "fig.set_size_inches((10, 10))\n",
        "plot_vectors(test_vectors, test_words, how='svd', ax=ax)"
      ],
      "execution_count": 264,
      "outputs": [
        {
          "output_type": "display_data",
          "data": {
            "image/png": "[encoded data removed]",
            "text/plain": [
              "<Figure size 720x720 with 1 Axes>"
            ]
          },
          "metadata": {
            "tags": [],
            "needs_background": "light"
          }
        }
      ]
    },
    {
      "cell_type": "code",
      "metadata": {
        "id": "1PFm9QUej8o-",
        "colab_type": "code",
        "colab": {}
      },
      "source": [
        ""
      ],
      "execution_count": 18,
      "outputs": []
    },
    {
      "cell_type": "markdown",
      "metadata": {
        "id": "aOAHyV7wA63F",
        "colab_type": "text"
      },
      "source": [
        "# FastText"
      ]
    },
    {
      "cell_type": "markdown",
      "metadata": {
        "id": "E4ULk0_djg2U",
        "colab_type": "text"
      },
      "source": [
        "## def func"
      ]
    },
    {
      "cell_type": "code",
      "metadata": {
        "id": "YhE4NAvCreyA",
        "colab_type": "code",
        "colab": {}
      },
      "source": [
        "def build_vocabulary_fasttext(tokenized_texts, max_size=1000000, max_doc_freq=0.8, min_count=5, pad_word=None, min_n=3, max_n=6):\n",
        "    import collections\n",
        "\n",
        "    def generate_n_gram(words):\n",
        "        result = []\n",
        "        result_buf = [[word[j:j+i] for i in range(min_n, max_n+1) if len(word) > i for j in range(len(word)-i+1)] for word in words]\n",
        "        for i in result_buf:\n",
        "            result += i\n",
        "        result = list(set(result))\n",
        "        return [f\"#{i}\" for i in result]\n",
        "    \n",
        "    word_counts = collections.defaultdict(int)\n",
        "    doc_n = 0\n",
        "\n",
        "    # посчитать количество документов, в которых употребляется каждое слово\n",
        "    # а также общее количество документов\n",
        "    for txt in tokenized_texts:\n",
        "        doc_n += 1\n",
        "        unique_text_tokens = list(set(txt))\n",
        "        # unique_text_tokens += generate_n_gram(unique_text_tokens)\n",
        "        for token in unique_text_tokens:\n",
        "            word_counts[token] += 1\n",
        "\n",
        "    # убрать слишком редкие и слишком частые слова\n",
        "    word_counts = {word: cnt for word, cnt in word_counts.items()\n",
        "                   if cnt >= min_count and cnt / doc_n <= max_doc_freq}\n",
        "\n",
        "    # отсортировать слова по убыванию частоты\n",
        "    sorted_word_counts = sorted(word_counts.items(),\n",
        "                                reverse=True,\n",
        "                                key=lambda pair: pair[1])\n",
        "\n",
        "    # добавим несуществующее слово с индексом 0 для удобства пакетной обработки\n",
        "    if pad_word is not None:\n",
        "        sorted_word_counts = [(pad_word, 0)] + sorted_word_counts\n",
        "\n",
        "    # если у нас по прежнему слишком много слов, оставить только max_size самых частотных\n",
        "    if len(word_counts) > max_size:\n",
        "        sorted_word_counts = sorted_word_counts[:max_size]\n",
        "    \n",
        "    # нумеруем слова\n",
        "    word2id = {word: i for i, (word, _) in enumerate(sorted_word_counts)}\n",
        "\n",
        "    subword_counts = collections.defaultdict(int)\n",
        "    for txt in tokenized_texts:\n",
        "        unique_text_tokens = list(set(txt))\n",
        "        # unique_text_tokens += generate_n_gram(unique_text_tokens)\n",
        "        for token in unique_text_tokens:\n",
        "            if token not in word2id:\n",
        "                continue\n",
        "            if word2id[token] == 0:\n",
        "                continue\n",
        "            subword = generate_n_gram([token])\n",
        "            for i in subword:\n",
        "                subword_counts[i] += 1\n",
        "\n",
        "    subword_counts = {word: cnt for word, cnt in subword_counts.items()\n",
        "                      if cnt >= min_count and cnt / doc_n <= max_doc_freq}\n",
        "    sorted_subword_counts = sorted(subword_counts.items(),\n",
        "                                   reverse=True,\n",
        "                                   key=lambda pair: pair[1])\n",
        "    if len(subword_counts) > max_size:\n",
        "        sorted_subword_counts = sorted_subword_counts[:max_size]\n",
        "    \n",
        "    subword_idx = len(word2id)\n",
        "    subword2id = {word: i+subword_idx for i, (word, _) in enumerate(sorted_subword_counts)}\n",
        "    word2id.update(subword2id)\n",
        "\n",
        "    # нормируем частоты слов\n",
        "    word2freq = np.array([cnt / doc_n for _, cnt in sorted_word_counts], dtype='float32')\n",
        "\n",
        "    token2subwords = {word2id[word] : [word2id[i] for i in generate_n_gram([word]) if i in word2id] for word in word2id if word[0] != '#'}\n",
        "\n",
        "    return word2id, word2freq, token2subwords, subword_idx"
      ],
      "execution_count": 265,
      "outputs": []
    },
    {
      "cell_type": "code",
      "metadata": {
        "id": "FxS086Le5YhV",
        "colab_type": "code",
        "colab": {}
      },
      "source": [
        "class SkipGramNegativeSamplingTrainer_fasttext(nn.Module):\n",
        "    def __init__(self, vocab_size, emb_size, sentence_len, token2subwords, radius=5, negative_samples_n=5):\n",
        "        super().__init__()\n",
        "        self.token2subwords = token2subwords\n",
        "        self.vocab_size = vocab_size\n",
        "        self.negative_samples_n = negative_samples_n\n",
        "\n",
        "        self.center_emb = nn.Embedding(self.vocab_size, emb_size, padding_idx=0)\n",
        "        self.center_emb.weight.data.uniform_(-1.0 / emb_size, 1.0 / emb_size)\n",
        "        self.center_emb.weight.data[0] = 0\n",
        "\n",
        "        self.context_emb = nn.Embedding(self.vocab_size, emb_size, padding_idx=0)        \n",
        "        self.context_emb.weight.data.uniform_(-1.0 / emb_size, 1.0 / emb_size)\n",
        "        self.context_emb.weight.data[0] = 0\n",
        "\n",
        "        self.positive_sim_mask = make_diag_mask(sentence_len, radius)\n",
        "    \n",
        "    def forward(self, sentences):\n",
        "        \"\"\"sentences - Batch x MaxSentLength - идентификаторы токенов\"\"\"\n",
        "        batch_size = sentences.shape[0]\n",
        "        center_embeddings = self.center_emb(sentences)  # Batch x MaxSentLength x EmbSize\n",
        "\n",
        "        for i_sample in range(sentences.shape[0]):\n",
        "            for i_token in range(sentences.shape[1]):\n",
        "                if int(sentences[i_sample][i_token]) == 0:\n",
        "                    continue\n",
        "                if int(sentences[i_sample][i_token]) not in self.token2subwords:\n",
        "                    continue\n",
        "                subwords = self.token2subwords[int(sentences[i_sample][i_token])]\n",
        "                if not subwords:\n",
        "                    continue\n",
        "                subwords_embeddings = self.center_emb(torch.Tensor(subwords).type(torch.cuda.LongTensor))\n",
        "                center_embeddings[i_sample][i_token] = torch.div(torch.add(center_embeddings[i_sample][i_token], subwords_embeddings.mean(0)), 2.0)\n",
        "\n",
        "        # оценить сходство с настоящими соседними словами\n",
        "        positive_context_embs = self.context_emb(sentences).permute(0, 2, 1)  # Batch x EmbSize x MaxSentLength\n",
        "        positive_sims = torch.bmm(center_embeddings, positive_context_embs)  # Batch x MaxSentLength x MaxSentLength\n",
        "        positive_probs = torch.sigmoid(positive_sims)\n",
        "\n",
        "        # увеличить оценку вероятности встретить эти пары слов вместе\n",
        "        positive_mask = self.positive_sim_mask.to(positive_sims.device)\n",
        "        positive_loss = F.binary_cross_entropy(positive_probs * positive_mask,\n",
        "                                               positive_mask.expand_as(positive_probs))\n",
        "\n",
        "        # выбрать случайные \"отрицательные\" слова\n",
        "        negative_words = torch.randint(1, self.vocab_size,\n",
        "                                       size=(batch_size, self.negative_samples_n),\n",
        "                                       device=sentences.device)  # Batch x NegSamplesN\n",
        "        negative_context_embs = self.context_emb(negative_words).permute(0, 2, 1)  # Batch x EmbSize x NegSamplesN\n",
        "        negative_sims = torch.bmm(center_embeddings, negative_context_embs)  # Batch x MaxSentLength x NegSamplesN\n",
        "        \n",
        "        # уменьшить оценку вероятность встретить эти пары слов вместе\n",
        "        negative_loss = F.binary_cross_entropy_with_logits(negative_sims,\n",
        "                                                           negative_sims.new_zeros(negative_sims.shape))\n",
        "\n",
        "        return positive_loss + negative_loss\n",
        "\n",
        "\n",
        "def no_loss(pred, target):\n",
        "    \"\"\"Фиктивная функция потерь - когда модель сама считает функцию потерь\"\"\"\n",
        "    return pred"
      ],
      "execution_count": 266,
      "outputs": []
    },
    {
      "cell_type": "markdown",
      "metadata": {
        "id": "r-nJhWjWjjwk",
        "colab_type": "text"
      },
      "source": [
        "## data processing"
      ]
    },
    {
      "cell_type": "code",
      "metadata": {
        "id": "gzDcemG7A6XX",
        "colab_type": "code",
        "colab": {
          "base_uri": "https://localhost:8080/",
          "height": 238
        },
        "outputId": "da8807eb-0930-46c8-919e-34bf91209f06"
      },
      "source": [
        "full_dataset = list(pd.read_csv('./stepik-dl-nlp/datasets/nyt-ingredients-snapshot-2015.csv')['input'].dropna())\n",
        "random.shuffle(full_dataset)\n",
        "\n",
        "TRAIN_VAL_SPLIT = int(len(full_dataset) * 0.7)\n",
        "train_source = full_dataset[:TRAIN_VAL_SPLIT]\n",
        "test_source = full_dataset[TRAIN_VAL_SPLIT:]\n",
        "print(\"Обучающая выборка\", len(train_source))\n",
        "print(\"Тестовая выборка\", len(test_source))\n",
        "print()\n",
        "print('\\n'.join(train_source[:10]))"
      ],
      "execution_count": 267,
      "outputs": [
        {
          "output_type": "stream",
          "text": [
            "Обучающая выборка 125344\n",
            "Тестовая выборка 53719\n",
            "\n",
            "1 pound medium potatoes, like yellow gold, Washington or Idaho\n",
            "3 scallions, trimmed and chopped\n",
            "1 medium onion, finely chopped\n",
            "Kosher salt, as needed\n",
            "Fresh tarragon leaves\n",
            "3/4 pound mushrooms, trimmed and diced\n",
            "1 1/2 to 2 tablespoons tomato paste\n",
            "2 sprigs fresh thyme or 1/2 teaspoon dried\n",
            "4 peaches, halved and pitted\n",
            "1 teaspoon olive oil\n"
          ],
          "name": "stdout"
        }
      ]
    },
    {
      "cell_type": "code",
      "metadata": {
        "id": "PD6HJC7ZA6ef",
        "colab_type": "code",
        "colab": {
          "base_uri": "https://localhost:8080/",
          "height": 187
        },
        "outputId": "c20445fc-2653-4ef0-b5cc-fab0b413be3e"
      },
      "source": [
        "# токенизируем\n",
        "train_tokenized = tokenize_corpus(train_source)\n",
        "test_tokenized = tokenize_corpus(test_source)\n",
        "print('\\n'.join(' '.join(sent) for sent in train_tokenized[:10]))"
      ],
      "execution_count": 268,
      "outputs": [
        {
          "output_type": "stream",
          "text": [
            "pound medium potatoes like yellow gold washington idaho\n",
            "scallions trimmed chopped\n",
            "medium onion finely chopped\n",
            "kosher salt needed\n",
            "fresh tarragon leaves\n",
            "pound mushrooms trimmed diced\n",
            "tablespoons tomato paste\n",
            "sprigs fresh thyme teaspoon dried\n",
            "peaches halved pitted\n",
            "teaspoon olive\n"
          ],
          "name": "stdout"
        }
      ]
    },
    {
      "cell_type": "code",
      "metadata": {
        "id": "9FY6Uuq8A6hA",
        "colab_type": "code",
        "colab": {
          "base_uri": "https://localhost:8080/",
          "height": 71
        },
        "outputId": "98dd9d76-ffb9-41e4-c53a-87cb8d727717"
      },
      "source": [
        "# строим словарь\n",
        "vocabulary, word_doc_freq, token2subwords, subword_idx = build_vocabulary_fasttext(train_tokenized, max_doc_freq=0.9, min_count=5, pad_word='<PAD>')\n",
        "print(\"Размер словаря\", len(vocabulary))\n",
        "print(list(vocabulary.items())[:30])"
      ],
      "execution_count": 269,
      "outputs": [
        {
          "output_type": "stream",
          "text": [
            "Размер словаря 15916\n",
            "[('<PAD>', 0), ('tablespoons', 1), ('teaspoon', 2), ('chopped', 3), ('salt', 4), ('pepper', 5), ('cups', 6), ('ground', 7), ('tablespoon', 8), ('fresh', 9), ('taste', 10), ('freshly', 11), ('pound', 12), ('olive', 13), ('garlic', 14), ('peeled', 15), ('finely', 16), ('teaspoons', 17), ('minced', 18), ('large', 19), ('butter', 20), ('ounces', 21), ('black', 22), ('sugar', 23), ('about', 24), ('pounds', 25), ('sliced', 26), ('juice', 27), ('into', 28), ('white', 29)]\n"
          ],
          "name": "stdout"
        }
      ]
    },
    {
      "cell_type": "code",
      "metadata": {
        "id": "MGK4teuO2msY",
        "colab_type": "code",
        "colab": {
          "base_uri": "https://localhost:8080/",
          "height": 187
        },
        "outputId": "19c0804d-93d5-4b33-ae1f-4b207b41f56e"
      },
      "source": [
        "# отображаем в номера токенов\n",
        "train_token_ids = texts_to_token_ids(train_tokenized, vocabulary)\n",
        "test_token_ids = texts_to_token_ids(test_tokenized, vocabulary)\n",
        "\n",
        "print('\\n'.join(' '.join(str(t) for t in sent)\n",
        "                for sent in train_token_ids[:10]))"
      ],
      "execution_count": 270,
      "outputs": [
        {
          "output_type": "stream",
          "text": [
            "12 36 90 147 140 431 1464 544\n",
            "93 73 3\n",
            "36 33 16 3\n",
            "58 4 135\n",
            "9 204 34\n",
            "12 113 73 49\n",
            "1 120 158\n",
            "82 9 63 2 43\n",
            "535 119 173\n",
            "2 13\n"
          ],
          "name": "stdout"
        }
      ]
    },
    {
      "cell_type": "code",
      "metadata": {
        "id": "1JG0lKCw41zf",
        "colab_type": "code",
        "colab": {
          "base_uri": "https://localhost:8080/",
          "height": 51
        },
        "outputId": "60a03e73-8c96-4637-bc34-79ff5d91bf56"
      },
      "source": [
        "MAX_SENTENCE_LEN = 20\n",
        "train_dataset = PaddedSequenceDataset(train_token_ids,\n",
        "                                      np.zeros(len(train_token_ids)),\n",
        "                                      out_len=MAX_SENTENCE_LEN)\n",
        "test_dataset = PaddedSequenceDataset(test_token_ids,\n",
        "                                     np.zeros(len(test_token_ids)),\n",
        "                                     out_len=MAX_SENTENCE_LEN)\n",
        "print(train_dataset[0])"
      ],
      "execution_count": 271,
      "outputs": [
        {
          "output_type": "stream",
          "text": [
            "(tensor([  12,   36,   90,  147,  140,  431, 1464,  544,    0,    0,    0,    0,\n",
            "           0,    0,    0,    0,    0,    0,    0,    0]), tensor(0))\n"
          ],
          "name": "stdout"
        }
      ]
    },
    {
      "cell_type": "markdown",
      "metadata": {
        "id": "6aY6Jdyajsrc",
        "colab_type": "text"
      },
      "source": [
        "## best model"
      ]
    },
    {
      "cell_type": "code",
      "metadata": {
        "id": "P4NzrayB5VVm",
        "colab_type": "code",
        "colab": {}
      },
      "source": [
        "trainer_ft = SkipGramNegativeSamplingTrainer_fasttext(len(vocabulary), 100, MAX_SENTENCE_LEN, token2subwords,\n",
        "                                                   radius=5, negative_samples_n=30)"
      ],
      "execution_count": 272,
      "outputs": []
    },
    {
      "cell_type": "code",
      "metadata": {
        "id": "vo4-KzYG5bRr",
        "colab_type": "code",
        "colab": {
          "base_uri": "https://localhost:8080/",
          "height": 1000
        },
        "outputId": "f94e1ac8-cbf4-4f54-da33-6365ffa00092"
      },
      "source": [
        "best_val_loss, best_model = train_eval_loop(trainer_ft,\n",
        "                                            train_dataset,\n",
        "                                            test_dataset,\n",
        "                                            no_loss,\n",
        "                                            lr=9e-3,\n",
        "                                            epoch_n=10,\n",
        "                                            batch_size=10,\n",
        "                                            device='cuda',\n",
        "                                            early_stopping_patience=10,\n",
        "                                            max_batches_per_epoch_train=2000,\n",
        "                                            max_batches_per_epoch_val=len(test_dataset),\n",
        "\n",
        "                                            lr_scheduler_ctor=lambda optim: torch.optim.lr_scheduler.ReduceLROnPlateau(optim, patience=1, verbose=True))"
      ],
      "execution_count": 273,
      "outputs": [
        {
          "output_type": "stream",
          "text": [
            "Эпоха 0\n",
            "Эпоха: 2001 итераций, 68.51 сек\n",
            "Среднее значение функции потерь на обучении 0.8652459300499686\n",
            "Среднее значение функции потерь на валидации 0.8550764942959184\n",
            "Новая лучшая модель!\n",
            "\n",
            "Эпоха 1\n",
            "Эпоха: 2001 итераций, 68.95 сек\n",
            "Среднее значение функции потерь на обучении 0.8531568174300225\n",
            "Среднее значение функции потерь на валидации 0.8529351842509928\n",
            "Новая лучшая модель!\n",
            "\n",
            "Эпоха 2\n",
            "Эпоха: 2001 итераций, 69.06 сек\n",
            "Среднее значение функции потерь на обучении 0.8520872376669293\n",
            "Среднее значение функции потерь на валидации 0.8518431064071534\n",
            "Новая лучшая модель!\n",
            "\n",
            "Эпоха 3\n",
            "Эпоха: 2001 итераций, 69.61 сек\n",
            "Среднее значение функции потерь на обучении 0.8502469174508034\n",
            "Среднее значение функции потерь на валидации 0.8517818017096459\n",
            "Новая лучшая модель!\n",
            "\n",
            "Эпоха 4\n",
            "Эпоха: 2001 итераций, 69.22 сек\n",
            "Среднее значение функции потерь на обучении 0.8494837748474148\n",
            "Среднее значение функции потерь на валидации 0.851544262742872\n",
            "Новая лучшая модель!\n",
            "\n",
            "Эпоха 5\n",
            "Эпоха: 2001 итераций, 69.07 сек\n",
            "Среднее значение функции потерь на обучении 0.8500516271960551\n",
            "Среднее значение функции потерь на валидации 0.851667762468399\n",
            "\n",
            "Эпоха 6\n",
            "Эпоха: 2001 итераций, 68.56 сек\n",
            "Среднее значение функции потерь на обучении 0.8502370560246667\n",
            "Среднее значение функции потерь на валидации 0.8518717895336144\n",
            "Epoch     7: reducing learning rate of group 0 to 9.0000e-04.\n",
            "\n",
            "Эпоха 7\n",
            "Эпоха: 2001 итераций, 67.66 сек\n",
            "Среднее значение функции потерь на обучении 0.8507522607612229\n",
            "Среднее значение функции потерь на валидации 0.850441010703547\n",
            "Новая лучшая модель!\n",
            "\n",
            "Эпоха 8\n",
            "Эпоха: 2001 итераций, 68.36 сек\n",
            "Среднее значение функции потерь на обучении 0.8476497565192738\n",
            "Среднее значение функции потерь на валидации 0.8498574575979321\n",
            "Новая лучшая модель!\n",
            "\n",
            "Эпоха 9\n",
            "Эпоха: 2001 итераций, 68.19 сек\n",
            "Среднее значение функции потерь на обучении 0.8475456339070226\n",
            "Среднее значение функции потерь на валидации 0.8494163249534009\n",
            "Новая лучшая модель!\n",
            "\n"
          ],
          "name": "stdout"
        }
      ]
    },
    {
      "cell_type": "markdown",
      "metadata": {
        "id": "2zz7b3mNjw8z",
        "colab_type": "text"
      },
      "source": [
        "## results"
      ]
    },
    {
      "cell_type": "code",
      "metadata": {
        "id": "uyxFX9GrOMHD",
        "colab_type": "code",
        "colab": {}
      },
      "source": [
        "# embeddings = Embeddings(trainer_ft.center_emb.weight.detach().cpu().numpy(), vocabulary)\n",
        "\n",
        "vocabulary_without_subword = {k : vocabulary[k] for k in vocabulary if vocabulary[k] < subword_idx}\n",
        "weight_without_subword = trainer_ft.center_emb.weight.detach().cpu().numpy()[:subword_idx]\n",
        "embeddings = Embeddings(weight_without_subword, vocabulary_without_subword)"
      ],
      "execution_count": 274,
      "outputs": []
    },
    {
      "cell_type": "code",
      "metadata": {
        "id": "akfKGJ0dUZmh",
        "colab_type": "code",
        "colab": {
          "base_uri": "https://localhost:8080/",
          "height": 187
        },
        "outputId": "c1c7803d-2046-43b5-a587-56969264f3bb"
      },
      "source": [
        "embeddings.most_similar('chicken')"
      ],
      "execution_count": 275,
      "outputs": [
        {
          "output_type": "execute_result",
          "data": {
            "text/plain": [
              "[('chicken', 0.99994564),\n",
              " ('duck', 0.6059493),\n",
              " ('stock', 0.6051731),\n",
              " ('breasts', 0.5995306),\n",
              " ('broth', 0.5564983),\n",
              " ('skinless', 0.5235989),\n",
              " ('turkey', 0.52202076),\n",
              " ('veal', 0.514833),\n",
              " ('beef', 0.5082549),\n",
              " ('boneless', 0.49188977)]"
            ]
          },
          "metadata": {
            "tags": []
          },
          "execution_count": 275
        }
      ]
    },
    {
      "cell_type": "code",
      "metadata": {
        "id": "T1NDDlTtUZsO",
        "colab_type": "code",
        "colab": {
          "base_uri": "https://localhost:8080/",
          "height": 187
        },
        "outputId": "b27de4bf-d46f-409f-ca0f-24ef1d9646a3"
      },
      "source": [
        "embeddings.analogy('cake', 'cacao', 'cheese')"
      ],
      "execution_count": 276,
      "outputs": [
        {
          "output_type": "execute_result",
          "data": {
            "text/plain": [
              "[('cacao', 1.1598519),\n",
              " ('cheese', 0.7774274),\n",
              " ('gruyère', 0.71127063),\n",
              " ('mozzarella', 0.69770014),\n",
              " ('rennet', 0.6839302),\n",
              " ('cotija', 0.65238994),\n",
              " ('gouda', 0.6471017),\n",
              " ('slab', 0.64538276),\n",
              " ('farmer', 0.6325748),\n",
              " ('bittersweet', 0.6236005)]"
            ]
          },
          "metadata": {
            "tags": []
          },
          "execution_count": 276
        }
      ]
    },
    {
      "cell_type": "code",
      "metadata": {
        "id": "ah0Z_uGzUZxh",
        "colab_type": "code",
        "colab": {
          "base_uri": "https://localhost:8080/",
          "height": 34
        },
        "outputId": "1f9db7cb-acd2-4ebc-e917-929238055c76"
      },
      "source": [
        "test_words = ['salad', 'fish', 'salmon', 'sauvignon', 'beef', 'pork', 'steak', 'beer', 'cake', 'coffee', 'sausage', 'wine', 'merlot', 'zinfandel', 'trout', 'chardonnay', 'champagne', 'cacao']\n",
        "test_vectors = embeddings.get_vectors(*test_words)\n",
        "print(test_vectors.shape)"
      ],
      "execution_count": 277,
      "outputs": [
        {
          "output_type": "stream",
          "text": [
            "(18, 100)\n"
          ],
          "name": "stdout"
        }
      ]
    },
    {
      "cell_type": "code",
      "metadata": {
        "id": "ZD-M0gzMUZvN",
        "colab_type": "code",
        "colab": {
          "base_uri": "https://localhost:8080/",
          "height": 592
        },
        "outputId": "d903ca8c-419b-435b-837c-dd187b23dd5d"
      },
      "source": [
        "fig, ax = plt.subplots()\n",
        "fig.set_size_inches((10, 10))\n",
        "plot_vectors(test_vectors, test_words, how='svd', ax=ax)"
      ],
      "execution_count": 278,
      "outputs": [
        {
          "output_type": "display_data",
          "data": {
            "image/png": "[encoded data removed]",
            "text/plain": [
              "<Figure size 720x720 with 1 Axes>"
            ]
          },
          "metadata": {
            "tags": [],
            "needs_background": "light"
          }
        }
      ]
    },
    {
      "cell_type": "code",
      "metadata": {
        "id": "bTaBzrRwUkQi",
        "colab_type": "code",
        "colab": {}
      },
      "source": [
        ""
      ],
      "execution_count": null,
      "outputs": []
    },
    {
      "cell_type": "markdown",
      "metadata": {
        "id": "ILCln27zkbr1",
        "colab_type": "text"
      },
      "source": [
        "# FastText (Gensim)"
      ]
    },
    {
      "cell_type": "code",
      "metadata": {
        "id": "ZfZF-v4GoLkj",
        "colab_type": "code",
        "colab": {}
      },
      "source": [
        "import gensim"
      ],
      "execution_count": 229,
      "outputs": []
    },
    {
      "cell_type": "code",
      "metadata": {
        "id": "BtZRTPUikdgW",
        "colab_type": "code",
        "colab": {}
      },
      "source": [
        "word2vec = gensim.models.FastText(sentences=train_tokenized, size=100,\n",
        "                                  window=5, min_count=5, workers=4,\n",
        "                                  sg=1, iter=10)"
      ],
      "execution_count": 230,
      "outputs": []
    },
    {
      "cell_type": "code",
      "metadata": {
        "id": "rqcHyfmBkeKc",
        "colab_type": "code",
        "colab": {
          "base_uri": "https://localhost:8080/",
          "height": 241
        },
        "outputId": "252714b3-2dc3-4d89-8c97-532ff059b20d"
      },
      "source": [
        "word2vec.wv.most_similar('chicken')"
      ],
      "execution_count": 231,
      "outputs": [
        {
          "output_type": "stream",
          "text": [
            "/usr/local/lib/python3.6/dist-packages/gensim/matutils.py:737: FutureWarning: Conversion of the second argument of issubdtype from `int` to `np.signedinteger` is deprecated. In future, it will be treated as `np.int64 == np.dtype(int).type`.\n",
            "  if np.issubdtype(vec.dtype, np.int):\n"
          ],
          "name": "stderr"
        },
        {
          "output_type": "execute_result",
          "data": {
            "text/plain": [
              "[('chickens', 0.9146710634231567),\n",
              " ('chick', 0.831925630569458),\n",
              " ('drumstick', 0.7516579627990723),\n",
              " ('duck', 0.7484409809112549),\n",
              " ('turkey', 0.7366585731506348),\n",
              " ('thighs', 0.7172189950942993),\n",
              " ('muscovy', 0.7136343121528625),\n",
              " ('drumsticks', 0.7080140113830566),\n",
              " ('quail', 0.6909353733062744),\n",
              " ('breasts', 0.6872392296791077)]"
            ]
          },
          "metadata": {
            "tags": []
          },
          "execution_count": 231
        }
      ]
    },
    {
      "cell_type": "code",
      "metadata": {
        "id": "G-C5vTzLkeNN",
        "colab_type": "code",
        "colab": {}
      },
      "source": [
        "gensim_words = [w for w in test_words if w in word2vec.wv.vocab]\n",
        "gensim_vectors = np.stack([word2vec.wv[w] for w in gensim_words])"
      ],
      "execution_count": 232,
      "outputs": []
    },
    {
      "cell_type": "code",
      "metadata": {
        "id": "ylxf1Vlao9Bo",
        "colab_type": "code",
        "colab": {
          "base_uri": "https://localhost:8080/",
          "height": 592
        },
        "outputId": "913b7469-b738-426a-ce06-1400f71bde5b"
      },
      "source": [
        "fig, ax = plt.subplots()\n",
        "fig.set_size_inches((10, 10))\n",
        "plot_vectors(gensim_vectors, test_words, how='svd', ax=ax)"
      ],
      "execution_count": 233,
      "outputs": [
        {
          "output_type": "display_data",
          "data": {
            "image/png": "[encoded data removed]",
            "text/plain": [
              "<Figure size 720x720 with 1 Axes>"
            ]
          },
          "metadata": {
            "tags": [],
            "needs_background": "light"
          }
        }
      ]
    },
    {
      "cell_type": "code",
      "metadata": {
        "id": "VUGvvZPjpAN1",
        "colab_type": "code",
        "colab": {}
      },
      "source": [
        ""
      ],
      "execution_count": null,
      "outputs": []
    }
  ]
}